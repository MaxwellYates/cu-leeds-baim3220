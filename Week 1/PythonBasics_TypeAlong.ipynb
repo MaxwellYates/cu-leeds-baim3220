{
 "cells": [
  {
   "cell_type": "markdown",
   "metadata": {},
   "source": [
    "# Python Basics - Student Notes\n",
    "***\n",
    "## Learning Objectives\n",
    ">- In this lesson, we will learn:\n",
    "        1. How to use jupyter notebooks to enter expressions in Python\n",
    "        2. Use Python to perform math operations \n",
    "        3. Work with common data types (integers, floating-point, strings, etc)\n",
    "        4. Store values in variables\n",
    "        5. Basic functions (print(), len(), input(), etc)\n",
    "        6. Write your first Python program! \n",
    "        \n",
    "## Modules covered in this lesson: \n",
    ">- none\n",
    "\n",
    "## Links to topics and functions:\n",
    ">- `Entering Expressions` <a id='Entering Expressions'></a>\n",
    "[Basic Python Functions](#Entering-Expressions)\n",
    ">- `Math Operators` <a id='MathOps'></a>\n",
    "[Math Ops](#Math-Operators-in-Python)\n",
    ">- `Common Data Types` <a id='DataTypes'></a> [Data Types](#Common-Data-Types)\n",
    "\n",
    ">- `print()` <a id='print()'></a>\n",
    "[print() Function](#Basic-Python-Functions) \n",
    ">- `input()` <a id='input()'></a>\n",
    "[input() Function](#Basic-Python-Functions)\n",
    ">- `len()` <a id='len()'></a>[len() Function](#Basic-Python-Functions)\n",
    ">- `str()` <a id='str()'></a>\n",
    "[str() Function](#Basic-Python-Functions)\n",
    ">- `int()` <a id='int()'></a>\n",
    "[int() Function](#Basic-Python-Functions)\n",
    ">- `float()` <a id='float()'></a>\n",
    "[float() Function](#Basic-Python-Functions)\n",
    "\n",
    "\n",
    "### Path to course python folder: https://github.com/staylorx/cu-leeds-baim3220\n",
    "#### References: Sweigart(2015, pp. 13-28)"
   ]
  },
  {
   "cell_type": "markdown",
   "metadata": {},
   "source": [
    "### Narration Videos:\n",
    "\n",
    "- [Video 1/4](https://youtu.be/w4kyKWuv8AE)\n",
    "- [Video 2/4](https://youtu.be/dva_V52d3Qs)\n",
    "- [Video 3/4](https://youtu.be/3QD3q-W7YnE)\n",
    "- [Video 4/4](https://youtu.be/vHrBMrUHB9A)"
   ]
  },
  {
   "cell_type": "markdown",
   "metadata": {},
   "source": [
    "# Navigating Jupyter Basics \n",
    "1. Green highlighted cell: this means you are in edit mode\n",
    "    - Edit mode is where you will enter text or code\n",
    "    - In edit mode you enter text similar to a normal text editor\n",
    "2. Grey highlighted cell means you are in command mode: \n",
    "    - Allows you to edit the notebook as a whole\n",
    "    - Add/delete cells (type `a` to insert cell above, `b` insert cell below)\n",
    "    - Change cell to `code` cell by typing `y`\n",
    "    - Change cell to `markdown` cell by typing `m`\n",
    "    - Typing `dd` will in command mode will delete a cell\n",
    "3. Running Code\n",
    "    - `ctrl + enter` will run the code and keep you in the current cell\n",
    "    - `alt + enter` will run the code and take you to a new cell"
   ]
  },
  {
   "cell_type": "markdown",
   "metadata": {},
   "source": [
    "### Exercise: Navigating Jupyter\n",
    "- Add a cell above this one\n",
    "- Add a cell below this one\n",
    "- Change the cell above this one to a markdown cell\n",
    "- Change the cell below this one to a code cell\n",
    "- Delete the cells "
   ]
  },
  {
   "cell_type": "markdown",
   "metadata": {},
   "source": [
    "# Entering Expressions"
   ]
  },
  {
   "cell_type": "code",
   "execution_count": null,
   "metadata": {},
   "outputs": [],
   "source": []
  },
  {
   "cell_type": "code",
   "execution_count": null,
   "metadata": {},
   "outputs": [],
   "source": []
  },
  {
   "cell_type": "code",
   "execution_count": null,
   "metadata": {},
   "outputs": [],
   "source": []
  },
  {
   "cell_type": "markdown",
   "metadata": {},
   "source": [
    "#### Note: In python `2+2` is called an *expression* which consist of *values* and *operators*.\n",
    "\n",
    "Q: What are the values in the previous expression?\n",
    "\n",
    "Q: What was the operator in the previous expression?"
   ]
  },
  {
   "cell_type": "markdown",
   "metadata": {},
   "source": [
    "# Math Operators in Python\n",
    "### Python follows the standard mathmatical order of operations\n",
    "The table below lists the math operators in the order of opertations:\n",
    "\n",
    "\n",
    "|Operator | Operation     | Example | Evaluates to...|\n",
    "|:-------:|:---------:    |:-------:|:--------------:|\n",
    "|**       |Exponent       |2 ** 3   |8               |\n",
    "|*        |Multiplication |3 * 5    |15              |\n",
    "|/        |Division       |22 / 8   |2.75            |\n",
    "|//       |Integer Divsion|22 // 8  |2               |\n",
    "|%        |Modulus        |22 % 8   |6               |\n",
    "|-        |Subtraction    |5 - 2    |3               |\n",
    "|+        |Addition       |2 + 2    |4               |\n",
    "\n",
    "Lets work through some examples and get a refresher on our mathemtical order of operations. "
   ]
  },
  {
   "cell_type": "code",
   "execution_count": null,
   "metadata": {},
   "outputs": [],
   "source": []
  },
  {
   "cell_type": "code",
   "execution_count": null,
   "metadata": {},
   "outputs": [],
   "source": []
  },
  {
   "cell_type": "code",
   "execution_count": null,
   "metadata": {},
   "outputs": [],
   "source": []
  },
  {
   "cell_type": "code",
   "execution_count": null,
   "metadata": {},
   "outputs": [],
   "source": []
  },
  {
   "cell_type": "code",
   "execution_count": null,
   "metadata": {},
   "outputs": [],
   "source": []
  },
  {
   "cell_type": "code",
   "execution_count": null,
   "metadata": {},
   "outputs": [],
   "source": []
  },
  {
   "cell_type": "code",
   "execution_count": null,
   "metadata": {},
   "outputs": [],
   "source": [
    " "
   ]
  },
  {
   "cell_type": "code",
   "execution_count": null,
   "metadata": {},
   "outputs": [],
   "source": []
  },
  {
   "cell_type": "markdown",
   "metadata": {},
   "source": [
    "#### On your own: do the step by step math in the previous expression showing the correct order of operations"
   ]
  },
  {
   "cell_type": "markdown",
   "metadata": {},
   "source": [
    "# Common Data Types\n",
    "\n",
    ">- Integer\n",
    ">- Floating-Point\n",
    ">- String\n",
    "\n",
    "Definition: a *data type* is a category for values, and every value belongs to exactly one data type. \n",
    "\n",
    "Definition: The *int* (pronounced *integer*) data type indicates values that are whole numbers (e.g., 1, 5, -20, -10, etc)\n",
    "\n",
    "Definition: The *float* data type indicates numbers that have a decimal point (e.g., 15.2, 20.1, -10.0, etc)\n",
    "\n",
    "Definition: The *str* (pronounced *string*) data type indicates text values (e.g., 'Hello', 'World', 'Hello world', etc)\n",
    ">- Note: Always surround string data with single (') or double (\") quote charecters\n",
    "\n"
   ]
  },
  {
   "cell_type": "markdown",
   "metadata": {},
   "source": [
    "## Exercises:  \n",
    "1. Create new cells below this one and complete the following. \n",
    " - Add two integers together. Note the data type returned\n",
    " - Add two floating points together. Note the data type returned. \n",
    " - Add an integer and a floating point together. Note the data type returned. "
   ]
  },
  {
   "cell_type": "code",
   "execution_count": null,
   "metadata": {},
   "outputs": [],
   "source": []
  },
  {
   "cell_type": "markdown",
   "metadata": {},
   "source": [
    "## String Concatenation and Replication\n",
    ">- While the `+` operator adds two numbers, when used on strings it joins the strings as the *string concatenation* operator. \n",
    ">- The `*` operator multiplies two numbers, but when used on strings it becomes the *string replication* operator. "
   ]
  },
  {
   "cell_type": "code",
   "execution_count": null,
   "metadata": {},
   "outputs": [],
   "source": []
  },
  {
   "cell_type": "code",
   "execution_count": null,
   "metadata": {},
   "outputs": [],
   "source": []
  },
  {
   "cell_type": "code",
   "execution_count": null,
   "metadata": {},
   "outputs": [],
   "source": []
  },
  {
   "cell_type": "markdown",
   "metadata": {},
   "source": [
    "# Storing Values in Variables\n",
    "\n",
    "Definition: a *variable* is used to store a single value in the computer's memory\n",
    "\n",
    "Definition: an *assignment statement* is a variable name, an `=` sign, and the value to be stored.  \n",
    "\n",
    "Variable Name Rules\n",
    "1. Variable names can only be one word.\n",
    "2. Variable names can use only letter, numbers, and the underscore `_` charecter.\n",
    "3. Variable names cannot begin with a number.\n",
    "\n",
    "Note1: variable names are case-sensitive. For example, firstName is different than FirstName is different than Firstname.\n",
    "\n",
    "Note2: a good variable name describes the data it contains. "
   ]
  },
  {
   "cell_type": "code",
   "execution_count": null,
   "metadata": {},
   "outputs": [],
   "source": []
  },
  {
   "cell_type": "markdown",
   "metadata": {},
   "source": [
    "Note: once you asign a variable a value, you can use the variable name in other expressions with other variables and values. "
   ]
  },
  {
   "cell_type": "code",
   "execution_count": null,
   "metadata": {},
   "outputs": [],
   "source": []
  },
  {
   "cell_type": "code",
   "execution_count": null,
   "metadata": {},
   "outputs": [],
   "source": []
  },
  {
   "cell_type": "code",
   "execution_count": null,
   "metadata": {},
   "outputs": [],
   "source": []
  },
  {
   "cell_type": "code",
   "execution_count": null,
   "metadata": {},
   "outputs": [],
   "source": []
  },
  {
   "cell_type": "code",
   "execution_count": null,
   "metadata": {},
   "outputs": [],
   "source": []
  },
  {
   "cell_type": "code",
   "execution_count": null,
   "metadata": {},
   "outputs": [],
   "source": []
  },
  {
   "cell_type": "code",
   "execution_count": null,
   "metadata": {},
   "outputs": [],
   "source": []
  },
  {
   "cell_type": "code",
   "execution_count": null,
   "metadata": {},
   "outputs": [],
   "source": []
  },
  {
   "cell_type": "markdown",
   "metadata": {},
   "source": [
    "# Basic Python Functions\n",
    "\n",
    ">- print(), Displays the string value inside the parentheses on the screen. \n",
    ">- input(), Waits for the user to type something on the keyboard and press enter\n",
    ">- len(), Evaluates the number of characters in a string or variable containing a string\n",
    ">- str(), converts a data  type to a string\n",
    ">- int(), this function can convert a number stored as a string to an integer. It also can take a floating point number and round down to the nearest integer value. \n",
    ">- float(), this can convert an integer value to a floating\n",
    ">- type(), this function let's us see what data type something is\n",
    "\n",
    "Let's work through some basic uses of these functions. \n"
   ]
  },
  {
   "cell_type": "code",
   "execution_count": null,
   "metadata": {},
   "outputs": [],
   "source": []
  },
  {
   "cell_type": "code",
   "execution_count": null,
   "metadata": {},
   "outputs": [],
   "source": []
  },
  {
   "cell_type": "code",
   "execution_count": null,
   "metadata": {},
   "outputs": [],
   "source": []
  },
  {
   "cell_type": "code",
   "execution_count": null,
   "metadata": {},
   "outputs": [],
   "source": []
  },
  {
   "cell_type": "markdown",
   "metadata": {},
   "source": [
    "Q: What value should the variable myName now have? "
   ]
  },
  {
   "cell_type": "code",
   "execution_count": null,
   "metadata": {},
   "outputs": [],
   "source": []
  },
  {
   "cell_type": "code",
   "execution_count": null,
   "metadata": {},
   "outputs": [],
   "source": []
  },
  {
   "cell_type": "code",
   "execution_count": null,
   "metadata": {},
   "outputs": [],
   "source": []
  },
  {
   "cell_type": "markdown",
   "metadata": {},
   "source": [
    "Q: What is the difference between the values of the prior two statements? (`len(myName)` vs. `print(len(myName)`)? \n",
    "\n",
    "Hint: run some operations on each one of those statements and see what you get. "
   ]
  },
  {
   "cell_type": "code",
   "execution_count": null,
   "metadata": {},
   "outputs": [],
   "source": []
  },
  {
   "cell_type": "code",
   "execution_count": null,
   "metadata": {},
   "outputs": [],
   "source": []
  },
  {
   "cell_type": "code",
   "execution_count": null,
   "metadata": {},
   "outputs": [],
   "source": []
  },
  {
   "cell_type": "code",
   "execution_count": null,
   "metadata": {},
   "outputs": [],
   "source": []
  },
  {
   "cell_type": "markdown",
   "metadata": {},
   "source": [
    "Q: Why do we get an error from the code in the previous cell?\n",
    "\n",
    "Q: How can we fix the error? "
   ]
  },
  {
   "cell_type": "code",
   "execution_count": null,
   "metadata": {},
   "outputs": [],
   "source": []
  },
  {
   "cell_type": "code",
   "execution_count": null,
   "metadata": {},
   "outputs": [],
   "source": []
  },
  {
   "cell_type": "markdown",
   "metadata": {},
   "source": [
    "Q: What all is going on in the prior code? Write out what you think Python is doing step by step. I've outlined at least 6 steps but if you have more feel free to add to this. \n",
    "\n",
    "1. \n",
    "2. \n",
    "3. \n",
    "4. \n",
    "5. \n",
    "6. \n",
    "\n",
    "Now, let's go through some other functions. \n",
    "\n",
    "For each of the following examples, note what happens to the values that you pass into the functions. "
   ]
  },
  {
   "cell_type": "code",
   "execution_count": null,
   "metadata": {},
   "outputs": [],
   "source": []
  },
  {
   "cell_type": "code",
   "execution_count": null,
   "metadata": {},
   "outputs": [],
   "source": []
  },
  {
   "cell_type": "code",
   "execution_count": null,
   "metadata": {},
   "outputs": [],
   "source": []
  },
  {
   "cell_type": "code",
   "execution_count": null,
   "metadata": {},
   "outputs": [],
   "source": []
  },
  {
   "cell_type": "code",
   "execution_count": null,
   "metadata": {},
   "outputs": [],
   "source": []
  },
  {
   "cell_type": "code",
   "execution_count": null,
   "metadata": {},
   "outputs": [],
   "source": []
  },
  {
   "cell_type": "code",
   "execution_count": null,
   "metadata": {},
   "outputs": [],
   "source": []
  },
  {
   "cell_type": "code",
   "execution_count": null,
   "metadata": {},
   "outputs": [],
   "source": []
  },
  {
   "cell_type": "markdown",
   "metadata": {},
   "source": [
    "What if we are working away and we lose track of what data type we are working with? \n",
    "\n",
    "This is where the type() function comes in handy. "
   ]
  },
  {
   "cell_type": "code",
   "execution_count": null,
   "metadata": {},
   "outputs": [],
   "source": []
  },
  {
   "cell_type": "code",
   "execution_count": null,
   "metadata": {},
   "outputs": [],
   "source": []
  },
  {
   "cell_type": "code",
   "execution_count": null,
   "metadata": {},
   "outputs": [],
   "source": []
  },
  {
   "cell_type": "code",
   "execution_count": null,
   "metadata": {},
   "outputs": [],
   "source": []
  },
  {
   "cell_type": "code",
   "execution_count": null,
   "metadata": {},
   "outputs": [],
   "source": []
  },
  {
   "cell_type": "markdown",
   "metadata": {},
   "source": [
    "Q: Why is `var1` still showing up as `int` data type? \n",
    "\n"
   ]
  },
  {
   "cell_type": "code",
   "execution_count": null,
   "metadata": {},
   "outputs": [],
   "source": []
  },
  {
   "cell_type": "code",
   "execution_count": null,
   "metadata": {},
   "outputs": [],
   "source": []
  },
  {
   "cell_type": "code",
   "execution_count": null,
   "metadata": {},
   "outputs": [],
   "source": []
  },
  {
   "cell_type": "code",
   "execution_count": null,
   "metadata": {},
   "outputs": [],
   "source": []
  }
 ],
 "metadata": {
  "kernelspec": {
   "display_name": "Python 3",
   "language": "python",
   "name": "python3"
  },
  "language_info": {
   "codemirror_mode": {
    "name": "ipython",
    "version": 3
   },
   "file_extension": ".py",
   "mimetype": "text/x-python",
   "name": "python",
   "nbconvert_exporter": "python",
   "pygments_lexer": "ipython3",
   "version": "3.8.5"
  }
 },
 "nbformat": 4,
 "nbformat_minor": 2
}
