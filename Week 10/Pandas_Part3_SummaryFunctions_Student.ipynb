{
 "cells": [
  {
   "cell_type": "markdown",
   "metadata": {},
   "source": [
    "# `pandas` Part 3: Descriptive Analytics with `pandas`\n",
    "\n",
    "# Learning Objectives\n",
    "## By the end of this tutorial you will be able to:\n",
    "1. Understand the three fundamental areas of an analytics project: Descriptive, Predictive, Prescriptive\n",
    "2. Summarize data using `describe()`\n",
    ">- Descriptive Analytics is the first layer of a full analytical report and `describe()` gets us started \n",
    "3. Transform data with simple calculations\n",
    "\n",
    "## Files Needed for this lesson: `winemag-data-130k-v2.csv`\n",
    ">- Download this csv from Canvas prior to the lesson\n",
    "\n",
    "## The general steps to working with pandas:\n",
    "1. import pandas as pd\n",
    "2. Create or load data into a pandas DataFrame or Series\n",
    "3. Reading data with `pd.read_`\n",
    ">- Excel files: `pd.read_excel('fileName.xlsx')`\n",
    ">- Csv files: `pd.read_csv('fileName.csv')`\n",
    ">- Note: if the file you want to read into your notebook is not in the same folder you can do one of two things:\n",
    ">>- Move the file you want to read into the same folder/directory as the notebook\n",
    ">>- Type out the full path into the read function\n",
    "4. After steps 1-3 you will want to check out your DataFrame\n",
    ">- Use `shape` to see how many records and columns are in your DataFrame\n",
    ">- Use `head()` to show the first 5-10 records in your DataFrame"
   ]
  },
  {
   "cell_type": "markdown",
   "metadata": {},
   "source": [
    "Type-along narrations:\n",
    "\n",
    "- Part 1: https://youtu.be/CuCcR_ZP8AM\n",
    "- Part 2: https://youtu.be/fA0VCu5FQiE"
   ]
  },
  {
   "cell_type": "markdown",
   "metadata": {},
   "source": [
    "# Analytics Project Framework Notes\n",
    "## A complete and thorough analytics project will have 3 main areas\n",
    "1. Descriptive Analytics: tells us what has happened or what is happening. \n",
    ">- The focus of this lesson is how to do this in python.\n",
    ">- Many companies are at this level but not much more than this\n",
    ">- Descriptive statistics (mean, median, mode, frequencies)\n",
    ">- Graphical analysis (bar charts, pie charts, histograms, box-plots, etc)\n",
    "2. Predictive Analytics: tells us what is likely to happen next\n",
    ">- Less companies are at this level but are slowly getting there\n",
    ">- Predictive statistics (\"machine learning (ML)\" using regression, multi-way frequency analysis, etc)\n",
    ">- Graphical analysis (scatter plots with regression lines, decision trees, etc)\n",
    "3. Prescriptive Analytics: tells us what to do based on the analysis\n",
    ">- Synthesis and Report writing: executive summaries, data-based decision making\n",
    ">- No analysis is complete without a written report with at least an executive summary\n",
    ">- Communicate results of analysis to both non-technical and technical audiences"
   ]
  },
  {
   "cell_type": "markdown",
   "metadata": {},
   "source": [
    "# Descriptive Analytics Using `pandas`"
   ]
  },
  {
   "cell_type": "markdown",
   "metadata": {},
   "source": [
    "# Initial set-up steps\n",
    "1. import modules and check working directory\n",
    "2. Read data in\n",
    "3. Check the data"
   ]
  },
  {
   "cell_type": "code",
   "execution_count": null,
   "metadata": {},
   "outputs": [],
   "source": []
  },
  {
   "cell_type": "markdown",
   "metadata": {},
   "source": [
    "#### Note: setting our working directory to a variable named `path` will make accessing files in the directory easier"
   ]
  },
  {
   "cell_type": "markdown",
   "metadata": {},
   "source": [
    "# Step 2 Read Data Into a DataFrame with `read_csv()`\n",
    ">- file name: `winemag-data-130k-v2.csv`\n",
    ">- Set the index to column 0\n",
    ">- Note: by defining `path` above for our working directory we can then just concatenate our working directory with the file we wish to read in"
   ]
  },
  {
   "cell_type": "code",
   "execution_count": null,
   "metadata": {},
   "outputs": [],
   "source": []
  },
  {
   "cell_type": "markdown",
   "metadata": {},
   "source": [
    "### Check how many rows, columns, and data points are in the `wine_reviews` DataFrame\n",
    ">- Use `shape` and indices to define variables\n",
    ">- We can store the values for rows and columns in variables if we want to access them later"
   ]
  },
  {
   "cell_type": "code",
   "execution_count": null,
   "metadata": {},
   "outputs": [],
   "source": []
  },
  {
   "cell_type": "markdown",
   "metadata": {},
   "source": [
    "### Check a couple of rows of data"
   ]
  },
  {
   "cell_type": "code",
   "execution_count": null,
   "metadata": {},
   "outputs": [],
   "source": []
  },
  {
   "cell_type": "markdown",
   "metadata": {},
   "source": [
    "# Descriptive Analytics with `describe()`\n",
    ">- General syntax: dataFrame.columnName.describe()"
   ]
  },
  {
   "cell_type": "markdown",
   "metadata": {},
   "source": [
    "### Now, what is/are the question(s) being asked of the data? \n",
    ">- All analytics projects start with questions (from you, your boss, some decision maker, etc)\n",
    "\n",
    "#### For this example...\n",
    "##### Question: What is the summary information about wine point ratings? \n",
    ">- subQ1: What is a baseline/average wine?\n",
    ">>- What is the average rating?\n",
    ">>- What is the median rating? \n",
    ">- subQ2: What is the range of wine ratings? \n",
    ">>- What is the lowest rating? The highest rating? \n",
    ">- subQ3: What rating is the lowest for the top 25% of wines?\n",
    "\n",
    "### The cool thing about learning `python` and in particular `pandas` is you can answer all these with a few lines of code"
   ]
  },
  {
   "cell_type": "code",
   "execution_count": null,
   "metadata": {},
   "outputs": [],
   "source": []
  },
  {
   "cell_type": "markdown",
   "metadata": {},
   "source": [
    "### Notes on `describe()`\n",
    ">- `describe()` is \"type-aware\" which means it will automatically give summary statistics based on the data type of the column\n",
    ">- In the previous example, `describe()` gave us summary stats based on a numerical column\n",
    ">- For a string column, we can't calculate a mean, median or standard deviation so we get different output from `describe()`"
   ]
  },
  {
   "cell_type": "markdown",
   "metadata": {},
   "source": [
    "### Another question to be answered with analytics:\n",
    "##### What information do we have regarding wine tasters? \n",
    ">- subQ1: How many total wine tasters are there? \n",
    ">- subQ2: How many total records have a wine taster mapped to them? \n",
    ">- subQ3: Who has the most wine tastings? \n",
    ">>- How many wine tastings does he or she have? "
   ]
  },
  {
   "cell_type": "code",
   "execution_count": null,
   "metadata": {},
   "outputs": [],
   "source": []
  },
  {
   "cell_type": "markdown",
   "metadata": {},
   "source": [
    "### Notes on the previous output:\n",
    ">- count gives us the total number of records with non-null taster_name\n",
    ">- unique gives us the total number of taster_name names\n",
    ">- top gives us the taster_name with the most records\n",
    ">- freq gives us the number of records for the top taster_name"
   ]
  },
  {
   "cell_type": "markdown",
   "metadata": {},
   "source": [
    "# Getting specific summary stats and assigning a variable to them\n",
    ">- To be able to write our results in a nice executive summary format, assign variables to specific summary stat values"
   ]
  },
  {
   "cell_type": "markdown",
   "metadata": {},
   "source": [
    "### Assign variables for the mean points"
   ]
  },
  {
   "cell_type": "code",
   "execution_count": null,
   "metadata": {},
   "outputs": [],
   "source": []
  },
  {
   "cell_type": "markdown",
   "metadata": {},
   "source": [
    "### Create a list of the wine tasters with `unique()`"
   ]
  },
  {
   "cell_type": "code",
   "execution_count": null,
   "metadata": {},
   "outputs": [],
   "source": []
  },
  {
   "cell_type": "markdown",
   "metadata": {},
   "source": [
    "### To see a list of wine tasters and how often they occur use `value_counts()`"
   ]
  },
  {
   "cell_type": "code",
   "execution_count": null,
   "metadata": {
    "scrolled": true
   },
   "outputs": [],
   "source": []
  },
  {
   "cell_type": "markdown",
   "metadata": {},
   "source": [
    "### Q: Which tasters have 10,000 or more reviews?\n",
    ">- Filtering results using `where()`\n",
    ">- Remove results not meeting criteria with with `dropna()`"
   ]
  },
  {
   "cell_type": "code",
   "execution_count": null,
   "metadata": {},
   "outputs": [],
   "source": []
  },
  {
   "cell_type": "markdown",
   "metadata": {},
   "source": [
    "#### How many reviews did Roger Voss have?\n",
    ">- Find the count for one particular reviewer using `loc`"
   ]
  },
  {
   "cell_type": "code",
   "execution_count": null,
   "metadata": {},
   "outputs": [],
   "source": []
  },
  {
   "cell_type": "markdown",
   "metadata": {},
   "source": [
    "### Who are the top five wine tasters by number of occurrences? "
   ]
  },
  {
   "cell_type": "code",
   "execution_count": null,
   "metadata": {},
   "outputs": [],
   "source": []
  },
  {
   "cell_type": "markdown",
   "metadata": {},
   "source": [
    "# Transforming data\n",
    ">- Sometimes it is useful to standardize/normalize data\n",
    ">- Standardizing data allows you to make comparisons regardless of the scale of the original data\n",
    ">- We can transform data using some simple operations\n",
    ">>- For more advanced transformations we can use `map()` and `apply()`"
   ]
  },
  {
   "cell_type": "markdown",
   "metadata": {},
   "source": [
    "### Transforming the `points` column\n",
    ">- In this example we will \"remean\" our points column to a mean of zero"
   ]
  },
  {
   "cell_type": "code",
   "execution_count": null,
   "metadata": {},
   "outputs": [],
   "source": []
  },
  {
   "cell_type": "code",
   "execution_count": null,
   "metadata": {},
   "outputs": [],
   "source": []
  },
  {
   "cell_type": "markdown",
   "metadata": {},
   "source": [
    "##### Our new `points0` variable should have a mean of 0"
   ]
  },
  {
   "cell_type": "code",
   "execution_count": null,
   "metadata": {},
   "outputs": [],
   "source": []
  },
  {
   "cell_type": "markdown",
   "metadata": {},
   "source": [
    "### Now assign a new column name, `points0`, to the data frame and insert the `points0` values\n",
    ">- We will do this two different ways"
   ]
  },
  {
   "cell_type": "markdown",
   "metadata": {},
   "source": [
    "#### Method1: This way creates and inserts the new column at the end of the DataFrame"
   ]
  },
  {
   "cell_type": "code",
   "execution_count": null,
   "metadata": {},
   "outputs": [],
   "source": []
  },
  {
   "cell_type": "markdown",
   "metadata": {},
   "source": [
    "#### Method2: Using `insert()` allows us to specify the position of our new column\n",
    ">- Insert general syntax and parameters: insert(insertion index, column name, values, allow duplicates)\n",
    ">>- Insertion Index: where do you want your column in your DataFrame\n",
    ">>- Column Name: the name of your new column\n",
    ">>- Values: the values you want stored in your new column\n",
    ">>- Allow Duplicates: Set to `True` if duplicate values are ok"
   ]
  },
  {
   "cell_type": "code",
   "execution_count": null,
   "metadata": {},
   "outputs": [],
   "source": []
  },
  {
   "cell_type": "code",
   "execution_count": null,
   "metadata": {},
   "outputs": [],
   "source": []
  },
  {
   "cell_type": "markdown",
   "metadata": {},
   "source": [
    "### We can also concatenate fields and store that in a new column of our DataFrame\n",
    "#### Task: Combine the country and province fields into one field separated with a ' - '\n",
    ">- Insert the concatenated field into the wineReviews dataframe as 'countryProv'"
   ]
  },
  {
   "cell_type": "code",
   "execution_count": null,
   "metadata": {},
   "outputs": [],
   "source": []
  }
 ],
 "metadata": {
  "kernelspec": {
   "display_name": "Python 3",
   "language": "python",
   "name": "python3"
  },
  "language_info": {
   "codemirror_mode": {
    "name": "ipython",
    "version": 3
   },
   "file_extension": ".py",
   "mimetype": "text/x-python",
   "name": "python",
   "nbconvert_exporter": "python",
   "pygments_lexer": "ipython3",
   "version": "3.8.5"
  },
  "latex_envs": {
   "LaTeX_envs_menu_present": true,
   "autoclose": false,
   "autocomplete": true,
   "bibliofile": "biblio.bib",
   "cite_by": "apalike",
   "current_citInitial": 1,
   "eqLabelWithNumbers": true,
   "eqNumInitial": 1,
   "hotkeys": {
    "equation": "Ctrl-E",
    "itemize": "Ctrl-I"
   },
   "labels_anchors": false,
   "latex_user_defs": false,
   "report_style_numbering": false,
   "user_envs_cfg": false
  }
 },
 "nbformat": 4,
 "nbformat_minor": 2
}
