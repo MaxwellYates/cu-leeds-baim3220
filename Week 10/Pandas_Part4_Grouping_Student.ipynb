{
 "cells": [
  {
   "cell_type": "markdown",
   "metadata": {},
   "source": [
    "# `pandas` Part 4: Grouping and Sorting\n",
    "\n",
    "# Learning Objectives\n",
    "## By the end of this tutorial you will be able to:\n",
    "1. Group data with `groupby()`\n",
    "2. Sort data with `sort_values()`\n",
    " \n",
    "\n",
    "## Files Needed for this lesson: `winemag-data-130k-v2.csv`\n",
    ">- Download this csv from Canvas prior to the lesson\n",
    "\n",
    "## The general steps to working with pandas:\n",
    "1. import pandas as pd\n",
    "2. Create or load data into a pandas DataFrame or Series\n",
    "3. Reading data with `pd.read_`\n",
    ">- Excel files: `pd.read_excel('fileName.xlsx')`\n",
    ">- Csv files: `pd.read_csv('fileName.csv')`\n",
    ">- Note: if the file you want to read into your notebook is not in the same folder you can do one of two things:\n",
    ">>- Move the file you want to read into the same folder/directory as the notebook\n",
    ">>- Type out the full path into the read function\n",
    "4. After steps 1-3 you will want to check out your DataFrame\n",
    ">- Use `shape` to see how many records and columns are in your DataFrame\n",
    ">- Use `head()` to show the first 5-10 records in your DataFrame"
   ]
  },
  {
   "cell_type": "markdown",
   "metadata": {},
   "source": [
    "Type-along narration: https://youtu.be/gDDqmK5J5Ak"
   ]
  },
  {
   "cell_type": "markdown",
   "metadata": {},
   "source": [
    "# Analytics Project Framework Notes\n",
    "## A complete and thorough analytics project will have 3 main areas\n",
    "1. Descriptive Analytics: tells us what has happened or what is happening. \n",
    ">- The focus of this lesson is how to do this in python.\n",
    ">- Many companies are at this level but not much more than this\n",
    ">- Descriptive statistics (mean, median, mode, frequencies)\n",
    ">- Graphical analysis (bar charts, pie charts, histograms, box-plots, etc)\n",
    "2. Predictive Analytics: tells us what is likely to happen next\n",
    ">- Less companies are at this level but are slowly getting there\n",
    ">- Predictive statistics (\"machine learning (ML)\" using regression, multi-way frequency analysis, etc)\n",
    ">- Graphical analysis (scatter plots with regression lines, decision trees, etc)\n",
    "3. Prescriptive Analytics: tells us what to do based on the analysis\n",
    ">- Synthesis and Report writing: executive summaries, data-based decision making\n",
    ">- No analysis is complete without a written report with at least an executive summary\n",
    ">- Communicate results of analysis to both non-technical and technical audiences"
   ]
  },
  {
   "cell_type": "markdown",
   "metadata": {},
   "source": [
    "# Descriptive Analytics Using `pandas`"
   ]
  },
  {
   "cell_type": "markdown",
   "metadata": {},
   "source": [
    "# Initial set-up steps\n",
    "1. import modules and check working directory\n",
    "2. Read data in\n",
    "3. Check the data"
   ]
  },
  {
   "cell_type": "code",
   "execution_count": null,
   "metadata": {},
   "outputs": [],
   "source": []
  },
  {
   "cell_type": "markdown",
   "metadata": {},
   "source": [
    "# Step 2 Read Data Into a DataFrame with `read_csv()`\n",
    ">- file name: `winemag-data-130k-v2.csv`\n",
    ">- Set the index to column 0"
   ]
  },
  {
   "cell_type": "code",
   "execution_count": null,
   "metadata": {},
   "outputs": [],
   "source": []
  },
  {
   "cell_type": "markdown",
   "metadata": {},
   "source": [
    "### Check how many rows, columns, and data points are in the `wine_reviews` DataFrame\n",
    ">- Use `shape` and indices to define variables\n",
    ">- We can store the values for rows and columns in variables if we want to access them later"
   ]
  },
  {
   "cell_type": "code",
   "execution_count": null,
   "metadata": {},
   "outputs": [],
   "source": []
  },
  {
   "cell_type": "markdown",
   "metadata": {},
   "source": [
    "### Check a couple of rows of data"
   ]
  },
  {
   "cell_type": "code",
   "execution_count": null,
   "metadata": {},
   "outputs": [],
   "source": []
  },
  {
   "cell_type": "markdown",
   "metadata": {},
   "source": [
    "# Descriptive Analytics with `groupby()`\n",
    ">- General syntax: dataFrame.groupby(['fields to group by']).fieldsToanalyze.aggregation"
   ]
  },
  {
   "cell_type": "markdown",
   "metadata": {},
   "source": [
    "### Now, what is/are the question(s) being asked of the data? \n",
    ">- All analytics projects start with questions (from you, your boss, some decision maker, etc)"
   ]
  },
  {
   "cell_type": "markdown",
   "metadata": {},
   "source": [
    "###  How many wines have been rated at each point value?"
   ]
  },
  {
   "cell_type": "code",
   "execution_count": null,
   "metadata": {},
   "outputs": [],
   "source": []
  },
  {
   "cell_type": "markdown",
   "metadata": {},
   "source": [
    "### How much does the least expensive wine for each point rating cost? "
   ]
  },
  {
   "cell_type": "code",
   "execution_count": null,
   "metadata": {},
   "outputs": [],
   "source": []
  },
  {
   "cell_type": "markdown",
   "metadata": {},
   "source": [
    "### Question: How much does the most expensive wine for each point rating cost?"
   ]
  },
  {
   "cell_type": "code",
   "execution_count": null,
   "metadata": {},
   "outputs": [],
   "source": []
  },
  {
   "cell_type": "markdown",
   "metadata": {},
   "source": [
    "### What is the overall maximum price for all wines?"
   ]
  },
  {
   "cell_type": "code",
   "execution_count": null,
   "metadata": {},
   "outputs": [],
   "source": []
  },
  {
   "cell_type": "markdown",
   "metadata": {},
   "source": [
    "### What is the lowest price for a wine rating of 100?"
   ]
  },
  {
   "cell_type": "code",
   "execution_count": null,
   "metadata": {},
   "outputs": [],
   "source": []
  },
  {
   "cell_type": "markdown",
   "metadata": {},
   "source": [
    "### What is the highest price for a wine rating of 80? "
   ]
  },
  {
   "cell_type": "code",
   "execution_count": null,
   "metadata": {},
   "outputs": [],
   "source": []
  },
  {
   "cell_type": "markdown",
   "metadata": {},
   "source": [
    "### What is the maximum rating for each country? "
   ]
  },
  {
   "cell_type": "code",
   "execution_count": null,
   "metadata": {
    "scrolled": true
   },
   "outputs": [],
   "source": []
  },
  {
   "cell_type": "markdown",
   "metadata": {},
   "source": [
    "### What is the maximum rating for China?"
   ]
  },
  {
   "cell_type": "code",
   "execution_count": null,
   "metadata": {},
   "outputs": [],
   "source": []
  },
  {
   "cell_type": "markdown",
   "metadata": {},
   "source": [
    "##### Another way to get maximum ratring for China combining `where` and `groupby`"
   ]
  },
  {
   "cell_type": "code",
   "execution_count": null,
   "metadata": {},
   "outputs": [],
   "source": []
  },
  {
   "cell_type": "markdown",
   "metadata": {},
   "source": [
    "### What are some summary stats for price for each country? \n",
    ">- Using the `agg()` function for specific summary stats\n",
    ">>- What is the sample size?\n",
    ">>- What is the minimum?\n",
    ">>- What is the maximum?\n",
    ">>- What is the mean?\n",
    ">>- What is the median?\n",
    ">>- What is the standard deviation? "
   ]
  },
  {
   "cell_type": "code",
   "execution_count": null,
   "metadata": {},
   "outputs": [],
   "source": []
  },
  {
   "cell_type": "code",
   "execution_count": null,
   "metadata": {},
   "outputs": [],
   "source": []
  },
  {
   "cell_type": "markdown",
   "metadata": {},
   "source": [
    "## What are the descriptive analytics for country and province? \n",
    ">- We can group by multiple fields by adding more to our groupby() function"
   ]
  },
  {
   "cell_type": "code",
   "execution_count": null,
   "metadata": {},
   "outputs": [],
   "source": []
  },
  {
   "cell_type": "markdown",
   "metadata": {},
   "source": [
    "## What are the descriptive price analytics for the US?\n",
    ">- Add `get_group()` syntax"
   ]
  },
  {
   "cell_type": "code",
   "execution_count": null,
   "metadata": {},
   "outputs": [],
   "source": []
  },
  {
   "cell_type": "markdown",
   "metadata": {},
   "source": [
    "## What are the summary wine rating stats for Colorado? \n",
    ">- Note that states are coded in this dataset under province"
   ]
  },
  {
   "cell_type": "code",
   "execution_count": null,
   "metadata": {},
   "outputs": [],
   "source": []
  },
  {
   "cell_type": "markdown",
   "metadata": {},
   "source": [
    "# Sorting Results\n",
    ">- Add sort_values() syntax\n",
    ">- Default is ascending order\n",
    "## What are the summary stats for points for each country?\n",
    ">- Sort the results from lowest to highest mean points"
   ]
  },
  {
   "cell_type": "code",
   "execution_count": null,
   "metadata": {},
   "outputs": [],
   "source": []
  },
  {
   "cell_type": "markdown",
   "metadata": {},
   "source": [
    "### To sort in descending order...\n",
    ">- Use ascending = False"
   ]
  },
  {
   "cell_type": "code",
   "execution_count": null,
   "metadata": {},
   "outputs": [],
   "source": []
  }
 ],
 "metadata": {
  "kernelspec": {
   "display_name": "Python 3",
   "language": "python",
   "name": "python3"
  },
  "language_info": {
   "codemirror_mode": {
    "name": "ipython",
    "version": 3
   },
   "file_extension": ".py",
   "mimetype": "text/x-python",
   "name": "python",
   "nbconvert_exporter": "python",
   "pygments_lexer": "ipython3",
   "version": "3.8.5"
  },
  "latex_envs": {
   "LaTeX_envs_menu_present": true,
   "autoclose": false,
   "autocomplete": true,
   "bibliofile": "biblio.bib",
   "cite_by": "apalike",
   "current_citInitial": 1,
   "eqLabelWithNumbers": true,
   "eqNumInitial": 1,
   "hotkeys": {
    "equation": "Ctrl-E",
    "itemize": "Ctrl-I"
   },
   "labels_anchors": false,
   "latex_user_defs": false,
   "report_style_numbering": false,
   "user_envs_cfg": false
  }
 },
 "nbformat": 4,
 "nbformat_minor": 2
}
