{
 "cells": [
  {
   "cell_type": "markdown",
   "metadata": {},
   "source": [
    "# `pandas` Part 8: Using `pandas` to Collect and Analyze Web Data\n",
    "### Part(a): Reading, Storing, and Cleaning Financial Web Data\n",
    "### Part(b): Visualizing Data\n",
    "\n",
    "# Learning Objectives\n",
    "\n",
    "## After completing this lesson you will be able to:\n",
    "1. Install a convenient web data collection tool `pandas_datareader`\n",
    "2. Apply pandas to a \"real world\" problem/exercise related to stock analysis\n",
    "3. Scrape/extract data from the web and store in a pandas DataFrame\n",
    "4. Perform descriptive analytics on stock data\n",
    "5. Calculate common stock metrics such returns and moving average\n",
    "6. Visualize data \n",
    " \n",
    "## Modules needed for this lesson \n",
    ">- pandas\n",
    ">- datetime\n",
    ">- pandas_datareader, see notes for installation\n",
    ">- matplotlib\n",
    "\n",
    "\n",
    "## Files Needed and/or Data Sources:\n",
    ">- We will use `pandas_datareader` to extract data from YahooFinance\n",
    "\n",
    "\n",
    "## Initial references for this lesson (more given throughout lesson):\n",
    ">- Lesson Tutorial: https://towardsdatascience.com/in-12-minutes-stocks-analysis-with-pandas-and-scikit-learn-a8d8a7b50ee7\n",
    ">- Pandas Data Reader: https://pandas-datareader.readthedocs.io/en/latest/\n",
    ">- Datetime module: https://docs.python.org/3/library/datetime.html\n",
    ">>- Also see: https://www.w3schools.com/python/python_datetime.asp\n",
    ">- Matplotlib: https://matplotlib.org/tutorials/index.html"
   ]
  },
  {
   "cell_type": "markdown",
   "metadata": {},
   "source": [
    "Narration Videos:\n",
    "\n",
    "- Part 1: https://youtu.be/8XkqQZ5B-DQ\n",
    "- Part 2: https://youtu.be/S54WkrKqrSo\n",
    "- Part 3: https://youtu.be/Ijy9WqL1mjA\n",
    "- Part 4: https://youtu.be/2afvFr655cI"
   ]
  },
  {
   "cell_type": "markdown",
   "metadata": {},
   "source": [
    "# Pandas Part 8(a): Reading, Storing and Cleaning Financial Data"
   ]
  },
  {
   "cell_type": "markdown",
   "metadata": {},
   "source": [
    "## Install the `pandas-datareader` module\n",
    "### Several ways to install the pandas datareader module\n",
    "1. `pip install pandas-datareader`\n",
    ">- Mac users would do this in new terminal window\n",
    ">- Windows users would do this in PowerShell\n",
    "2. `conda install pandas-datareader`\n",
    ">- Open Anaconda PowerShell prompt and type the above comands\n",
    "3. You can also install within a notebook code cell as shown below\n",
    "\n",
    "#### Note: for all of these options restart jupyter notebooks and/or Anaconda for the changes to take place"
   ]
  },
  {
   "cell_type": "markdown",
   "metadata": {},
   "source": [
    "##### One way to install the pandas-datareader module is from within jupyter"
   ]
  },
  {
   "cell_type": "code",
   "execution_count": null,
   "metadata": {},
   "outputs": [],
   "source": []
  },
  {
   "cell_type": "markdown",
   "metadata": {},
   "source": [
    "## Import Necessary Modules"
   ]
  },
  {
   "cell_type": "markdown",
   "metadata": {},
   "source": [
    "### These are our fundamental modules for working with pandas and reading data from the web"
   ]
  },
  {
   "cell_type": "code",
   "execution_count": null,
   "metadata": {},
   "outputs": [],
   "source": []
  },
  {
   "cell_type": "markdown",
   "metadata": {},
   "source": [
    "### The following are needed for the data visualization component of this lesson\n",
    ">- We will be using a popular python data visualization module name, `matplotlib` \n",
    ">- Below is a link for various tutorials on `matplotlib`. A lot of cool stuff here! \n",
    ">>- https://matplotlib.org/tutorials/index.html"
   ]
  },
  {
   "cell_type": "code",
   "execution_count": null,
   "metadata": {},
   "outputs": [],
   "source": []
  },
  {
   "cell_type": "markdown",
   "metadata": {},
   "source": [
    "## Set up variables to define our start and end dates for stock analysis\n",
    ">- We will look at stock prices over the past 10 years"
   ]
  },
  {
   "cell_type": "code",
   "execution_count": null,
   "metadata": {},
   "outputs": [],
   "source": []
  },
  {
   "cell_type": "markdown",
   "metadata": {},
   "source": [
    "## Create a DataFrame by Reading Data from YahooFinance\n",
    ">- To see other data sources check out the following link:\n",
    "https://github.com/wilsonfreitas/awesome-quant#data-sources\n",
    ">- Initially, we will look at all the data but then we will turn our focus to the `Closing Price`\n",
    ">- The first example pulls stock data for Apple with the ticker symbol of `aapl` but any stock including ETFs and Index funds can but used"
   ]
  },
  {
   "cell_type": "code",
   "execution_count": null,
   "metadata": {},
   "outputs": [],
   "source": []
  },
  {
   "cell_type": "code",
   "execution_count": null,
   "metadata": {},
   "outputs": [],
   "source": []
  },
  {
   "cell_type": "code",
   "execution_count": null,
   "metadata": {},
   "outputs": [],
   "source": []
  },
  {
   "cell_type": "markdown",
   "metadata": {},
   "source": [
    "## What are the metadata and basic statistics for our DataFrame?\n",
    ">- Note: metadata is data about data (e.g., number of records and fields, data types, primary/foreign keys, etc)\n",
    "\n",
    "### Some Metadata and Descriptive Questions to Answer\n",
    "1. How many days of stock prices do we have in our DataFrame? \n",
    "2. How many fields do we have to work with? \n",
    "3. What kind of data do we have to work with? \n",
    "4. What are the descriptive statistics for all the fields in the DataFrame?\n",
    "5. Then, we will answer some other descriptive analytics questions. "
   ]
  },
  {
   "cell_type": "markdown",
   "metadata": {},
   "source": [
    "##### How many records and fields do we have to work with?\n",
    ">- Note: records in this example represent the number of days of stock data we have"
   ]
  },
  {
   "cell_type": "code",
   "execution_count": null,
   "metadata": {},
   "outputs": [],
   "source": []
  },
  {
   "cell_type": "markdown",
   "metadata": {},
   "source": [
    "##### What kind of data do we have to work with?"
   ]
  },
  {
   "cell_type": "code",
   "execution_count": null,
   "metadata": {},
   "outputs": [],
   "source": []
  },
  {
   "cell_type": "markdown",
   "metadata": {},
   "source": [
    "##### What are the descriptive statistics on Apple's stock?"
   ]
  },
  {
   "cell_type": "code",
   "execution_count": null,
   "metadata": {},
   "outputs": [],
   "source": []
  },
  {
   "cell_type": "markdown",
   "metadata": {},
   "source": [
    "## Prepare Data: Define New Variables and Create Common Financial Variables"
   ]
  },
  {
   "cell_type": "markdown",
   "metadata": {},
   "source": [
    "### Question: How has Apple's adjusted closing price performed over the last 10 years? \n",
    ">- We have already calculated descriptive statistics for all fields but let's do it just for 'Adj Close'"
   ]
  },
  {
   "cell_type": "markdown",
   "metadata": {},
   "source": [
    "#### Define a variable for adjusted close and run some descriptive stats on it"
   ]
  },
  {
   "cell_type": "code",
   "execution_count": null,
   "metadata": {},
   "outputs": [],
   "source": []
  },
  {
   "cell_type": "code",
   "execution_count": null,
   "metadata": {},
   "outputs": [],
   "source": []
  },
  {
   "cell_type": "code",
   "execution_count": null,
   "metadata": {},
   "outputs": [],
   "source": []
  },
  {
   "cell_type": "code",
   "execution_count": null,
   "metadata": {},
   "outputs": [],
   "source": []
  },
  {
   "cell_type": "markdown",
   "metadata": {},
   "source": [
    "## Create Variables for Common Financial Metrics"
   ]
  },
  {
   "cell_type": "markdown",
   "metadata": {},
   "source": [
    "### An Important Financial Metric:  Returns\n",
    "\n",
    "Returns: $R_t = (P_t/P_{t-1}) - 1$\n",
    "\n",
    ">- Where, \n",
    ">>- $R_t$ = return at time, t\n",
    ">>- $P_t$ = the price at time, t\n",
    ">>- $P_{t-1}$ is the price at time, t- 1 (the day before in our example)\n"
   ]
  },
  {
   "cell_type": "markdown",
   "metadata": {},
   "source": [
    "#### To calculate daily returns..."
   ]
  },
  {
   "cell_type": "code",
   "execution_count": null,
   "metadata": {},
   "outputs": [],
   "source": []
  },
  {
   "cell_type": "markdown",
   "metadata": {},
   "source": [
    "#### Note: The `shift()` function essentially takes all the data in the original column and moves/shifts it by the number passed to it\n",
    ">- In our example, we used `shift(1)` which takes aclose and shifts all the values 1 day\n",
    "\n",
    "#### To see how `shift()` is working, we can create a DataFrame to store the current day price and a lag (prior day) price"
   ]
  },
  {
   "cell_type": "code",
   "execution_count": null,
   "metadata": {
    "scrolled": false
   },
   "outputs": [],
   "source": []
  },
  {
   "cell_type": "markdown",
   "metadata": {},
   "source": [
    "#### Note: To get annualized returns you could use `shift(252)` or `shift(253)`\n",
    ">- Most years have 252 or 253 trading days: https://en.wikipedia.org/wiki/Trading_day "
   ]
  },
  {
   "cell_type": "markdown",
   "metadata": {},
   "source": [
    "### Moving average (aka rolling average)\n",
    "\n",
    ">- A moving average is a constantly updated average based on the 'n' past observations where 'n' is user specified. For example if we want the moving average for the past 10 days we would set n=10\n",
    ">- Stock analysts will use moving averages for the past 50, 100, 200, etc\n",
    ">>- We will look at moving averages for 50 and 100 days in this lesson\n",
    ">>- We can use `field.rolling(window='n').mean()` syntax to define moving averages for the past 'n' observations\n",
    ">>- Where:\n",
    ">>>- `field` is a numeric value you want to calculate a rolling mean for\n",
    ">>>- `n` is the number of periods you want to use to calculate the rolling mean"
   ]
  },
  {
   "cell_type": "markdown",
   "metadata": {},
   "source": [
    "#### Define closing price moving averages for `50` and `100` days"
   ]
  },
  {
   "cell_type": "code",
   "execution_count": null,
   "metadata": {},
   "outputs": [],
   "source": []
  },
  {
   "cell_type": "code",
   "execution_count": null,
   "metadata": {},
   "outputs": [],
   "source": []
  },
  {
   "cell_type": "markdown",
   "metadata": {},
   "source": [
    "### Now, let's answer some descriptive analytics questions"
   ]
  },
  {
   "cell_type": "markdown",
   "metadata": {},
   "source": [
    "##### What was the adjusted closing price one year ago (Nov 12th, 2019)?\n",
    ">- Note: If you are getting these notes at a different time update the date accordingly"
   ]
  },
  {
   "cell_type": "code",
   "execution_count": null,
   "metadata": {},
   "outputs": [],
   "source": []
  },
  {
   "cell_type": "code",
   "execution_count": null,
   "metadata": {},
   "outputs": [],
   "source": []
  },
  {
   "cell_type": "markdown",
   "metadata": {},
   "source": [
    "##### On what date(s) did the maximum adjusted price occur? \n",
    ">- What was the price?"
   ]
  },
  {
   "cell_type": "code",
   "execution_count": null,
   "metadata": {},
   "outputs": [],
   "source": []
  },
  {
   "cell_type": "markdown",
   "metadata": {},
   "source": [
    "##### On what date(s) did the minimum price occur? \n",
    ">- What was the price?"
   ]
  },
  {
   "cell_type": "code",
   "execution_count": null,
   "metadata": {},
   "outputs": [],
   "source": []
  },
  {
   "cell_type": "markdown",
   "metadata": {},
   "source": [
    "##### How many days was the closing price above a $50?\n",
    ">- Several ways to get this answer"
   ]
  },
  {
   "cell_type": "code",
   "execution_count": null,
   "metadata": {},
   "outputs": [],
   "source": []
  },
  {
   "cell_type": "code",
   "execution_count": null,
   "metadata": {},
   "outputs": [],
   "source": []
  },
  {
   "cell_type": "markdown",
   "metadata": {},
   "source": [
    "##### What were the 2020 daily adjusted closing prices in the month of October (usually around the time Apple releases a new iPhone)? \n",
    ">- Several ways to do this. We will look at a couple."
   ]
  },
  {
   "cell_type": "markdown",
   "metadata": {},
   "source": [
    "#### First, using date methods on the index (date)"
   ]
  },
  {
   "cell_type": "code",
   "execution_count": null,
   "metadata": {},
   "outputs": [],
   "source": []
  },
  {
   "cell_type": "code",
   "execution_count": null,
   "metadata": {},
   "outputs": [],
   "source": []
  },
  {
   "cell_type": "markdown",
   "metadata": {},
   "source": [
    "#### Using a slice on the index"
   ]
  },
  {
   "cell_type": "code",
   "execution_count": null,
   "metadata": {},
   "outputs": [],
   "source": []
  },
  {
   "cell_type": "markdown",
   "metadata": {},
   "source": [
    "## Pandas Part(b): Visualize\n",
    ">- Visualizing data is a fundamental part of any analytics project\n",
    ">- Data visualization can provide support for both descriptive and predictive analytics\n",
    ">- Graphs can \"speak a thousand words\" and can be effectively used on Executive Summaries to convey powerful information to decision makers"
   ]
  },
  {
   "cell_type": "markdown",
   "metadata": {},
   "source": [
    "Narration Videos:\n",
    "\n",
    "- Part 1: https://youtu.be/qBvXG5_N7Ro\n",
    "- Part 2: https://youtu.be/ydP2Y6xVdnU"
   ]
  },
  {
   "cell_type": "markdown",
   "metadata": {},
   "source": [
    "### Plot a time series chart of the `close` price over the last 10 years\n",
    ">- We will be using the `plot()` function from `matplotlib`. More info can be found at the below link:\n",
    ">>- https://matplotlib.org/3.1.1/api/_as_gen/matplotlib.pyplot.plot.html\n",
    ">- We will also use a popular graphical styling module called `ggplot` = \"grammer of graphics\"\n",
    ">>- ggplot reference:  https://github.com/yhat/ggpy"
   ]
  },
  {
   "cell_type": "code",
   "execution_count": null,
   "metadata": {},
   "outputs": [],
   "source": []
  },
  {
   "cell_type": "markdown",
   "metadata": {},
   "source": [
    "#### Let's adjust some features of our graph\n",
    ">- With `figsize(width,height)` we can adjust the width and height of our chart\n",
    ">- With `plt.style.use(['dark_background`]) we can make the background black instead of the default white.\n",
    ">- The link below provides more documentation on the different ways you can customize your charts:\n",
    ">>- https://matplotlib.org/3.1.1/tutorials/introductory/customizing.html"
   ]
  },
  {
   "cell_type": "code",
   "execution_count": null,
   "metadata": {},
   "outputs": [],
   "source": []
  },
  {
   "cell_type": "markdown",
   "metadata": {},
   "source": [
    "### Now, plot the moving averages with the close price\n",
    ">- Stock analysts look at charts like this to help them decide when to buy and sell"
   ]
  },
  {
   "cell_type": "code",
   "execution_count": null,
   "metadata": {
    "scrolled": true
   },
   "outputs": [],
   "source": []
  },
  {
   "cell_type": "markdown",
   "metadata": {},
   "source": [
    "## Plotting Returns with the default `plot()` which is a line plot"
   ]
  },
  {
   "cell_type": "code",
   "execution_count": null,
   "metadata": {},
   "outputs": [],
   "source": []
  },
  {
   "cell_type": "markdown",
   "metadata": {},
   "source": [
    "## Plotting a boxplot for a summary chart on returns\n",
    "### Boxplots show us:\n",
    ">- Mean, Median, 1st and 3rd quartiles, minimum and maximum values\n",
    ">>- Reference: https://matplotlib.org/api/_as_gen/matplotlib.pyplot.boxplot.html#matplotlib.pyplot.boxplot"
   ]
  },
  {
   "cell_type": "code",
   "execution_count": null,
   "metadata": {},
   "outputs": [],
   "source": []
  }
 ],
 "metadata": {
  "kernelspec": {
   "display_name": "Python 3",
   "language": "python",
   "name": "python3"
  },
  "language_info": {
   "codemirror_mode": {
    "name": "ipython",
    "version": 3
   },
   "file_extension": ".py",
   "mimetype": "text/x-python",
   "name": "python",
   "nbconvert_exporter": "python",
   "pygments_lexer": "ipython3",
   "version": "3.8.5"
  },
  "latex_envs": {
   "LaTeX_envs_menu_present": true,
   "autoclose": false,
   "autocomplete": true,
   "bibliofile": "biblio.bib",
   "cite_by": "apalike",
   "current_citInitial": 1,
   "eqLabelWithNumbers": true,
   "eqNumInitial": 1,
   "hotkeys": {
    "equation": "Ctrl-E",
    "itemize": "Ctrl-I"
   },
   "labels_anchors": false,
   "latex_user_defs": false,
   "report_style_numbering": false,
   "user_envs_cfg": false
  }
 },
 "nbformat": 4,
 "nbformat_minor": 2
}
