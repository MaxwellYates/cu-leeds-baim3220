{
 "cells": [
  {
   "cell_type": "markdown",
   "id": "smaller-impact",
   "metadata": {},
   "source": [
    "# Using Microsoft Excel, Pandas, Matplotlib, and Microsoft Word\n",
    "\n",
    "This exercise is one of reading Excel data into Pandas, analysing, ploting, and creating output file in Microsoft Word. Add cells as you need them."
   ]
  },
  {
   "cell_type": "code",
   "execution_count": 1,
   "id": "global-substitute",
   "metadata": {},
   "outputs": [],
   "source": [
    "import datetime\n",
    "import pandas as pd\n",
    "import numpy as np"
   ]
  },
  {
   "cell_type": "markdown",
   "id": "divine-replication",
   "metadata": {},
   "source": [
    "If you did the week 14 and 15 typealongs you already have matplotlib installed."
   ]
  },
  {
   "cell_type": "code",
   "execution_count": 2,
   "id": "numeric-verification",
   "metadata": {},
   "outputs": [],
   "source": [
    "import matplotlib.pyplot as plt\n",
    "import matplotlib.image as mpimg"
   ]
  },
  {
   "cell_type": "markdown",
   "id": "sticky-modification",
   "metadata": {},
   "source": [
    "Install the docxtpl package in your Python environment. This is the same way you installed Pandas, so for example, you'll need to `pip install docxtpl`."
   ]
  },
  {
   "cell_type": "code",
   "execution_count": 3,
   "id": "biological-enforcement",
   "metadata": {},
   "outputs": [],
   "source": [
    "from docxtpl import (\n",
    "    DocxTemplate,\n",
    "    InlineImage,\n",
    ")  # For this you'll need to `pip install docxtpl`\n",
    "\n",
    "# This comes in with the templating library\n",
    "from docx.shared import Inches"
   ]
  },
  {
   "cell_type": "markdown",
   "id": "capable-crowd",
   "metadata": {},
   "source": [
    "# Part 1 - Say Hello With Word"
   ]
  },
  {
   "cell_type": "code",
   "execution_count": 4,
   "id": "shared-landscape",
   "metadata": {},
   "outputs": [],
   "source": [
    "# Create a docx template instance from the template Word file\n",
    "template = DocxTemplate(\"student_classes_schedule_template.docx\")"
   ]
  },
  {
   "cell_type": "code",
   "execution_count": 5,
   "id": "entire-qatar",
   "metadata": {},
   "outputs": [],
   "source": [
    "# Get an image from the file system\n",
    "image = InlineImage(template, \"cu-logo.png\", Inches(1.5))"
   ]
  },
  {
   "cell_type": "markdown",
   "id": "bearing-interval",
   "metadata": {},
   "source": [
    "Update the following dictionary with your information and add your classes."
   ]
  },
  {
   "cell_type": "code",
   "execution_count": 6,
   "id": "immune-logistics",
   "metadata": {},
   "outputs": [],
   "source": [
    "document_context = {\n",
    "    \"image\": image,\n",
    "    \"day\": datetime.datetime.now().strftime(\"%d\"),\n",
    "    \"month\": datetime.datetime.now().strftime(\"%B\"),\n",
    "    \"year\": datetime.datetime.now().strftime(\"%Y\"),\n",
    "    \"first_name\": \"Elvis\",\n",
    "    \"last_name\": \"Presley\",\n",
    "    \"courses\": [\n",
    "        {\n",
    "            \"code\": \"ENGL1220\",\n",
    "            \"description\": \"Shakespeare: Lessons in Business\",\n",
    "            \"start_date\": \"1/15/2021\",\n",
    "            \"end_date\": \"4/29/2021\",\n",
    "        },\n",
    "        {\n",
    "            \"code\": \"BAIM3220\",\n",
    "            \"description\": \"Introduction to Python Programming\",\n",
    "            \"start_date\": \"1/15/2021\",\n",
    "            \"end_date\": \"4/29/2021\",\n",
    "        },\n",
    "        {\n",
    "            \"code\": \"XBUS6500\",\n",
    "            \"description\": \"Corporate Strategy\",\n",
    "            \"start_date\": \"1/15/2021\",\n",
    "            \"end_date\": \"4/29/2021\",\n",
    "        },\n",
    "    ],\n",
    "}"
   ]
  },
  {
   "cell_type": "markdown",
   "id": "organized-quality",
   "metadata": {},
   "source": [
    "Run the following and take a look at the new file, 'student_classes_schedule.docx'."
   ]
  },
  {
   "cell_type": "code",
   "execution_count": 7,
   "id": "sacred-duncan",
   "metadata": {},
   "outputs": [],
   "source": [
    "# render the object in memory\n",
    "template.render(document_context)\n",
    "\n",
    "# save the object to the file system\n",
    "template.save(\"student_classes_schedule.docx\")"
   ]
  },
  {
   "cell_type": "markdown",
   "id": "scientific-reception",
   "metadata": {},
   "source": [
    "# Part 2 - Sales Discount Letters\n",
    "\n",
    "Who are our top three customers? I'd like to send a letter to our existing customers and offer them a discount as a thanks for their business."
   ]
  },
  {
   "cell_type": "markdown",
   "id": "emerging-shame",
   "metadata": {},
   "source": [
    "## Part 2.1 - Read our Inventory data\n",
    "\n",
    "Look up the pd.read_excel() function to read the `Inventory.xlsx` file and the sheets -- you determine which ones -- you need into dataframes."
   ]
  },
  {
   "cell_type": "code",
   "execution_count": null,
   "id": "architectural-leonard",
   "metadata": {},
   "outputs": [],
   "source": []
  },
  {
   "cell_type": "code",
   "execution_count": null,
   "id": "conscious-potential",
   "metadata": {},
   "outputs": [],
   "source": []
  },
  {
   "cell_type": "code",
   "execution_count": null,
   "id": "latest-candle",
   "metadata": {},
   "outputs": [],
   "source": []
  },
  {
   "cell_type": "code",
   "execution_count": null,
   "id": "motivated-spell",
   "metadata": {},
   "outputs": [],
   "source": []
  },
  {
   "cell_type": "code",
   "execution_count": null,
   "id": "german-interstate",
   "metadata": {},
   "outputs": [],
   "source": []
  },
  {
   "cell_type": "code",
   "execution_count": null,
   "id": "synthetic-helping",
   "metadata": {},
   "outputs": [],
   "source": []
  },
  {
   "cell_type": "markdown",
   "id": "asian-washer",
   "metadata": {},
   "source": [
    "Cacluate a discount (I used a function and `apply()`), such that,\n",
    "\n",
    "- Give a 15% discount if the total purchases are greater than $300.\n",
    "\n",
    "- Give a 10% discount if the total purchases are greater than $100.\n",
    "\n",
    "- Otherwise give a 5% discount"
   ]
  },
  {
   "cell_type": "code",
   "execution_count": null,
   "id": "utility-grill",
   "metadata": {},
   "outputs": [],
   "source": []
  },
  {
   "cell_type": "markdown",
   "id": "electoral-drill",
   "metadata": {},
   "source": [
    "Apply your function creating a column called 'percentage_offer'. Remember to calculate discount based on the invoice total per customer."
   ]
  },
  {
   "cell_type": "code",
   "execution_count": null,
   "id": "wooden-addition",
   "metadata": {},
   "outputs": [],
   "source": []
  },
  {
   "cell_type": "code",
   "execution_count": null,
   "id": "herbal-cycle",
   "metadata": {},
   "outputs": [],
   "source": []
  },
  {
   "cell_type": "markdown",
   "id": "stuck-protection",
   "metadata": {},
   "source": [
    "## Part 2.2 - Create the reports\n",
    "\n",
    "Using the file 'sales_promotion_template.docx' to create files for the top three customers. The results files should be in the form `Promotional Sales Letter -- <customer_first_name> <customer_last_name>.docx`. \n",
    "\n",
    "If I were a top 3 customer I would expect a letter called \"Promotional Sales Letter -- Steve Taylor.docx\""
   ]
  },
  {
   "cell_type": "code",
   "execution_count": null,
   "id": "aggressive-bookmark",
   "metadata": {},
   "outputs": [],
   "source": []
  },
  {
   "cell_type": "markdown",
   "id": "fresh-classics",
   "metadata": {},
   "source": [
    "*********** DON'T MISS THIS **************\n",
    "\n",
    "Replace this markdown cell to describe your strategy of how you created the invoice totals, calculate discount, select the top three, and loop through that to create the top three files.\n",
    "\n",
    "If you create all of the customer files, watch out for giving 5% discounts to folks who have never purchased anything."
   ]
  },
  {
   "cell_type": "code",
   "execution_count": 8,
   "id": "atmospheric-chamber",
   "metadata": {
    "scrolled": true
   },
   "outputs": [],
   "source": [
    "# This is an example of the structure I used. It will be slightly different for each customer, yes?\n",
    "document_context = {\n",
    "    \"banner\": \"Promotional Sales Discount!\",\n",
    "    \"day\": datetime.datetime.now().strftime(\"%d\"),\n",
    "    \"month\": datetime.datetime.now().strftime(\"%B\"),\n",
    "    \"year\": datetime.datetime.now().strftime(\"%Y\"),\n",
    "    \"first_name\": \"Steve\",\n",
    "    \"last_name\": \"Taylor\",\n",
    "    \"percentage_award\": \"15\",\n",
    "    \"products\": [\n",
    "        {\"code\": \"xyz123\", \"description\": \"this is a description\"},\n",
    "        {\"code\": \"xyz789\", \"description\": \"this is a description\"},\n",
    "    ],\n",
    "}"
   ]
  },
  {
   "cell_type": "code",
   "execution_count": 9,
   "id": "pointed-mistake",
   "metadata": {},
   "outputs": [],
   "source": [
    "# We only need to read the template once, but the render and save have to be called for each customer.\n",
    "# template = DocxTemplate(\"sales_promotion_template.docx\")\n",
    "# template.render(document_context)\n",
    "# template.save(\n",
    "#    f\"Promotional Sales Letter -- {document_context['first_name']} {document_context['last_name']}.docx\"\n",
    "#)"
   ]
  },
  {
   "cell_type": "markdown",
   "id": "minimal-mention",
   "metadata": {},
   "source": [
    "# Part 3 - Create a report for financial folks"
   ]
  },
  {
   "cell_type": "markdown",
   "id": "technical-intersection",
   "metadata": {},
   "source": [
    "## Part 3.1 - Create Plots\n",
    "\n",
    "Create two additonal plots and insert them into the financials document called 'Current Financials.docx' (use the `current_financials_template.docx`.\n",
    "\n",
    "One plot is given below to show how to save the plot to your file system so it can be read back for Word."
   ]
  },
  {
   "cell_type": "code",
   "execution_count": 10,
   "id": "portable-viewer",
   "metadata": {},
   "outputs": [
    {
     "ename": "NameError",
     "evalue": "name 'products' is not defined",
     "output_type": "error",
     "traceback": [
      "\u001b[1;31m---------------------------------------------------------------------------\u001b[0m",
      "\u001b[1;31mNameError\u001b[0m                                 Traceback (most recent call last)",
      "\u001b[1;32m<ipython-input-10-645a3fc49b72>\u001b[0m in \u001b[0;36m<module>\u001b[1;34m\u001b[0m\n\u001b[0;32m      1\u001b[0m \u001b[1;31m# Pie chart, where the slices will be ordered and plotted counter-clockwise:\u001b[0m\u001b[1;33m\u001b[0m\u001b[1;33m\u001b[0m\u001b[1;33m\u001b[0m\u001b[0m\n\u001b[1;32m----> 2\u001b[1;33m \u001b[0mqoh_total\u001b[0m \u001b[1;33m=\u001b[0m \u001b[0mproducts\u001b[0m\u001b[1;33m.\u001b[0m\u001b[0mP_QOH\u001b[0m\u001b[1;33m.\u001b[0m\u001b[0msum\u001b[0m\u001b[1;33m(\u001b[0m\u001b[1;33m)\u001b[0m\u001b[1;33m\u001b[0m\u001b[1;33m\u001b[0m\u001b[0m\n\u001b[0m\u001b[0;32m      3\u001b[0m \u001b[0mmin_total\u001b[0m \u001b[1;33m=\u001b[0m \u001b[0mproducts\u001b[0m\u001b[1;33m.\u001b[0m\u001b[0mP_MIN\u001b[0m\u001b[1;33m.\u001b[0m\u001b[0msum\u001b[0m\u001b[1;33m(\u001b[0m\u001b[1;33m)\u001b[0m\u001b[1;33m\u001b[0m\u001b[1;33m\u001b[0m\u001b[0m\n\u001b[0;32m      4\u001b[0m \u001b[1;33m\u001b[0m\u001b[0m\n\u001b[0;32m      5\u001b[0m \u001b[0mlabels\u001b[0m \u001b[1;33m=\u001b[0m \u001b[1;33m[\u001b[0m\u001b[1;34m\"Quantity on Hand\"\u001b[0m\u001b[1;33m,\u001b[0m \u001b[1;34m\"Reorder Minimum\"\u001b[0m\u001b[1;33m]\u001b[0m\u001b[1;33m\u001b[0m\u001b[1;33m\u001b[0m\u001b[0m\n",
      "\u001b[1;31mNameError\u001b[0m: name 'products' is not defined"
     ]
    }
   ],
   "source": [
    "# Pie chart, where the slices will be ordered and plotted counter-clockwise:\n",
    "qoh_total = products.P_QOH.sum()\n",
    "min_total = products.P_MIN.sum()\n",
    "\n",
    "labels = [\"Quantity on Hand\", \"Reorder Minimum\"]\n",
    "sizes = [qoh_total, min_total]\n",
    "explode = (0, 0.1)  # explode out the minimums\n",
    "\n",
    "fig1, ax = plt.subplots()\n",
    "ax.pie(\n",
    "    sizes, explode=explode, labels=labels, autopct=\"%1.1f%%\", shadow=True, startangle=90\n",
    ")\n",
    "\n",
    "plt.show()\n",
    "\n",
    "# a simple plot is just plt.savefig, but our subplots returns fig1 for this purpose\n",
    "fig1.savefig(\"quantities-v-reorder.png\", transparent=True)"
   ]
  },
  {
   "cell_type": "markdown",
   "id": "mobile-species",
   "metadata": {},
   "source": [
    "Create a line (or scatter if you prefer) plot that shows the dates on the X axis, and the invoice totals on the Y. Remember to savefig() to a file on your file system."
   ]
  },
  {
   "cell_type": "code",
   "execution_count": null,
   "id": "suburban-badge",
   "metadata": {},
   "outputs": [],
   "source": []
  },
  {
   "cell_type": "markdown",
   "id": "sized-truth",
   "metadata": {},
   "source": [
    "Create a plot the two series of Customer's total spend (as a percentage of total revenue), and their discount percentage values (from the second part of this notebook above). If you didn't do that part find another series that is interesting to compare. I asked for percentage of total revenue to ensure the Y axis was of the same scale."
   ]
  },
  {
   "cell_type": "code",
   "execution_count": null,
   "id": "verified-scenario",
   "metadata": {},
   "outputs": [],
   "source": []
  },
  {
   "cell_type": "markdown",
   "id": "caring-summary",
   "metadata": {},
   "source": [
    "## Part 3.2 - Assemble the report\n",
    "\n",
    "This is the same as the first section at the top of this notebook, but instead of one image it has three."
   ]
  },
  {
   "cell_type": "code",
   "execution_count": null,
   "id": "outdoor-compound",
   "metadata": {},
   "outputs": [],
   "source": [
    "# Create a docx template instance from the template Word file\n",
    "template = DocxTemplate(\"current_financials_template.docx\")"
   ]
  },
  {
   "cell_type": "code",
   "execution_count": null,
   "id": "handmade-thong",
   "metadata": {},
   "outputs": [],
   "source": [
    "# read in the first image\n",
    "image1 = InlineImage(template, \"quantities-v-reorder.png\", Inches(4))"
   ]
  },
  {
   "cell_type": "code",
   "execution_count": null,
   "id": "integral-destination",
   "metadata": {},
   "outputs": [],
   "source": [
    "# read in the second image\n"
   ]
  },
  {
   "cell_type": "code",
   "execution_count": null,
   "id": "different-matthew",
   "metadata": {},
   "outputs": [],
   "source": [
    "# read in the third image\n"
   ]
  },
  {
   "cell_type": "code",
   "execution_count": null,
   "id": "thirty-strain",
   "metadata": {},
   "outputs": [],
   "source": [
    "# This is an example of the structure I used.\n",
    "document_context = {\n",
    "    \"day\": datetime.datetime.now().strftime(\"%d\"),\n",
    "    \"month\": datetime.datetime.now().strftime(\"%B\"),\n",
    "    \"year\": datetime.datetime.now().strftime(\"%Y\"),\n",
    "    \"image1\": image1,\n",
    "    \"image2\": image2,\n",
    "    \"image3\": image3,\n",
    "}"
   ]
  },
  {
   "cell_type": "code",
   "execution_count": null,
   "id": "controversial-confidence",
   "metadata": {},
   "outputs": [],
   "source": [
    "# render the object in memory\n",
    "template.render(document_context)\n",
    "\n",
    "# save the object to the file system\n",
    "template.save(\"Current Financials.docx\")"
   ]
  }
 ],
 "metadata": {
  "kernelspec": {
   "display_name": "Python 3",
   "language": "python",
   "name": "python3"
  },
  "language_info": {
   "codemirror_mode": {
    "name": "ipython",
    "version": 3
   },
   "file_extension": ".py",
   "mimetype": "text/x-python",
   "name": "python",
   "nbconvert_exporter": "python",
   "pygments_lexer": "ipython3",
   "version": "3.8.5"
  }
 },
 "nbformat": 4,
 "nbformat_minor": 5
}
