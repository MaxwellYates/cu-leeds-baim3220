{
 "cells": [
  {
   "cell_type": "markdown",
   "metadata": {},
   "source": [
    "# Week 14/15 Warm-Up\n",
    "## Using Seaborn's Datasets to Practice Visualization\n",
    ">- Seaborn provides some example datasets from an online repository\n",
    ">- We use `sns.load_dataset()` to load an example dataset\n",
    ">- We can see the list of potential datasets with `sns.get_dataset_names()`\n",
    ">- [Seaborn Doc](https://seaborn.pydata.org/introduction.html)"
   ]
  },
  {
   "cell_type": "markdown",
   "metadata": {},
   "source": [
    "# Import Modules\n",
    ">- Import pandas as pd, matplotlib.pyplot as plt and seaborn as sns in the next cell"
   ]
  },
  {
   "cell_type": "code",
   "execution_count": null,
   "metadata": {},
   "outputs": [],
   "source": []
  },
  {
   "cell_type": "markdown",
   "metadata": {},
   "source": [
    "# Explore Seaborn Datasets\n",
    ">- Call `get_dataset_names()` to see a list of seaborns example datasets"
   ]
  },
  {
   "cell_type": "code",
   "execution_count": null,
   "metadata": {},
   "outputs": [],
   "source": []
  },
  {
   "cell_type": "markdown",
   "metadata": {},
   "source": [
    "# Load Dataset\n",
    ">- Load the `tips` dataset from seaborn and save as a DataFrame object"
   ]
  },
  {
   "cell_type": "code",
   "execution_count": null,
   "metadata": {},
   "outputs": [],
   "source": []
  },
  {
   "cell_type": "code",
   "execution_count": null,
   "metadata": {},
   "outputs": [],
   "source": []
  },
  {
   "cell_type": "code",
   "execution_count": null,
   "metadata": {},
   "outputs": [],
   "source": []
  },
  {
   "cell_type": "markdown",
   "metadata": {},
   "source": [
    "# Visualize"
   ]
  },
  {
   "cell_type": "markdown",
   "metadata": {},
   "source": [
    "## Create BoxPlots of all numerical columns in the `tips` dataset\n",
    ">- General Syntax: `sns.boxplot(data = DataFrame, options)`\n",
    ">- Common options\n",
    ">>- `showmeans=True` will display a mean symbol\n",
    ">>- `palette = <seabornpalettes>`, [seaborn color palettes](https://seaborn.pydata.org/tutorial/color_palettes.html)\n",
    ">>- [Seborn Color Reference](https://www.codecademy.com/articles/seaborn-design-ii)\n"
   ]
  },
  {
   "cell_type": "code",
   "execution_count": null,
   "metadata": {},
   "outputs": [],
   "source": []
  },
  {
   "cell_type": "markdown",
   "metadata": {},
   "source": [
    "## Create a Distribution Plot\n",
    ">- Use `distplot()` for the total_bill data\n",
    ">- General Syntax: `sns.displot(column, options)`\n",
    ">- Optional: `bins=<integer>` allows you to specify how wide your bars are"
   ]
  },
  {
   "cell_type": "code",
   "execution_count": null,
   "metadata": {},
   "outputs": [],
   "source": []
  },
  {
   "cell_type": "markdown",
   "metadata": {},
   "source": [
    "## Use `jointplot()` to compare two variables\n",
    ">- Question: How does the `total_bill` relate to `tip`?\n",
    ">- General syntax: `jointplot(x = 'column1', y='column2', data=DataFrame)`\n",
    ">- Optional: you can add `kind='reg'` to show a regression line on your plot"
   ]
  },
  {
   "cell_type": "code",
   "execution_count": null,
   "metadata": {},
   "outputs": [],
   "source": []
  },
  {
   "cell_type": "markdown",
   "metadata": {},
   "source": [
    "## Use `pairplot()` to show all bivariate comparisons between numerical columns\n",
    ">- General syntax: `sns.pairplot(DataFrame)`\n",
    ">- [pairplot() doc](https://seaborn.pydata.org/generated/seaborn.pairplot.html?highlight=pairplot#seaborn.pairplot)\n",
    ">- Optional: use `hue='columnName'` to color datapoints based on a categorical column passed\n",
    ">>- Try using hue with various columns, start with the `sex` column\n",
    ">- Note: depending on how large your dataset is, `pairplot()` may take some time to run\n",
    ">- `pairplot()` is a great tool to use in exploratory data analysis to quickly see how variables are distributed and related"
   ]
  },
  {
   "cell_type": "code",
   "execution_count": null,
   "metadata": {},
   "outputs": [],
   "source": []
  },
  {
   "cell_type": "markdown",
   "metadata": {},
   "source": [
    "## Anscombe's quartet\n",
    "\n",
    "Ansombe's quartet is a well-known exercise in showing that visualation often quickly clarifies what might not be clear with statistics alone.\n",
    "\n",
    "Read the file `anscombe_quartet.csv` into a dataframe and look at the contents."
   ]
  },
  {
   "cell_type": "markdown",
   "metadata": {},
   "source": [
    "[1] https://en.wikipedia.org/wiki/Anscombe%27s_quartet"
   ]
  },
  {
   "cell_type": "code",
   "execution_count": null,
   "metadata": {},
   "outputs": [],
   "source": []
  },
  {
   "cell_type": "markdown",
   "metadata": {},
   "source": [
    "Show the descriptive statistics for all four of the X columns, `[\"x1\", \"x2\", \"x3\", \"x4\"]`. Note the means, min, max, and std are virtually identical."
   ]
  },
  {
   "cell_type": "code",
   "execution_count": null,
   "metadata": {},
   "outputs": [],
   "source": []
  },
  {
   "cell_type": "markdown",
   "metadata": {},
   "source": [
    "Show the descriptive statistics for all four of the Y columns, `[\"y1\", \"y2\", \"y3\", \"y4\"]`. Note the means, min, max, and std are virtually identical."
   ]
  },
  {
   "cell_type": "code",
   "execution_count": null,
   "metadata": {},
   "outputs": [],
   "source": []
  },
  {
   "cell_type": "markdown",
   "metadata": {},
   "source": [
    "Display the correlations between and x and y for each of the four pairs. Note how closely the correlations match between pair-set (~0.816)."
   ]
  },
  {
   "cell_type": "code",
   "execution_count": null,
   "metadata": {},
   "outputs": [],
   "source": []
  },
  {
   "cell_type": "code",
   "execution_count": null,
   "metadata": {},
   "outputs": [],
   "source": []
  },
  {
   "cell_type": "code",
   "execution_count": null,
   "metadata": {},
   "outputs": [],
   "source": []
  },
  {
   "cell_type": "code",
   "execution_count": null,
   "metadata": {},
   "outputs": [],
   "source": []
  },
  {
   "cell_type": "markdown",
   "metadata": {},
   "source": [
    "Now use jointplot to plot each of the four pairs."
   ]
  },
  {
   "cell_type": "code",
   "execution_count": null,
   "metadata": {},
   "outputs": [],
   "source": []
  },
  {
   "cell_type": "code",
   "execution_count": null,
   "metadata": {},
   "outputs": [],
   "source": []
  },
  {
   "cell_type": "code",
   "execution_count": null,
   "metadata": {},
   "outputs": [],
   "source": []
  },
  {
   "cell_type": "code",
   "execution_count": null,
   "metadata": {},
   "outputs": [],
   "source": []
  }
 ],
 "metadata": {
  "kernelspec": {
   "display_name": "Python 3",
   "language": "python",
   "name": "python3"
  },
  "language_info": {
   "codemirror_mode": {
    "name": "ipython",
    "version": 3
   },
   "file_extension": ".py",
   "mimetype": "text/x-python",
   "name": "python",
   "nbconvert_exporter": "python",
   "pygments_lexer": "ipython3",
   "version": "3.8.5"
  }
 },
 "nbformat": 4,
 "nbformat_minor": 2
}
