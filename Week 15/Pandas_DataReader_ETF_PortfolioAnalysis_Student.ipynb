{
 "cells": [
  {
   "cell_type": "markdown",
   "metadata": {},
   "source": [
    "# `pandas` and Finance: Using python to build a diversified portfolio\n",
    "\n",
    "## Learning Objectives\n",
    ">- Read stock data from yahoo finance\n",
    ">- Calculate monthly and annual stock returns\n",
    ">- Calculate correlations between asset classes (stocks vs bonds)\n",
    ">- Analysis can then be used to build a diversified portfolio\n",
    "\n",
    "## After completing this lesson you will be able to:\n",
    "1. Apply pandas to a \"real world\" problem/exercise related to stock analysis\n",
    "2. Scrape/extract data from the web and store in a pandas DataFrame\n",
    "3. Perform descriptive analytics on stock data\n",
    "4. Calculate common stock metrics such as moving average\n",
    "5. Visualize data\n",
    " \n",
    "## Modules needed for this lesson (must be installed)\n",
    ">- To install `pandas-datareader` use the following code in a code cell or in your command prompt\n",
    "    1. Option 1: `conda install pandas-datareader`\n",
    "    2. Option 2: `pip install pandas-datareader`\n",
    "    \n",
    ">- To install Plotly and Plotly Express\n",
    "    1. Option 1: `conda install -c plotly plotly=4.13.0`\n",
    "    2. Option 2: `pip install plotly==4.13.0`\n",
    "\n",
    "## Files Needed and/or Data Sources:\n",
    ">- We will use `pandas_datareader` to extract data from YahooFinance\n",
    "\n",
    "\n",
    "## Initial references for this lesson (more given throughout lesson):\n",
    ">- Lesson Tutorial: https://towardsdatascience.com/in-12-minutes-stocks-analysis-with-pandas-and-scikit-learn-a8d8a7b50ee7\n",
    ">- Pandas Data Reader: https://pandas-datareader.readthedocs.io/en/latest/\n",
    ">- Datetime module: https://docs.python.org/3/library/datetime.html"
   ]
  },
  {
   "cell_type": "markdown",
   "metadata": {},
   "source": [
    "Narration Videos:\n",
    "\n",
    "- Part 1: https://youtu.be/Fy1Y1zzeg7o\n",
    "- Part 2: https://youtu.be/mhRXc1mewl4\n",
    "- Part 3: https://youtu.be/vTABqfdQoLM\n",
    "- Part 4: https://youtu.be/rvG5xQrsRyc\n",
    "- Part 5: https://youtu.be/A7xp0AiF3JE\n",
    "- Part 6: https://youtu.be/UMxcUG5Hh0s\n",
    "- Part 7: https://youtu.be/qVkxZNLqnWQ"
   ]
  },
  {
   "cell_type": "markdown",
   "metadata": {},
   "source": [
    "# Install the `pandas-datareader` module\n",
    ">- Note: I used the Anaconda powershell prompt to install this but other ways should work"
   ]
  },
  {
   "cell_type": "code",
   "execution_count": 1,
   "metadata": {},
   "outputs": [],
   "source": [
    "# Run code below if you do not have pandas-datareader installed yet \n",
    "# conda install pandas-datareader"
   ]
  },
  {
   "cell_type": "markdown",
   "metadata": {},
   "source": [
    "# Import Modules"
   ]
  },
  {
   "cell_type": "markdown",
   "metadata": {},
   "source": [
    "### These are our fundamental modules for working with pandas and reading data from the web"
   ]
  },
  {
   "cell_type": "code",
   "execution_count": 2,
   "metadata": {},
   "outputs": [],
   "source": []
  },
  {
   "cell_type": "markdown",
   "metadata": {},
   "source": [
    "### The following are needed for the data visualization component of this lesson\n",
    ">- Below is a link for various tutorials on `matplotlib` \n",
    ">>- [`matplotlib doc`](https://matplotlib.org/tutorials/index.html)\n",
    ">- Seaborn is built on top of matplotlib, has sample datasets built in, and helps build charts easier than working directly with matplotlib\n",
    ">>- [`seaborn doc`](https://seaborn.pydata.org/introduction.html)\n",
    ">- Plotly Creates Interactive Graphs\n",
    ">>- [`Plotly doc`](https://plotly.com/python/getting-started/)\n"
   ]
  },
  {
   "cell_type": "code",
   "execution_count": null,
   "metadata": {},
   "outputs": [],
   "source": []
  },
  {
   "cell_type": "markdown",
   "metadata": {},
   "source": [
    "# ETF DataFrame \n",
    "## Setting up a DataFrame to Store ETF Data\n",
    ">- We will collect data on 4 ETFs that will make a simple but diversified portfolio\n",
    ">>- We collect data on the following ETFs that together make a diversified portfolio:\n",
    ">>>- Stock ETF 1: VTI, Vanguard total US stock market ETF\n",
    ">>>- Stock ETF 2: VEU, Vanguard All World except US\n",
    ">>>- Bond ETF 1: BND, Vanguard total US bond market ETF \n",
    ">>>- Bond ETF 2: BNDX, Vanguard total international Bond excluding US"
   ]
  },
  {
   "cell_type": "markdown",
   "metadata": {},
   "source": [
    "### Set up variables to define our start and end dates for stock analysis\n",
    ">- We will look at stock prices over the past 10 years"
   ]
  },
  {
   "cell_type": "code",
   "execution_count": null,
   "metadata": {},
   "outputs": [],
   "source": []
  },
  {
   "cell_type": "markdown",
   "metadata": {},
   "source": [
    "### Read in Stock Data with `pandas DataReader` and yahoo Finance"
   ]
  },
  {
   "cell_type": "code",
   "execution_count": null,
   "metadata": {},
   "outputs": [],
   "source": [
    "                 "
   ]
  },
  {
   "cell_type": "code",
   "execution_count": null,
   "metadata": {},
   "outputs": [],
   "source": []
  },
  {
   "cell_type": "code",
   "execution_count": null,
   "metadata": {},
   "outputs": [],
   "source": []
  },
  {
   "cell_type": "markdown",
   "metadata": {},
   "source": [
    "# Visualize Our Portfolio\n",
    "## Initial Visualization of our ETF Data"
   ]
  },
  {
   "cell_type": "markdown",
   "metadata": {},
   "source": [
    "### First, `pandas` built in data visualization can provide for some quick plotting\n",
    ">- `pandas` built-in visualization is built off of matplotlib \n",
    ">- [pandas Viz doc](https://pandas.pydata.org/pandas-docs/stable/user_guide/visualization.html)\n",
    "\n",
    "Let's makes some plots to get familiar with the pandas built-in data visualization\n",
    ">- Line plot\n",
    ">- Histogram\n",
    ">- Box plot"
   ]
  },
  {
   "cell_type": "markdown",
   "metadata": {},
   "source": [
    "#### pandas Line Plot"
   ]
  },
  {
   "cell_type": "code",
   "execution_count": null,
   "metadata": {
    "scrolled": true
   },
   "outputs": [],
   "source": []
  },
  {
   "cell_type": "markdown",
   "metadata": {},
   "source": [
    "#### pandas Histogram"
   ]
  },
  {
   "cell_type": "code",
   "execution_count": null,
   "metadata": {},
   "outputs": [],
   "source": []
  },
  {
   "cell_type": "markdown",
   "metadata": {},
   "source": [
    "#### pandas Box Plots"
   ]
  },
  {
   "cell_type": "code",
   "execution_count": null,
   "metadata": {
    "scrolled": true
   },
   "outputs": [],
   "source": []
  },
  {
   "cell_type": "markdown",
   "metadata": {},
   "source": [
    "### Plotting with `seaborn` and `plotly` for exposure to other data viz modules"
   ]
  },
  {
   "cell_type": "markdown",
   "metadata": {},
   "source": [
    "#### `Seaborn` Line Plot"
   ]
  },
  {
   "cell_type": "code",
   "execution_count": null,
   "metadata": {},
   "outputs": [],
   "source": []
  },
  {
   "cell_type": "markdown",
   "metadata": {},
   "source": [
    "#### `Plotly` Interactive Graphs"
   ]
  },
  {
   "cell_type": "markdown",
   "metadata": {},
   "source": [
    "##### Plotly Express Line Chart\n",
    ">- Hover over top right corner of chart for more options"
   ]
  },
  {
   "cell_type": "code",
   "execution_count": null,
   "metadata": {},
   "outputs": [],
   "source": [
    "px.line(etf, title='My ETF Portfolio')"
   ]
  },
  {
   "cell_type": "markdown",
   "metadata": {},
   "source": [
    "# Data Preparation \n",
    "## Add year, month, day columns to our dataframe\n",
    ">- First create a new dataframe by copying `etf`\n",
    ">>- Passing in `deep=True` creates a copy of the DataFrame including the data and indices"
   ]
  },
  {
   "cell_type": "code",
   "execution_count": null,
   "metadata": {},
   "outputs": [],
   "source": []
  },
  {
   "cell_type": "code",
   "execution_count": null,
   "metadata": {},
   "outputs": [],
   "source": []
  },
  {
   "cell_type": "markdown",
   "metadata": {},
   "source": [
    "#### Now, add in year, month, and day fields"
   ]
  },
  {
   "cell_type": "code",
   "execution_count": null,
   "metadata": {
    "scrolled": true
   },
   "outputs": [],
   "source": []
  },
  {
   "cell_type": "code",
   "execution_count": null,
   "metadata": {},
   "outputs": [],
   "source": []
  },
  {
   "cell_type": "markdown",
   "metadata": {},
   "source": [
    "## Find and store the last trading day for each month\n",
    ">- This allows us to calculate monthly and annual returns based on last trading days of month/year\n",
    "\n",
    "### We will look at doing this several ways:\n",
    "\n",
    "#### 1. Creating a new `lastday` DataFrame and joining to our stock data\n",
    ">- This method joins on year, month, and day to return a stock DataFrame only containing prices on the last trading day of each month\n",
    "\n",
    "#### 2. Grouping the data\n",
    ">- Here we will use groupby() and the agg() functions to return the last trading days in each month\n",
    ">- This is a more concise way of accomplishing what we want"
   ]
  },
  {
   "cell_type": "markdown",
   "metadata": {},
   "source": [
    "### Option 1\n",
    ">- Create a `lastday` DataFrame and join back to our stock price DataFrame \n",
    ">- All this DataFrame does is store the last trading day in each month"
   ]
  },
  {
   "cell_type": "code",
   "execution_count": null,
   "metadata": {},
   "outputs": [],
   "source": []
  },
  {
   "cell_type": "code",
   "execution_count": null,
   "metadata": {},
   "outputs": [],
   "source": []
  },
  {
   "cell_type": "markdown",
   "metadata": {},
   "source": [
    "#### Now, merge `etf1` and `lastday` DataFrames to create `etf2`\n",
    ">- `etf2` is a DataFrame that will only show the adjusted closing price on the last trading day of every month\n",
    ">- By joining on year, month, and day we will get a DataFrame that only shows us the adjusted closing price on the last trading day of the month. "
   ]
  },
  {
   "cell_type": "code",
   "execution_count": null,
   "metadata": {},
   "outputs": [],
   "source": []
  },
  {
   "cell_type": "markdown",
   "metadata": {},
   "source": [
    "### Option 2\n",
    "#### An alternate way to get the last trading days of each month without joining\n",
    ">- Grouping by year and month and taking the max of all other columns accomplishes the same thing as our join"
   ]
  },
  {
   "cell_type": "code",
   "execution_count": null,
   "metadata": {},
   "outputs": [],
   "source": []
  },
  {
   "cell_type": "code",
   "execution_count": null,
   "metadata": {},
   "outputs": [],
   "source": []
  },
  {
   "cell_type": "markdown",
   "metadata": {},
   "source": [
    "## DataPrep Continued...\n",
    "### Set the index of the monthly stock data, `etf2`"
   ]
  },
  {
   "cell_type": "code",
   "execution_count": null,
   "metadata": {},
   "outputs": [],
   "source": []
  },
  {
   "cell_type": "code",
   "execution_count": null,
   "metadata": {},
   "outputs": [],
   "source": []
  },
  {
   "cell_type": "markdown",
   "metadata": {},
   "source": [
    "### Add 1 month lags to all our month end prices\n",
    ">- This allows us to calculate monthly return"
   ]
  },
  {
   "cell_type": "code",
   "execution_count": null,
   "metadata": {},
   "outputs": [],
   "source": []
  },
  {
   "cell_type": "markdown",
   "metadata": {},
   "source": [
    "### Add Columns for Monthly Returns"
   ]
  },
  {
   "cell_type": "code",
   "execution_count": null,
   "metadata": {
    "scrolled": true
   },
   "outputs": [],
   "source": []
  },
  {
   "cell_type": "markdown",
   "metadata": {},
   "source": [
    "### Alternatively, we can use the `pct_change()` function to find returns on the original data\n",
    ">- Percent change computes the percentage change from the immediately previous row by default.\n",
    ">- Here, we only want to select the original ETF columns and not the lagged columns\n",
    "\n",
    "[pct_change() doc](https://pandas.pydata.org/pandas-docs/stable/reference/api/pandas.DataFrame.pct_change.html)"
   ]
  },
  {
   "cell_type": "code",
   "execution_count": null,
   "metadata": {
    "scrolled": true
   },
   "outputs": [],
   "source": []
  },
  {
   "cell_type": "markdown",
   "metadata": {},
   "source": [
    "# Annual Returns\n",
    "## Annual returns given a certain month as the baseline\n",
    ">- Here, you could change the month depending on when you are planning on investing or analyzing data"
   ]
  },
  {
   "cell_type": "code",
   "execution_count": null,
   "metadata": {},
   "outputs": [],
   "source": []
  },
  {
   "cell_type": "markdown",
   "metadata": {},
   "source": [
    "### Now, add some annual lags to `etfann`\n",
    ">- Let's use a loop for practice and for larger datasets"
   ]
  },
  {
   "cell_type": "code",
   "execution_count": null,
   "metadata": {},
   "outputs": [],
   "source": []
  },
  {
   "cell_type": "markdown",
   "metadata": {},
   "source": [
    "### Calculate annual returns with a loop\n",
    ">- Make sure to slice columns to only calculate returns on original ETF columns"
   ]
  },
  {
   "cell_type": "code",
   "execution_count": null,
   "metadata": {},
   "outputs": [],
   "source": []
  },
  {
   "cell_type": "code",
   "execution_count": null,
   "metadata": {},
   "outputs": [],
   "source": []
  },
  {
   "cell_type": "code",
   "execution_count": null,
   "metadata": {},
   "outputs": [],
   "source": []
  },
  {
   "cell_type": "markdown",
   "metadata": {},
   "source": [
    "### If all we want to see are percent returns, you can use `pct_change()`\n",
    "[`pct_change()`](https://pandas.pydata.org/pandas-docs/stable/reference/api/pandas.DataFrame.pct_change.html)"
   ]
  },
  {
   "cell_type": "code",
   "execution_count": null,
   "metadata": {},
   "outputs": [],
   "source": []
  },
  {
   "cell_type": "markdown",
   "metadata": {},
   "source": [
    "# ETF Portfolio Analysis"
   ]
  },
  {
   "cell_type": "markdown",
   "metadata": {},
   "source": [
    "## Q1: How many years were `VTI` returns positive?\n",
    ">- Compare this to the total years analyzed. Does `VTI` seem like a decent investment? "
   ]
  },
  {
   "cell_type": "code",
   "execution_count": null,
   "metadata": {},
   "outputs": [],
   "source": []
  },
  {
   "cell_type": "code",
   "execution_count": null,
   "metadata": {},
   "outputs": [],
   "source": []
  },
  {
   "cell_type": "markdown",
   "metadata": {},
   "source": [
    "## Q2: What was `VTI`'s average annual return during the time frame analyzed?\n",
    ">- Round to three decimals"
   ]
  },
  {
   "cell_type": "code",
   "execution_count": null,
   "metadata": {},
   "outputs": [],
   "source": []
  },
  {
   "cell_type": "markdown",
   "metadata": {},
   "source": [
    "## Q3: What are the descriptive annual return statistics?"
   ]
  },
  {
   "cell_type": "code",
   "execution_count": null,
   "metadata": {},
   "outputs": [],
   "source": []
  },
  {
   "cell_type": "markdown",
   "metadata": {},
   "source": [
    "## Q4: How many months has `VTI` had a negative monthly return?\n",
    ">- Compare this to the total number of months in the DataFrame"
   ]
  },
  {
   "cell_type": "code",
   "execution_count": null,
   "metadata": {},
   "outputs": [],
   "source": []
  },
  {
   "cell_type": "code",
   "execution_count": null,
   "metadata": {
    "scrolled": true
   },
   "outputs": [],
   "source": []
  },
  {
   "cell_type": "markdown",
   "metadata": {},
   "source": [
    "## Q5: What are the descriptive statistics on the monthly ETF returns?\n",
    ">- Note the mean, min, max, median, and standard deviation"
   ]
  },
  {
   "cell_type": "code",
   "execution_count": null,
   "metadata": {},
   "outputs": [],
   "source": []
  },
  {
   "cell_type": "code",
   "execution_count": null,
   "metadata": {},
   "outputs": [],
   "source": []
  },
  {
   "cell_type": "markdown",
   "metadata": {},
   "source": [
    "#### Plot BoxPlots of Monthly Returns to Visualize Descriptive Statistics"
   ]
  },
  {
   "cell_type": "code",
   "execution_count": null,
   "metadata": {
    "scrolled": true
   },
   "outputs": [],
   "source": []
  },
  {
   "cell_type": "markdown",
   "metadata": {},
   "source": [
    "#### Plot monthly returns using plotly graphs"
   ]
  },
  {
   "cell_type": "code",
   "execution_count": null,
   "metadata": {},
   "outputs": [],
   "source": []
  },
  {
   "cell_type": "markdown",
   "metadata": {},
   "source": [
    "# Asset Correlations\n",
    "## Calculate ETF return correlations\n",
    ">- Note: A well diversified portfolio will have a mix of low or negatively correlated asset classes\n",
    ">>- Typically, stocks and bonds are negatively correlated but lets see how our ETFs relate\n",
    ">- Note: our unit of analysis is a month where we calculated monthly returns for our ETFs\n",
    ">>- The correlation we are finding then is the correlation of monthly returns"
   ]
  },
  {
   "cell_type": "markdown",
   "metadata": {},
   "source": [
    "## Monthly Asset Correlations\n",
    ">- For portfolio diversification, look for assets classes that have low or negative correlation "
   ]
  },
  {
   "cell_type": "code",
   "execution_count": null,
   "metadata": {
    "scrolled": true
   },
   "outputs": [],
   "source": []
  },
  {
   "cell_type": "markdown",
   "metadata": {},
   "source": [
    "## Annual Asset Correlations"
   ]
  },
  {
   "cell_type": "code",
   "execution_count": null,
   "metadata": {},
   "outputs": [],
   "source": []
  },
  {
   "cell_type": "markdown",
   "metadata": {},
   "source": [
    "## Visualize ETF Relationships\n",
    "### Now let's visualize our returns"
   ]
  },
  {
   "cell_type": "markdown",
   "metadata": {},
   "source": [
    "### First, let's look at how our two stock ETFs relate\n",
    ">- We would expect a pretty high correlation but let's take a look\n",
    ">- Seaborn's `lmplot()` lets us plot a scatter plot with a linear regression line"
   ]
  },
  {
   "cell_type": "code",
   "execution_count": null,
   "metadata": {},
   "outputs": [],
   "source": []
  },
  {
   "cell_type": "markdown",
   "metadata": {},
   "source": [
    "### Now let's look at how our bond ETFs look plotted against each other"
   ]
  },
  {
   "cell_type": "code",
   "execution_count": null,
   "metadata": {},
   "outputs": [],
   "source": []
  },
  {
   "cell_type": "markdown",
   "metadata": {},
   "source": [
    "### How does VTI (total US stock etf) correlate to BND (total US bond etf)?"
   ]
  },
  {
   "cell_type": "code",
   "execution_count": null,
   "metadata": {},
   "outputs": [],
   "source": []
  },
  {
   "cell_type": "markdown",
   "metadata": {},
   "source": [
    "### Seaborns `pairplot()` will plot all pairwise scatter plots as well as distributions of all variables"
   ]
  },
  {
   "cell_type": "code",
   "execution_count": null,
   "metadata": {},
   "outputs": [],
   "source": []
  }
 ],
 "metadata": {
  "kernelspec": {
   "display_name": "Python 3",
   "language": "python",
   "name": "python3"
  },
  "language_info": {
   "codemirror_mode": {
    "name": "ipython",
    "version": 3
   },
   "file_extension": ".py",
   "mimetype": "text/x-python",
   "name": "python",
   "nbconvert_exporter": "python",
   "pygments_lexer": "ipython3",
   "version": "3.8.5"
  },
  "latex_envs": {
   "LaTeX_envs_menu_present": true,
   "autoclose": false,
   "autocomplete": true,
   "bibliofile": "biblio.bib",
   "cite_by": "apalike",
   "current_citInitial": 1,
   "eqLabelWithNumbers": true,
   "eqNumInitial": 1,
   "hotkeys": {
    "equation": "Ctrl-E",
    "itemize": "Ctrl-I"
   },
   "labels_anchors": false,
   "latex_user_defs": false,
   "report_style_numbering": false,
   "user_envs_cfg": false
  }
 },
 "nbformat": 4,
 "nbformat_minor": 2
}
