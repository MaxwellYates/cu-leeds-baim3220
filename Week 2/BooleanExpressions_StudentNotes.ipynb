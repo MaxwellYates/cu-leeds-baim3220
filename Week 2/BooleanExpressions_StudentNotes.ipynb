{
 "cells": [
  {
   "cell_type": "markdown",
   "metadata": {},
   "source": [
    "# Python Boolean Expressions\n",
    "## Student Notes\n",
    "***\n",
    "## Learning Objectives\n",
    ">- In this lesson, we will learn:\n",
    "        1. Define the Boolean data type\n",
    "        2. Apply and define comparison opperatorss \n",
    "        3. Apply and define Boolean operators \n",
    "      \n",
    "## Modules covered in this lesson: \n",
    ">- none\n",
    "\n",
    "## Links to topics and functions:\n",
    ">- `Boolean Values` <a id='BooleanValues'></a>\n",
    "[Boolean Values](#Boolean-Values)\n",
    "\n",
    ">- `Comparison Operators` <a id='CompOps'></a>\n",
    "[Comparison Operators](#Comparison-Operators)\n",
    "\n",
    ">- `Boolean Operators` <a id='BoolOps'></a> [Boolean_Operators](#Boolean-Operators)\n",
    "\n",
    ">- `Homework` <a id='Homework'></a> [Homework](#Exercises-to-complete-on-your-own:) \n",
    "\n",
    "### Path to main python folder: C:\\\\Users\\\\mimc2537\\OneDrive - UCB-O365\\python\\week3\n",
    "#### References: Sweigart(2015, pp. 31-36)"
   ]
  },
  {
   "cell_type": "markdown",
   "metadata": {},
   "source": [
    "### Narration videos:\n",
    "\n",
    "- Narration Video 1/2: https://youtu.be/QRKN2PXB2po\n",
    "- Narration Video 2/2: https://youtu.be/vAS9ObhYOjg"
   ]
  },
  {
   "cell_type": "markdown",
   "metadata": {},
   "source": [
    "# Boolean Values\n",
    "\n",
    ">- The Boolean data type has two possible values intended to to represent the two truth values of logic and Boolean Algebra.\n",
    ">- The Boolean data type has the values `True` and `False`\n",
    "\n",
    "Some notes on Boolean values: \n",
    "\n",
    "1. `True` and `False` will have capitals to start the values (`T` or `F`)\n",
    "2. When typed as Python code, the Boolean values will not have quotes around them\n",
    "3. We cannot name a variable using one of the two values of a Boolean data type\n",
    "\n",
    "Let's work through some examples to get familiar with the Boolean data type\n",
    "\n",
    "<a id='Top'></a>[Top of Page](#Python-Boolean-Expressions)"
   ]
  },
  {
   "cell_type": "code",
   "execution_count": null,
   "metadata": {},
   "outputs": [],
   "source": []
  },
  {
   "cell_type": "code",
   "execution_count": null,
   "metadata": {},
   "outputs": [],
   "source": []
  },
  {
   "cell_type": "code",
   "execution_count": null,
   "metadata": {},
   "outputs": [],
   "source": []
  },
  {
   "cell_type": "code",
   "execution_count": null,
   "metadata": {},
   "outputs": [],
   "source": []
  },
  {
   "cell_type": "code",
   "execution_count": null,
   "metadata": {},
   "outputs": [],
   "source": []
  },
  {
   "cell_type": "code",
   "execution_count": null,
   "metadata": {},
   "outputs": [],
   "source": []
  },
  {
   "cell_type": "markdown",
   "metadata": {},
   "source": [
    "# Comparison Operators\n",
    "We use comparison operators to peform logical operations so that our code can make decisions.\n",
    "\n",
    "*Comparison operators* compare two values and evaluate down to a single value.\n",
    "\n",
    "This table lists the comparison operators:\n",
    "\n",
    "|Operator | Comparison              | Example | Evaluates to...|  Appropriate Data Types |\n",
    "|:-------:|:---------:              |:-------:|:--------------:|:-----------------------:|\n",
    "|==       |Equal to                 | 2 == 3  |  False          | Any                    |\n",
    "|!=       |Not equal to             | 2 !=3   |  True           | Any                    |\n",
    "|<        |Less than                | 2 < 3   |  True           | Int and Float          |\n",
    "|>        |Greater than             | 2 > 3   |  False          | Int and Float          |\n",
    "|<=       |Less than or equal to    | 5 <= 5  |  True           | Int and Float          |\n",
    "|>=       |Greater than or equal to | 5 >= 10 |  False          | Int and Float          |"
   ]
  },
  {
   "cell_type": "code",
   "execution_count": null,
   "metadata": {},
   "outputs": [],
   "source": []
  },
  {
   "cell_type": "code",
   "execution_count": null,
   "metadata": {},
   "outputs": [],
   "source": []
  },
  {
   "cell_type": "code",
   "execution_count": null,
   "metadata": {},
   "outputs": [],
   "source": []
  },
  {
   "cell_type": "code",
   "execution_count": null,
   "metadata": {},
   "outputs": [],
   "source": []
  },
  {
   "cell_type": "code",
   "execution_count": null,
   "metadata": {},
   "outputs": [],
   "source": []
  },
  {
   "cell_type": "code",
   "execution_count": null,
   "metadata": {},
   "outputs": [],
   "source": []
  },
  {
   "cell_type": "code",
   "execution_count": null,
   "metadata": {},
   "outputs": [],
   "source": []
  },
  {
   "cell_type": "code",
   "execution_count": null,
   "metadata": {},
   "outputs": [],
   "source": []
  },
  {
   "cell_type": "code",
   "execution_count": null,
   "metadata": {},
   "outputs": [],
   "source": []
  },
  {
   "cell_type": "code",
   "execution_count": null,
   "metadata": {},
   "outputs": [],
   "source": []
  },
  {
   "cell_type": "markdown",
   "metadata": {},
   "source": [
    "## Ex1: Boolean example combining what we learned in prior lessons\n",
    "### Task: create a program to ask a user for their age and check if their age is less than or equal to 50."
   ]
  },
  {
   "cell_type": "code",
   "execution_count": null,
   "metadata": {},
   "outputs": [],
   "source": []
  },
  {
   "cell_type": "code",
   "execution_count": null,
   "metadata": {},
   "outputs": [],
   "source": []
  },
  {
   "cell_type": "code",
   "execution_count": null,
   "metadata": {},
   "outputs": [],
   "source": []
  },
  {
   "cell_type": "code",
   "execution_count": null,
   "metadata": {},
   "outputs": [],
   "source": []
  },
  {
   "cell_type": "code",
   "execution_count": null,
   "metadata": {},
   "outputs": [],
   "source": []
  },
  {
   "cell_type": "markdown",
   "metadata": {},
   "source": [
    "## Ex1a: Is there a \"better\" way to write this program? "
   ]
  },
  {
   "cell_type": "code",
   "execution_count": null,
   "metadata": {},
   "outputs": [],
   "source": []
  },
  {
   "cell_type": "code",
   "execution_count": null,
   "metadata": {},
   "outputs": [],
   "source": []
  },
  {
   "cell_type": "code",
   "execution_count": null,
   "metadata": {},
   "outputs": [],
   "source": []
  },
  {
   "cell_type": "code",
   "execution_count": null,
   "metadata": {},
   "outputs": [],
   "source": []
  },
  {
   "cell_type": "code",
   "execution_count": null,
   "metadata": {},
   "outputs": [],
   "source": []
  },
  {
   "cell_type": "markdown",
   "metadata": {},
   "source": [
    "# Boolean Operators\n",
    "<a id='Top'></a>[Top of Page](#Python-Boolean-Expressions)\n",
    "\n",
    "Boolean operators are used to compare Boolean values. The Boolean operators are:\n",
    "\n",
    ">- `and`\n",
    ">- `or`\n",
    ">- `not`\n",
    "    \n",
    "## Truth tables can be used to show us every possible for a Boolean operator\n",
    "\n",
    "### `and` operator Truth Table\n",
    "\n",
    "\n",
    "|Expression      | Evaluates to:    \n",
    "|:-------:       |:---------:  | \n",
    "|True and True   | True        | \n",
    "|True and False  | False       | \n",
    "|False and True  | False       | \n",
    "|False and False | False       | \n",
    "\n",
    "\n",
    "### The `or` operator Truth Table\n",
    "\n",
    "|Expression      | Evaluates to:    \n",
    "|:-------:       |:---------:  | \n",
    "|True or True    | True        | \n",
    "|True or False   | True        | \n",
    "|False or True   | True        | \n",
    "|False or False  | False       | \n",
    "\n",
    "### The `not` operator Truth Table\n",
    "\n",
    "|Expression      | Evaluates to:    \n",
    "|:-------:       |:---------:  | \n",
    "|not True        | False       | \n",
    "|not False       | True        | \n",
    "\n",
    "Note: the `not` operator only operaters on one Boolean value\n",
    "\n",
    "#### Boolean operator order of operations\n",
    "1. not\n",
    "2. and\n",
    "3. or\n",
    "\n",
    "Lets work through some examples. "
   ]
  },
  {
   "cell_type": "code",
   "execution_count": null,
   "metadata": {},
   "outputs": [],
   "source": []
  },
  {
   "cell_type": "code",
   "execution_count": null,
   "metadata": {},
   "outputs": [],
   "source": []
  },
  {
   "cell_type": "code",
   "execution_count": null,
   "metadata": {},
   "outputs": [],
   "source": []
  },
  {
   "cell_type": "markdown",
   "metadata": {},
   "source": [
    "# Combining Comparison Operators with Boolean Operators\n",
    "<a id='Top'></a>[Top of Page](#Python-Boolean-Expressions)"
   ]
  },
  {
   "cell_type": "code",
   "execution_count": null,
   "metadata": {},
   "outputs": [],
   "source": []
  },
  {
   "cell_type": "code",
   "execution_count": null,
   "metadata": {},
   "outputs": [],
   "source": []
  },
  {
   "cell_type": "code",
   "execution_count": null,
   "metadata": {},
   "outputs": [],
   "source": []
  },
  {
   "cell_type": "code",
   "execution_count": null,
   "metadata": {},
   "outputs": [],
   "source": []
  },
  {
   "cell_type": "code",
   "execution_count": null,
   "metadata": {},
   "outputs": [],
   "source": []
  },
  {
   "cell_type": "markdown",
   "metadata": {},
   "source": [
    "### Understanding the Code Tips\n",
    ">- To help see what Boolean values are being returned use the print and str() functions to print out the resulting Boolean values from expressions within your code\n",
    ">- Then refer to truth tables to understand why Python returned the given Boolean value\n",
    ">- This becomes more valuable the more complex your code becomes "
   ]
  },
  {
   "cell_type": "code",
   "execution_count": null,
   "metadata": {},
   "outputs": [],
   "source": []
  },
  {
   "cell_type": "code",
   "execution_count": null,
   "metadata": {},
   "outputs": [],
   "source": []
  },
  {
   "cell_type": "markdown",
   "metadata": {},
   "source": [
    "# Exercises to complete on your own:\n",
    "\n",
    "1. Write out 5-10 more Boolean expresions with increasing complexity.\n",
    "2. Use the print() and str() functions to show the Boolean values being calculated throughout the expressions.\n",
    "3. In your final line of code, write the expression so the output will be a Boolean value.\n",
    "\n",
    "<a id='Top'></a>[Top of Page](#Python-Boolean-Expressions)"
   ]
  }
 ],
 "metadata": {
  "kernelspec": {
   "display_name": "Python 3",
   "language": "python",
   "name": "python3"
  },
  "language_info": {
   "codemirror_mode": {
    "name": "ipython",
    "version": 3
   },
   "file_extension": ".py",
   "mimetype": "text/x-python",
   "name": "python",
   "nbconvert_exporter": "python",
   "pygments_lexer": "ipython3",
   "version": "3.8.5"
  }
 },
 "nbformat": 4,
 "nbformat_minor": 2
}
