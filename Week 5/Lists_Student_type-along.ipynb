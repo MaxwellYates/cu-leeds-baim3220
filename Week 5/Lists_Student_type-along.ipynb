{
 "cells": [
  {
   "cell_type": "code",
   "execution_count": null,
   "metadata": {},
   "outputs": [],
   "source": [
    "#The first cell is just to align our markdown tables to the left vs. center"
   ]
  },
  {
   "cell_type": "code",
   "execution_count": null,
   "metadata": {},
   "outputs": [],
   "source": [
    "%%html\n",
    "<style>\n",
    "table {float:left}\n",
    "</style>"
   ]
  },
  {
   "cell_type": "markdown",
   "metadata": {},
   "source": [
    "# Python Lists and List-Like Data types\n",
    "***\n",
    "## Learning Objectives\n",
    "In this lesson you will: \n",
    "\n",
    "        1. Learn the fundamentals of lists in Python\n",
    "        2. Work with lists in Python\n",
    "        3. Define data structure\n",
    "        3. Apply methods to modify lists\n",
    "               \n",
    "## Modules covered in this lesson: \n",
    ">- copy\n",
    "\n",
    "## Links to topics and functions:\n",
    ">- <a id='Lists'></a>[List Notes](#Initial-Notes-on-Lists)\n",
    ">- <a id='methods'></a>[list methods](#Using-Methods-to-Work-with-Lists)\n",
    "\n",
    "\n",
    "### References: Sweigart(2015, pp. 79-103)\n",
    "#### Don't forget about the Python visualizer tool: http://pythontutor.com/visualize.html#mode=display\n",
    "\n",
    "## Functions covered in this lesson:\n",
    "|List Methods  | Functions|\n",
    "|:-----------: |:--------:|\n",
    "|index()       | list()   |\n",
    "|append()      | tuple()  |\n",
    "|remove()      | copy()   |\n",
    "|sort()        | deepcopy()|\n",
    "\n",
    "\n",
    "\n",
    "\n",
    "\n"
   ]
  },
  {
   "cell_type": "markdown",
   "metadata": {},
   "source": [
    "### Narration videos\n",
    "\n",
    "- https://youtu.be/BO9qByf7XNo\n",
    "- https://youtu.be/Q8KB__WMaTk\n",
    "- https://youtu.be/1z4dx7RStaQ\n",
    "- https://youtu.be/YgISadsZLGQ\n",
    "- https://youtu.be/dY_SDkMaQV4"
   ]
  },
  {
   "cell_type": "markdown",
   "metadata": {
    "slideshow": {
     "slide_type": "slide"
    }
   },
   "source": [
    "# Initial Notes on Lists\n",
    ">- Lists and the list-like tuple can contain multiple values which makes it easier to write programs that handle large amounts of data\n",
    ">> - `List Definition`: a *list* is a value that contains multiple values in an ordered sequence\n",
    ">>>- Lists start with a `[` and end with a `]`\n",
    ">>- *List value* vs values in a list\n",
    ">>>- The *list value* is the value associated with the entire list and can be stored in a variable or passed to functions like any other value\n",
    ">>>- Values within a list are also known as *items* \n",
    "\n",
    "# When do we typically use lists? \n",
    ">- Lists are one of the most common data structures programmers use\n",
    ">- And the short answer is that we use lists whenever we have a need that matches the list data structure's useful features such as:\n",
    "1. We use lists if we need to maintain order. \n",
    ">>- By order we don't me sorted order, just listed order. But we will learn how to sort lists as well. \n",
    "2. If you need to access the contents randomly by a number\n",
    ">>- Items in a list are all associated with an index number so we can access various data types within a list by the index number\n",
    "3. If we need to go through the contents linearly (i.e., first to last)\n",
    ">>- And this is where `for-loops` come into play because they go through a list from start to end\n",
    "\n",
    "## So ask yourself these questions to see if you want to use a list in Python\n",
    "1. Do you want an ordered list of something? \n",
    "2. Do you want to store the ordered list?\n",
    "3. Do you want to access the things in the list randomly or linearly?\n",
    ">- If you answer *yes* to these questions then you want to use a list in your Python program\n",
    "\n"
   ]
  },
  {
   "cell_type": "markdown",
   "metadata": {},
   "source": [
    "# Notice the term `data structure` in the previous explanation of lists? \n",
    "## So what is a `data structure`? \n",
    ">- Basically a data structure is a formal way to structure (organize) some data (facts)\n",
    ">- Some data structures can get very complex but just remember all they are is just a way to store facts in a program, that's it. \n",
    ">>- Lists in programming are really not different than lists in other areas of life they just live in a computer \n",
    "\n",
    "### Let's work through some examples to get more familiar with lists, list values, and items."
   ]
  },
  {
   "cell_type": "markdown",
   "metadata": {},
   "source": [
    "#### First, define three lists: `hairs`, `eyes`, `weights`"
   ]
  },
  {
   "cell_type": "code",
   "execution_count": null,
   "metadata": {},
   "outputs": [],
   "source": []
  },
  {
   "cell_type": "markdown",
   "metadata": {},
   "source": [
    "#### Now, recall we can loop through lists because loops are an *iterable* object"
   ]
  },
  {
   "cell_type": "code",
   "execution_count": null,
   "metadata": {},
   "outputs": [],
   "source": []
  },
  {
   "cell_type": "code",
   "execution_count": null,
   "metadata": {},
   "outputs": [],
   "source": []
  },
  {
   "cell_type": "markdown",
   "metadata": {},
   "source": [
    "#### Remember also that we can build a list with a for loop with the `append()` method\n",
    ">- And we can see our list as it is being built by including a print() statement in our loop"
   ]
  },
  {
   "cell_type": "code",
   "execution_count": null,
   "metadata": {},
   "outputs": [],
   "source": []
  },
  {
   "cell_type": "markdown",
   "metadata": {},
   "source": [
    "#### What value is stored for `listbuild` now? \n"
   ]
  },
  {
   "cell_type": "code",
   "execution_count": null,
   "metadata": {},
   "outputs": [],
   "source": []
  },
  {
   "cell_type": "markdown",
   "metadata": {},
   "source": [
    "#### Note: the entire list we see in the output of the previous cell is the value for `listbuild`\n",
    ">- This is different then the individual values (aka items) in the list\n",
    "\n"
   ]
  },
  {
   "cell_type": "markdown",
   "metadata": {},
   "source": [
    "#### Another Note: Python considers the return value from `range(5)` the list-like value: [0,1,2,3,4]\n",
    ">- These next examples show how the return value of `range(5)` is list-like\n",
    ">- Note the return values when running each of the next two cells"
   ]
  },
  {
   "cell_type": "code",
   "execution_count": null,
   "metadata": {},
   "outputs": [],
   "source": []
  },
  {
   "cell_type": "code",
   "execution_count": null,
   "metadata": {},
   "outputs": [],
   "source": []
  },
  {
   "cell_type": "markdown",
   "metadata": {},
   "source": [
    "#### Recall: we can use print() to see the iterations of a for loop "
   ]
  },
  {
   "cell_type": "code",
   "execution_count": null,
   "metadata": {},
   "outputs": [],
   "source": []
  },
  {
   "cell_type": "markdown",
   "metadata": {},
   "source": [
    "#### Loop through a list of strings and print out the values\n",
    ">- Here we will show the iteration number and the item values within the list"
   ]
  },
  {
   "cell_type": "code",
   "execution_count": null,
   "metadata": {},
   "outputs": [],
   "source": []
  },
  {
   "cell_type": "markdown",
   "metadata": {},
   "source": [
    "#### Now let's print the index value for the first 3 items in the cuB list\n"
   ]
  },
  {
   "cell_type": "code",
   "execution_count": null,
   "metadata": {},
   "outputs": [],
   "source": []
  },
  {
   "cell_type": "markdown",
   "metadata": {},
   "source": [
    "#### What if we want all items in the list? "
   ]
  },
  {
   "cell_type": "code",
   "execution_count": null,
   "metadata": {},
   "outputs": [],
   "source": []
  },
  {
   "cell_type": "markdown",
   "metadata": {},
   "source": [
    "#### Ok, but what if our list is really long, we want to print all items in it, and we don't know how many items there are? \n",
    ">- You can either count them manually or use your Python ninja skills to get them\n",
    "\n",
    "#### Recall the `len()` function which told us the number of characters in a string? \n",
    ">- We can also use len() to show us how many items are in a list"
   ]
  },
  {
   "cell_type": "code",
   "execution_count": null,
   "metadata": {},
   "outputs": [],
   "source": []
  },
  {
   "cell_type": "markdown",
   "metadata": {},
   "source": [
    "#### Now let's pretend the `cuB` list is really long and print all the items\n",
    ">- Also, let's print a line telling us how long the list is at the bottom"
   ]
  },
  {
   "cell_type": "code",
   "execution_count": null,
   "metadata": {},
   "outputs": [],
   "source": []
  },
  {
   "cell_type": "markdown",
   "metadata": {},
   "source": [
    "# Now let's back up and look at our code\n",
    "\n",
    "### Notice how we wrote: cuB[i]? \n",
    ">- What the `[i]` part of that code does is tell Python what index in the list to access\n",
    ">- And because we were using a loop we told Python to loop through all the items in the list with `cuB[i]`\n",
    "\n",
    "### We can access various items in a list using the basic syntax of: listName[indexNumber]\n",
    ">- For example, cuB[0], would access the first element in our list\n",
    ">>- Recall that index, 0, is the first item in a list"
   ]
  },
  {
   "cell_type": "markdown",
   "metadata": {},
   "source": [
    "### Now let's try accessing stuff in a list\n",
    ">- First define a new variable, `animals`, and assign it a list value"
   ]
  },
  {
   "cell_type": "code",
   "execution_count": null,
   "metadata": {},
   "outputs": [],
   "source": []
  },
  {
   "cell_type": "markdown",
   "metadata": {},
   "source": [
    "#### Now, return the third animal in the list"
   ]
  },
  {
   "cell_type": "code",
   "execution_count": null,
   "metadata": {},
   "outputs": [],
   "source": []
  },
  {
   "cell_type": "markdown",
   "metadata": {},
   "source": [
    "#### Why is the third animal in the list at the index of 2? \n",
    ">- Basically because that is how programming counts stuff. Programming starts counting at 0, not 1. \n",
    ">- So what that means for us is that we have to subtract 1 when someone asks us to pull a value at a certain order number. "
   ]
  },
  {
   "cell_type": "markdown",
   "metadata": {},
   "source": [
    "### Now let's try accessing multiple items in the list with something called `slicing`\n",
    ">- Slicing lets us get a sublist from a list\n",
    ">- Basic syntax for slicing is `listName[firstIndex:secondIndex]`\n",
    ">>- The first index is included in the slice while the second is not. "
   ]
  },
  {
   "cell_type": "markdown",
   "metadata": {},
   "source": [
    "#### Return the first two items in the list, `animals`"
   ]
  },
  {
   "cell_type": "code",
   "execution_count": null,
   "metadata": {},
   "outputs": [],
   "source": []
  },
  {
   "cell_type": "code",
   "execution_count": null,
   "metadata": {},
   "outputs": [],
   "source": []
  },
  {
   "cell_type": "markdown",
   "metadata": {},
   "source": [
    "#### Return the last two items in a list"
   ]
  },
  {
   "cell_type": "code",
   "execution_count": null,
   "metadata": {
    "slideshow": {
     "slide_type": "slide"
    }
   },
   "outputs": [],
   "source": []
  },
  {
   "cell_type": "markdown",
   "metadata": {},
   "source": [
    "#### Q: Why doesn't `animals[-2:-1]` give us the last two items? "
   ]
  },
  {
   "cell_type": "code",
   "execution_count": null,
   "metadata": {},
   "outputs": [],
   "source": []
  },
  {
   "cell_type": "markdown",
   "metadata": {},
   "source": [
    "## More list slicing practice "
   ]
  },
  {
   "cell_type": "code",
   "execution_count": null,
   "metadata": {},
   "outputs": [],
   "source": []
  },
  {
   "cell_type": "markdown",
   "metadata": {},
   "source": [
    "#### Grab the second through the second to last values in the list"
   ]
  },
  {
   "cell_type": "code",
   "execution_count": null,
   "metadata": {},
   "outputs": [],
   "source": []
  },
  {
   "cell_type": "markdown",
   "metadata": {},
   "source": [
    "#### Grab the 5th item in the stuff list"
   ]
  },
  {
   "cell_type": "code",
   "execution_count": null,
   "metadata": {},
   "outputs": [],
   "source": []
  },
  {
   "cell_type": "markdown",
   "metadata": {},
   "source": [
    "#### Grab the 3rd from last item in the stuff list"
   ]
  },
  {
   "cell_type": "code",
   "execution_count": null,
   "metadata": {},
   "outputs": [],
   "source": []
  },
  {
   "cell_type": "markdown",
   "metadata": {},
   "source": [
    "### Q: How many items are in the stuff list? "
   ]
  },
  {
   "cell_type": "code",
   "execution_count": null,
   "metadata": {},
   "outputs": [],
   "source": []
  },
  {
   "cell_type": "markdown",
   "metadata": {},
   "source": [
    "### Q: Is a certain item in a list? \n",
    ">- Using the `in` and `not in` operators to search a list\n",
    ">- Note: SQL uses similar keywords to filter results from a database"
   ]
  },
  {
   "cell_type": "code",
   "execution_count": null,
   "metadata": {},
   "outputs": [],
   "source": []
  },
  {
   "cell_type": "code",
   "execution_count": null,
   "metadata": {},
   "outputs": [],
   "source": []
  },
  {
   "cell_type": "code",
   "execution_count": null,
   "metadata": {},
   "outputs": [],
   "source": []
  },
  {
   "cell_type": "code",
   "execution_count": null,
   "metadata": {},
   "outputs": [],
   "source": []
  },
  {
   "cell_type": "code",
   "execution_count": null,
   "metadata": {},
   "outputs": [],
   "source": []
  },
  {
   "cell_type": "code",
   "execution_count": null,
   "metadata": {},
   "outputs": [],
   "source": []
  },
  {
   "cell_type": "markdown",
   "metadata": {},
   "source": [
    "# Let's do more things to lists such as:\n",
    ">- Changing values in list\n",
    ">- List concatenation and replication\n",
    ">- Remove values from a list"
   ]
  },
  {
   "cell_type": "markdown",
   "metadata": {},
   "source": [
    "## Changing values in a list"
   ]
  },
  {
   "cell_type": "markdown",
   "metadata": {},
   "source": [
    "### Change the second value in the stuff list to, 'howdy'"
   ]
  },
  {
   "cell_type": "code",
   "execution_count": null,
   "metadata": {},
   "outputs": [],
   "source": []
  },
  {
   "cell_type": "markdown",
   "metadata": {},
   "source": [
    "### Change the 1st item in list to match the 8th item in the list"
   ]
  },
  {
   "cell_type": "code",
   "execution_count": null,
   "metadata": {},
   "outputs": [],
   "source": []
  },
  {
   "cell_type": "markdown",
   "metadata": {},
   "source": [
    "### List concatenation and replication\n",
    "\n",
    ">- Similar to how we concatenate strings, we can use the `+` and `*` operators on lists"
   ]
  },
  {
   "cell_type": "code",
   "execution_count": null,
   "metadata": {},
   "outputs": [],
   "source": []
  },
  {
   "cell_type": "code",
   "execution_count": null,
   "metadata": {
    "scrolled": true
   },
   "outputs": [],
   "source": []
  },
  {
   "cell_type": "code",
   "execution_count": null,
   "metadata": {},
   "outputs": [],
   "source": []
  },
  {
   "cell_type": "code",
   "execution_count": null,
   "metadata": {},
   "outputs": [],
   "source": []
  },
  {
   "cell_type": "markdown",
   "metadata": {},
   "source": [
    "### Remove values from a list\n",
    ">- use `del` to remove items from a list"
   ]
  },
  {
   "cell_type": "code",
   "execution_count": null,
   "metadata": {},
   "outputs": [],
   "source": []
  },
  {
   "cell_type": "markdown",
   "metadata": {},
   "source": [
    "### A short program to store a shopping list from a user\n",
    "#### Task: Create a program to ask a user for their shopping list\n",
    "1. Store the shopping list in a variable called, `shopList`\n",
    "2. Prompt the user to enter an item for their list\n",
    "3. Exit the program if the users hits `enter` without typing any characters\n",
    "4. Print the users final list for them using a numbered list. "
   ]
  },
  {
   "cell_type": "code",
   "execution_count": null,
   "metadata": {},
   "outputs": [],
   "source": []
  },
  {
   "cell_type": "code",
   "execution_count": null,
   "metadata": {},
   "outputs": [],
   "source": []
  },
  {
   "cell_type": "markdown",
   "metadata": {},
   "source": [
    " #### Using `clear_output` to not show all the entries along the way\n",
    " >- Slight variation on previous program"
   ]
  },
  {
   "cell_type": "code",
   "execution_count": null,
   "metadata": {},
   "outputs": [],
   "source": []
  },
  {
   "cell_type": "markdown",
   "metadata": {},
   "source": [
    "## Using Methods to Work with Lists\n",
    "\n",
    ">- A `method` is a function that is \"called on\" a value\n",
    ">- Each data type has its own set of methods\n",
    ">- The list data type has several useful methods. For example: \n",
    "    1. To find a value in a list: try the `index()` method\n",
    "    2. To add values to a list: try the `append()` and/or `insert()` methods\n",
    "    3. To remove values from a list: try the `remove()` method\n",
    "    4. To sort values in a list: try the `sort()` method"
   ]
  },
  {
   "cell_type": "markdown",
   "metadata": {},
   "source": [
    "### Finding the index position of an item with `index()`"
   ]
  },
  {
   "cell_type": "code",
   "execution_count": null,
   "metadata": {},
   "outputs": [],
   "source": []
  },
  {
   "cell_type": "code",
   "execution_count": null,
   "metadata": {},
   "outputs": [],
   "source": []
  },
  {
   "cell_type": "code",
   "execution_count": null,
   "metadata": {},
   "outputs": [],
   "source": []
  },
  {
   "cell_type": "code",
   "execution_count": null,
   "metadata": {},
   "outputs": [],
   "source": []
  },
  {
   "cell_type": "markdown",
   "metadata": {},
   "source": [
    "### Adding values to list with `insert()`"
   ]
  },
  {
   "cell_type": "code",
   "execution_count": null,
   "metadata": {},
   "outputs": [],
   "source": []
  },
  {
   "cell_type": "markdown",
   "metadata": {},
   "source": [
    "### Removing values in a list with `remove()`"
   ]
  },
  {
   "cell_type": "code",
   "execution_count": null,
   "metadata": {},
   "outputs": [],
   "source": []
  },
  {
   "cell_type": "markdown",
   "metadata": {},
   "source": [
    "### Sorting a list with the `sort()` method"
   ]
  },
  {
   "cell_type": "code",
   "execution_count": null,
   "metadata": {},
   "outputs": [],
   "source": []
  },
  {
   "cell_type": "code",
   "execution_count": null,
   "metadata": {},
   "outputs": [],
   "source": []
  },
  {
   "cell_type": "markdown",
   "metadata": {},
   "source": [
    "#### Some notes on the sort() method\n",
    ">- First, Python cannot sort lists that have both numbers and letters because it doesn't no how to compare them\n",
    ">- Second, Like the other methods(), Python sorts the lists in place. \n",
    ">>- Changing things \"in place\" basically means making changes to the current list variable without making a copy of the list variable\n",
    ">>>- Non \"in place\" methods make a copy of the variable or object rather than changing the current variable\n",
    ">>- So don't try to do something like this: shopList = shopList.sort()\n",
    ">- Third, sort() uses ASCIIbetical order rather than actual alphabetical order\n",
    ">>- This means a capital 'Z' gets sorted before a lowercase 'a'"
   ]
  },
  {
   "cell_type": "markdown",
   "metadata": {},
   "source": [
    "#### What is the return value of an \"in-place\" method?"
   ]
  },
  {
   "cell_type": "code",
   "execution_count": null,
   "metadata": {},
   "outputs": [],
   "source": []
  },
  {
   "cell_type": "markdown",
   "metadata": {},
   "source": [
    "#### So if you tried to reassign a variable with a method the return value of your new variable is 'None'\n",
    ">- We don't usually want our variables to return nothing so we wouldn't assign a variable with a method\n",
    ">- Moral of the story, you usually will not use methods in a reassignment of a variable"
   ]
  },
  {
   "cell_type": "markdown",
   "metadata": {},
   "source": [
    "## When would we use non \"in-place\" methods?\n",
    ">- On immutable data types such as strings and tuples\n",
    "\n",
    "### So what is a mutable or immutable data type?\n",
    ">- Defintion: a `mutable` data type can have values added, deleted, or changed\n",
    ">>- Example: a list is a `mutable` data type\n",
    ">- Defintion: an `immutable` data type cannot be changed\n",
    ">>- Examples: strings and tuples are immutable data types"
   ]
  },
  {
   "cell_type": "markdown",
   "metadata": {},
   "source": [
    "## Tuple data type\n",
    ">- The tuple is a \"list-like\" data type which is almost identical to the list data type with these differences:\n",
    "    1. The syntax for a tuple uses `()` instead of `[]`\n",
    "    2. The main difference is that tuple is *immutable* whereas a list is *mutable*"
   ]
  },
  {
   "cell_type": "markdown",
   "metadata": {},
   "source": [
    "#### Define a tuple variable, `gradeWts`, to store the percentage weights for this course"
   ]
  },
  {
   "cell_type": "code",
   "execution_count": null,
   "metadata": {},
   "outputs": [],
   "source": []
  },
  {
   "cell_type": "markdown",
   "metadata": {},
   "source": [
    "#### Grab an item in a tuple"
   ]
  },
  {
   "cell_type": "code",
   "execution_count": null,
   "metadata": {},
   "outputs": [],
   "source": []
  },
  {
   "cell_type": "markdown",
   "metadata": {},
   "source": [
    "#### Slice a tuple"
   ]
  },
  {
   "cell_type": "code",
   "execution_count": null,
   "metadata": {},
   "outputs": [],
   "source": []
  },
  {
   "cell_type": "code",
   "execution_count": null,
   "metadata": {},
   "outputs": [],
   "source": []
  },
  {
   "cell_type": "markdown",
   "metadata": {},
   "source": [
    "### When do we usually use a tuple?\n",
    ">- When we need an ordered sequence of values that we do not want to change\n",
    ">>- One example: in a grade calculator we wouldn't want the course weights to change\n",
    ">>- Another example: company defined percentages for sale items "
   ]
  },
  {
   "cell_type": "markdown",
   "metadata": {},
   "source": [
    "# What if you want to preserve your original list before making changes?\n",
    "### Copying lists in case we want to preserve our original list\n",
    ">- `copy` module and its `copy()` and `deepcopy()` Functions\n",
    ">- Remember, many of the methods we use on lists make changes in-place so if we want to preserve our original list before applying methods to them we can make a copy"
   ]
  },
  {
   "cell_type": "markdown",
   "metadata": {},
   "source": [
    "#### Using our `shopList` to make a copy before making changes"
   ]
  },
  {
   "cell_type": "code",
   "execution_count": null,
   "metadata": {},
   "outputs": [],
   "source": []
  },
  {
   "cell_type": "markdown",
   "metadata": {},
   "source": [
    "#### Now we can make changes to `shopList` but return to the original list stored as `shopList2` if needed"
   ]
  },
  {
   "cell_type": "code",
   "execution_count": null,
   "metadata": {},
   "outputs": [],
   "source": []
  },
  {
   "cell_type": "markdown",
   "metadata": {},
   "source": [
    "#### Note: the `deepcopy()` function allows you to copy lists that contain lists"
   ]
  },
  {
   "cell_type": "code",
   "execution_count": null,
   "metadata": {},
   "outputs": [],
   "source": []
  },
  {
   "cell_type": "markdown",
   "metadata": {},
   "source": [
    "# The end!\n",
    "## This wraps up this notebook on `lists`"
   ]
  },
  {
   "cell_type": "markdown",
   "metadata": {},
   "source": [
    "<a id='top'></a>[TopPage](#Teaching-Notes)"
   ]
  }
 ],
 "metadata": {
  "kernelspec": {
   "display_name": "Python 3",
   "language": "python",
   "name": "python3"
  },
  "language_info": {
   "codemirror_mode": {
    "name": "ipython",
    "version": 3
   },
   "file_extension": ".py",
   "mimetype": "text/x-python",
   "name": "python",
   "nbconvert_exporter": "python",
   "pygments_lexer": "ipython3",
   "version": "3.8.5"
  }
 },
 "nbformat": 4,
 "nbformat_minor": 4
}
