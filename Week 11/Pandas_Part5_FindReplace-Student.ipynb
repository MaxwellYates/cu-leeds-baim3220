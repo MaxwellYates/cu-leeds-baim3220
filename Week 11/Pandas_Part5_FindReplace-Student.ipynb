{
 "cells": [
  {
   "cell_type": "markdown",
   "metadata": {},
   "source": [
    "# `pandas` Part 5: Finding and Replacing Values\n",
    "\n",
    "# Learning Objectives\n",
    "## By the end of this tutorial you will be able to:\n",
    "1. Check datatypes with `dtype`\n",
    "2. Find and replace missing (null) values with `fillna()`\n",
    " \n",
    "\n",
    "## Files Needed for this lesson: `winemag-data-130k-v2.csv`\n",
    ">- Download this csv from Canvas prior to the lesson\n",
    "\n",
    "## The general steps to working with pandas:\n",
    "1. import pandas as pd\n",
    "2. Create or load data into a pandas DataFrame or Series\n",
    "3. Reading data with `pd.read_`\n",
    ">- Excel files: `pd.read_excel('fileName.xlsx')`\n",
    ">- Csv files: `pd.read_csv('fileName.csv')`\n",
    ">- Note: if the file you want to read into your notebook is not in the same folder you can do one of two things:\n",
    ">>- Move the file you want to read into the same folder/directory as the notebook\n",
    ">>- Type out the full path into the read function\n",
    "4. After steps 1-3 you will want to check out your DataFrame\n",
    ">- Use `shape` to see how many records and columns are in your DataFrame\n",
    ">- Use `head()` to show the first 5-10 records in your DataFrame"
   ]
  },
  {
   "cell_type": "markdown",
   "metadata": {},
   "source": [
    "Narration Video: https://youtu.be/miAjPCXzFQs"
   ]
  },
  {
   "cell_type": "markdown",
   "metadata": {},
   "source": [
    "# Analytics Project Framework Notes\n",
    "## A complete and thorough analytics project will have 3 main areas\n",
    "1. Descriptive Analytics: tells us what has happened or what is happening. \n",
    ">- The focus of this lesson is how to do this in python.\n",
    ">- Many companies are at this level but not much more than this\n",
    ">- Descriptive statistics (mean, median, mode, frequencies)\n",
    ">- Graphical analysis (bar charts, pie charts, histograms, box-plots, etc)\n",
    "2. Predictive Analytics: tells us what is likely to happen next\n",
    ">- Less companies are at this level but are slowly getting there\n",
    ">- Predictive statistics (\"machine learning (ML)\" using regression, multi-way frequency analysis, etc)\n",
    ">- Graphical analysis (scatter plots with regression lines, decision trees, etc)\n",
    "3. Prescriptive Analytics: tells us what to do based on the analysis\n",
    ">- Synthesis and Report writing: executive summaries, data-based decision making\n",
    ">- No analysis is complete without a written report with at least an executive summary\n",
    ">- Communicate results of analysis to both non-technical and technical audiences"
   ]
  },
  {
   "cell_type": "markdown",
   "metadata": {},
   "source": [
    "# Descriptive Analytics Using `pandas`"
   ]
  },
  {
   "cell_type": "markdown",
   "metadata": {},
   "source": [
    "# Initial set-up steps\n",
    "1. import modules and check working directory\n",
    "2. Read data in\n",
    "3. Check the data"
   ]
  },
  {
   "cell_type": "code",
   "execution_count": null,
   "metadata": {},
   "outputs": [],
   "source": []
  },
  {
   "cell_type": "markdown",
   "metadata": {},
   "source": [
    "# Step 2 Read Data Into a DataFrame with `read_csv()`\n",
    ">- file name: `winemag-data-130k-v2.csv`\n",
    ">- Set the index to column 0\n",
    ">- Note: I'm using the full path name on my laptop because i have the file in a different folder than my ipynb for this lesson"
   ]
  },
  {
   "cell_type": "code",
   "execution_count": null,
   "metadata": {},
   "outputs": [],
   "source": []
  },
  {
   "cell_type": "markdown",
   "metadata": {},
   "source": [
    "### Check how many rows, columns, and data points are in the `wine_reviews` DataFrame\n",
    ">- Use `shape` and indices to define variables\n",
    ">- We can store the values for rows and columns in variables if we want to access them later"
   ]
  },
  {
   "cell_type": "code",
   "execution_count": null,
   "metadata": {},
   "outputs": [],
   "source": []
  },
  {
   "cell_type": "markdown",
   "metadata": {},
   "source": [
    "### Check a couple of rows of data"
   ]
  },
  {
   "cell_type": "code",
   "execution_count": null,
   "metadata": {},
   "outputs": [],
   "source": []
  },
  {
   "cell_type": "markdown",
   "metadata": {},
   "source": [
    "### Another step in understanding the data you are working with is checking the data types\n",
    ">- The analysis will differ depending on the data type\n",
    ">>- For example, only number fields can be averaged\n",
    ">>- Text/string analysis usually involves counts/frequencies "
   ]
  },
  {
   "cell_type": "markdown",
   "metadata": {},
   "source": [
    "### Checking datatypes with `dtype` and `dtypes`\n",
    ">- General syntax for `dtype`: dataFrame.field.dtype\n",
    ">>- Returns the datatype for one field\n",
    ">- General syntax for `dtypes`: dataFrame.dtypes\n",
    ">>- Returns the datatypes for all the fields in a dataframe"
   ]
  },
  {
   "cell_type": "markdown",
   "metadata": {},
   "source": [
    "###  Check one field with `dtype`"
   ]
  },
  {
   "cell_type": "code",
   "execution_count": null,
   "metadata": {},
   "outputs": [],
   "source": []
  },
  {
   "cell_type": "markdown",
   "metadata": {},
   "source": [
    "### Check all the fields in the data frame with `dtypes`"
   ]
  },
  {
   "cell_type": "code",
   "execution_count": null,
   "metadata": {},
   "outputs": [],
   "source": []
  },
  {
   "cell_type": "markdown",
   "metadata": {},
   "source": [
    "### Question: What is the average price of all wines? "
   ]
  },
  {
   "cell_type": "code",
   "execution_count": null,
   "metadata": {},
   "outputs": [],
   "source": []
  },
  {
   "cell_type": "markdown",
   "metadata": {},
   "source": [
    "### Question: How many wines are there per country in the data frame? "
   ]
  },
  {
   "cell_type": "code",
   "execution_count": null,
   "metadata": {},
   "outputs": [],
   "source": []
  },
  {
   "cell_type": "markdown",
   "metadata": {},
   "source": [
    "##### Another way to get wines by country using `groupby`: "
   ]
  },
  {
   "cell_type": "code",
   "execution_count": null,
   "metadata": {},
   "outputs": [],
   "source": []
  },
  {
   "cell_type": "markdown",
   "metadata": {},
   "source": [
    "## What are the descriptive analytics for wine price?\n",
    ">- Include the 10th and 90th percentiles of wines in the analysis\n",
    ">- Reference: https://pandas.pydata.org/pandas-docs/stable/reference/api/pandas.DataFrame.describe.html"
   ]
  },
  {
   "cell_type": "code",
   "execution_count": null,
   "metadata": {},
   "outputs": [],
   "source": []
  },
  {
   "cell_type": "markdown",
   "metadata": {},
   "source": [
    "## What are the descriptive analytics for country?  "
   ]
  },
  {
   "cell_type": "code",
   "execution_count": null,
   "metadata": {
    "scrolled": true
   },
   "outputs": [],
   "source": []
  },
  {
   "cell_type": "markdown",
   "metadata": {},
   "source": [
    "## What are the descriptive analytics for all numerical fields in the data frame? \n",
    ">- Note: By default describe() returns all numerical fields when called on a DataFrame. \n",
    ">- Reference: https://pandas.pydata.org/pandas-docs/stable/reference/api/pandas.DataFrame.describe.html"
   ]
  },
  {
   "cell_type": "code",
   "execution_count": null,
   "metadata": {},
   "outputs": [],
   "source": []
  },
  {
   "cell_type": "markdown",
   "metadata": {},
   "source": [
    "#### Question: Why would points and price have different count values? "
   ]
  },
  {
   "cell_type": "markdown",
   "metadata": {},
   "source": [
    "## What are the descriptive analytics for all non-numeric fields in the DataFrame? \n",
    ">- Note: we can use `select_dtypes` with the parameter `include='object'` to only include string fields.\n",
    ">>- `select_dtypes(include='object')`\n",
    ">- Reference: https://pandas.pydata.org/pandas-docs/stable/reference/api/pandas.DataFrame.select_dtypes.html#pandas.DataFrame.select_dtypes\n"
   ]
  },
  {
   "cell_type": "code",
   "execution_count": null,
   "metadata": {
    "scrolled": true
   },
   "outputs": [],
   "source": []
  },
  {
   "cell_type": "markdown",
   "metadata": {},
   "source": [
    "## Finally, to include every field in the data frame:\n",
    ">- use `describe(include='all')"
   ]
  },
  {
   "cell_type": "code",
   "execution_count": null,
   "metadata": {},
   "outputs": [],
   "source": []
  },
  {
   "cell_type": "markdown",
   "metadata": {},
   "source": [
    "# Notice how the fields in `wineReviews` vary in count? \n",
    ">- A common occurrence in datasets is missing (aka null) values\n",
    ">- We can use `pd.isnull` to see all the null values for a particular field\n",
    ">- We can use `pd.notnull()` to see only non-missing values for a particular field"
   ]
  },
  {
   "cell_type": "markdown",
   "metadata": {},
   "source": [
    "#### Q: What are all the wines with missing country values?"
   ]
  },
  {
   "cell_type": "code",
   "execution_count": null,
   "metadata": {},
   "outputs": [],
   "source": []
  },
  {
   "cell_type": "markdown",
   "metadata": {},
   "source": [
    "## Now, suppose we want to replace a missing value with `Unknown`\n",
    ">- We can use a pandas function called `fillna()` and pass the value \"Unknown\" to it"
   ]
  },
  {
   "cell_type": "markdown",
   "metadata": {},
   "source": [
    "#### Replace null values for `region_2` with 'Unknown'"
   ]
  },
  {
   "cell_type": "code",
   "execution_count": null,
   "metadata": {},
   "outputs": [],
   "source": []
  },
  {
   "cell_type": "markdown",
   "metadata": {},
   "source": [
    "### To store the non-null values in a DataFrame..."
   ]
  },
  {
   "cell_type": "code",
   "execution_count": null,
   "metadata": {},
   "outputs": [],
   "source": []
  },
  {
   "cell_type": "code",
   "execution_count": null,
   "metadata": {},
   "outputs": [],
   "source": []
  },
  {
   "cell_type": "markdown",
   "metadata": {},
   "source": [
    "# Using `replace()` to replace specific values\n",
    ">- Suppose a taster in the dataset gets a new twitter handle\n",
    ">>- We can can use `replace()` to update this data"
   ]
  },
  {
   "cell_type": "markdown",
   "metadata": {},
   "source": [
    "#### Task: Kerin O'Keefe  is changing her twitter handle from `@kerinokeefe` to `@kerino`\n",
    ">- Use pandas `replace()` to make the change in our DataFrame"
   ]
  },
  {
   "cell_type": "code",
   "execution_count": null,
   "metadata": {},
   "outputs": [],
   "source": []
  }
 ],
 "metadata": {
  "kernelspec": {
   "display_name": "Python 3",
   "language": "python",
   "name": "python3"
  },
  "language_info": {
   "codemirror_mode": {
    "name": "ipython",
    "version": 3
   },
   "file_extension": ".py",
   "mimetype": "text/x-python",
   "name": "python",
   "nbconvert_exporter": "python",
   "pygments_lexer": "ipython3",
   "version": "3.8.5"
  },
  "latex_envs": {
   "LaTeX_envs_menu_present": true,
   "autoclose": false,
   "autocomplete": true,
   "bibliofile": "biblio.bib",
   "cite_by": "apalike",
   "current_citInitial": 1,
   "eqLabelWithNumbers": true,
   "eqNumInitial": 1,
   "hotkeys": {
    "equation": "Ctrl-E",
    "itemize": "Ctrl-I"
   },
   "labels_anchors": false,
   "latex_user_defs": false,
   "report_style_numbering": false,
   "user_envs_cfg": false
  }
 },
 "nbformat": 4,
 "nbformat_minor": 2
}
