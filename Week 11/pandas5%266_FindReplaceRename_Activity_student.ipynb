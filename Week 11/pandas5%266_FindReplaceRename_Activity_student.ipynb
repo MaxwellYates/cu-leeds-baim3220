{
 "cells": [
  {
   "cell_type": "markdown",
   "metadata": {},
   "source": [
    "# Week 11 \n",
    "## In-Class Activity Workbook and Homework\n",
    "\n",
    "## Learning Objectives \n",
    "### In this notebook you will learn about and practice:\n",
    "1. Section 1: <a id='Section 1'></a>[Section 1: Find Replace](#Section-1)\n",
    "2. Section 2: <a id='Section 2'></a>[Section 2: Missing Data imputation](#Section-2)\n",
    "3. Section 3: <a id='Section 3'></a> [Section 3: Rename](#Section-3)\n",
    "\n",
    "### Additional Sources\n",
    ">- Check out the `pandas` cheat sheets provided by Data Camp and posted on Canvas\n",
    ">>- https://www.datacamp.com/community/blog/python-pandas-cheat-sheet\n",
    ">- Pretty good article walking through `map()`, `apply()`, and `applymap()`\n",
    ">>- https://towardsdatascience.com/introduction-to-pandas-apply-applymap-and-map-5d3e044e93ff"
   ]
  },
  {
   "cell_type": "markdown",
   "metadata": {
    "slideshow": {
     "slide_type": "slide"
    }
   },
   "source": [
    "# Section 0\n",
    "## Read and Review Data"
   ]
  },
  {
   "cell_type": "markdown",
   "metadata": {},
   "source": [
    "## Reading and Writing Files with the python `pandas` module\n",
    "\n",
    "### Read csv or Excel files\n",
    ">- csv files: `pd.read_csv('fileName.csv')`\n",
    ">- Excel files: `pd.read_excel('fileName.xlsx')`\n",
    ">- Multiple sheets from the same Excel file: \n",
    ">>- `xlsx = pd.ExcelFile('file.xls')` # reads in the entire workbook\n",
    ">>- `df1 = pd.read_excel(xlsx, 'Sheet1')`  # reads in sheet you specify\n",
    ">>- `df2 = pd.read_excel(xlsx, 'Sheet2')`\n",
    "\n",
    "### Write csv or Excel files\n",
    ">- csv files: `pd.to_csv('YourDataFrame.csv')`\n",
    ">- Excel files: `pd.to_excel('YourDataFrame.xlsx')`"
   ]
  },
  {
   "cell_type": "markdown",
   "metadata": {},
   "source": [
    "### Step 1: Check your working directory and make sure you have the `winemag-data-130k-v2.csv` files there"
   ]
  },
  {
   "cell_type": "code",
   "execution_count": null,
   "metadata": {},
   "outputs": [],
   "source": []
  },
  {
   "cell_type": "markdown",
   "metadata": {},
   "source": [
    "### Step 2: import the `pandas` module and alias it `pd`"
   ]
  },
  {
   "cell_type": "code",
   "execution_count": null,
   "metadata": {},
   "outputs": [],
   "source": []
  },
  {
   "cell_type": "markdown",
   "metadata": {},
   "source": [
    "### Step 3: Read the ``winemag-data-130k-v2.csv` file into a pandas dataframe named, `wine`\n",
    ">- Set the index to column 0\n",
    ">- Look at the first five records to make sure `wine` is imported correctly\n",
    "\n",
    "#### Loading a CSV file\n",
    "function: `pd.read_csv()`\n",
    "\n",
    "[Docu read_csv](https://pandas.pydata.org/pandas-docs/stable/generated/pandas.read_csv.html?highlight=read_excel#pandas.read_excel)"
   ]
  },
  {
   "cell_type": "code",
   "execution_count": null,
   "metadata": {},
   "outputs": [],
   "source": []
  },
  {
   "cell_type": "code",
   "execution_count": null,
   "metadata": {},
   "outputs": [],
   "source": []
  },
  {
   "cell_type": "markdown",
   "metadata": {},
   "source": [
    "#### Show the last five records of `wine`"
   ]
  },
  {
   "cell_type": "code",
   "execution_count": null,
   "metadata": {},
   "outputs": [],
   "source": []
  },
  {
   "cell_type": "markdown",
   "metadata": {
    "slideshow": {
     "slide_type": "subslide"
    }
   },
   "source": [
    "#### Show a tuple of the number of columns and rows in `wine`"
   ]
  },
  {
   "cell_type": "code",
   "execution_count": null,
   "metadata": {},
   "outputs": [],
   "source": []
  },
  {
   "cell_type": "markdown",
   "metadata": {},
   "source": [
    "#### Show the columns in `wine`"
   ]
  },
  {
   "cell_type": "code",
   "execution_count": null,
   "metadata": {},
   "outputs": [],
   "source": []
  },
  {
   "cell_type": "markdown",
   "metadata": {},
   "source": [
    "#### Show the datatypes that are in `wine`"
   ]
  },
  {
   "cell_type": "code",
   "execution_count": null,
   "metadata": {},
   "outputs": [],
   "source": []
  },
  {
   "cell_type": "markdown",
   "metadata": {},
   "source": [
    "### Show the summary stats for all columns in `wine`\n",
    ">- Check the documentation on `describe()` to learn how to show descriptive analytics for all columns regardless of data type\n",
    ">>- https://pandas.pydata.org/pandas-docs/stable/reference/api/pandas.DataFrame.describe.html"
   ]
  },
  {
   "cell_type": "code",
   "execution_count": null,
   "metadata": {
    "scrolled": true
   },
   "outputs": [],
   "source": []
  },
  {
   "cell_type": "markdown",
   "metadata": {},
   "source": [
    "### Show a list of unique wine tasters"
   ]
  },
  {
   "cell_type": "code",
   "execution_count": null,
   "metadata": {},
   "outputs": [],
   "source": []
  },
  {
   "cell_type": "markdown",
   "metadata": {},
   "source": [
    "### Show the unique counts of values for all columns in the `wine` dataframe"
   ]
  },
  {
   "cell_type": "code",
   "execution_count": null,
   "metadata": {},
   "outputs": [],
   "source": []
  },
  {
   "cell_type": "markdown",
   "metadata": {},
   "source": [
    "### Show how many times each tasters name occurs"
   ]
  },
  {
   "cell_type": "code",
   "execution_count": null,
   "metadata": {},
   "outputs": [],
   "source": []
  },
  {
   "cell_type": "markdown",
   "metadata": {},
   "source": [
    "# Section 1\n",
    "## Finding and Replacing Values"
   ]
  },
  {
   "cell_type": "markdown",
   "metadata": {},
   "source": [
    "### Q1: What is the data type of the `points` column in the winemag csv?"
   ]
  },
  {
   "cell_type": "code",
   "execution_count": null,
   "metadata": {},
   "outputs": [],
   "source": []
  },
  {
   "cell_type": "markdown",
   "metadata": {},
   "source": [
    "### Q2: Create a new Series from the records in the `points` column:\n",
    ">- Convert the entries to strings\n",
    ">- Name your Series `points_string` and add it to your `wine` dataframe\n",
    ">>- Hint: look up the `astype` function\n",
    ">- Show the first five records of `wine` after you add the new column"
   ]
  },
  {
   "cell_type": "code",
   "execution_count": null,
   "metadata": {
    "scrolled": true
   },
   "outputs": [],
   "source": []
  },
  {
   "cell_type": "code",
   "execution_count": null,
   "metadata": {
    "scrolled": true
   },
   "outputs": [],
   "source": []
  },
  {
   "cell_type": "markdown",
   "metadata": {},
   "source": [
    "### Q3: How many reviews in the dataset are missing a price?"
   ]
  },
  {
   "cell_type": "code",
   "execution_count": null,
   "metadata": {},
   "outputs": [],
   "source": []
  },
  {
   "cell_type": "markdown",
   "metadata": {},
   "source": [
    "### Q4: How many records are missing a review (points) score?"
   ]
  },
  {
   "cell_type": "code",
   "execution_count": null,
   "metadata": {},
   "outputs": [],
   "source": []
  },
  {
   "cell_type": "markdown",
   "metadata": {},
   "source": [
    "### Q5: How many null values are there in every column?"
   ]
  },
  {
   "cell_type": "code",
   "execution_count": null,
   "metadata": {},
   "outputs": [],
   "source": []
  },
  {
   "cell_type": "markdown",
   "metadata": {},
   "source": [
    "### Q6: What are the most common wine-producing regions?\n",
    "#### Subquestion: how many wines are missing `region_1` in our dataset?\n",
    "\n",
    ">- First, replace all null values in the `region_1` series with 'Unknown' \n",
    ">- Then define a Series named, `region_reviews`, that will store the counts\n",
    ">>- Use `region_1` as the region field you are trying to count\n",
    ">- Sort the results in descending order\n",
    ">- Hint: You might want to use `fillna()`, `value_counts()`, and/or `sort_values()` to help answer this question"
   ]
  },
  {
   "cell_type": "code",
   "execution_count": null,
   "metadata": {},
   "outputs": [],
   "source": []
  },
  {
   "cell_type": "markdown",
   "metadata": {},
   "source": [
    "#### Show the top 5 wine producing regions based on the `region_1` field\n",
    ">- Exclude 'Unknown' from your results"
   ]
  },
  {
   "cell_type": "code",
   "execution_count": null,
   "metadata": {},
   "outputs": [],
   "source": []
  },
  {
   "cell_type": "markdown",
   "metadata": {},
   "source": [
    "# Section 2\n",
    "## Dealing with missing data\n",
    ">- Missing data is one of the most pervasive problems in data analysis\n",
    ">- No matter what field you work in you will likely come across datasets that contain incomplete data for some records\n",
    ">>- Missing data can occur because experimental units may die (e.g, rats in a clinical study), equipment malfunctions, respondents to surveys do not answer all questions, or simply someone that is in charge of recording data goofs. \n",
    ">- The seriousness of the missing data depends on the amount of missing data, the pattern of missing data, and why it is missing\n",
    ">>- The why and the pattern of missing data is more important that the amount of missing data. However, missing data will have a larger impact on small datasets than larger datasets \n",
    "\n",
    ">- This section focuses on some common strategies for handling missing data"
   ]
  },
  {
   "cell_type": "markdown",
   "metadata": {},
   "source": [
    "## Common strategies for dealing with missing data\n",
    "\n",
    "Tabachnick & Fidell (2019) give us several commonly used methods for handling missing data values values. \n",
    "\n",
    "1. Remove any records that contain missing data \n",
    ">- If only a few records/cases have missing data and they seem to be a random subsample of the whole sample, deletion can be a good method of dealing with missing data\n",
    "2. Estimating missing data\n",
    ">- A second option is to estimate (impute) missing values and then use the estimates during analysis. Here are some common estimation methods\n",
    ">>- Use prior knowledge to estimate the value. Here, the analyst/researcher replaces missing values with an educated case based on expertise in the area. \n",
    ">>- Mean replacement. Calculate the overall mean of the feature and impute that for all missing values. In absence of all other information, the mean is the best guess about the value of a feature/variable\n",
    ">>- Median replacement. Calculate the median of the feature and impute that for all missing values\n",
    ">>- Regression replacement. A more sophisticated approach would be to use a regression model and impute missing values based on the values of other features that we do have data on\n",
    "\n",
    "#### Regardless of what method is used for missing data, it is recommended to:\n",
    "1. Create a new feature that stores information on whether or not missing data was imputed\n",
    ">- This is a binary column (usually 0's and 1's) indicating if missing data was imputed for a record or not\n",
    "2. Repeat the analysis with and without missing data and imputation methods and determine if conclusions are the same under each circumstance\n",
    "\n",
    "#### Reference: Tabachnick & Fidell (2019). *Using Multivariate Statistics*. Pearson."
   ]
  },
  {
   "cell_type": "markdown",
   "metadata": {},
   "source": [
    "## Practice imputing mean values for missing data"
   ]
  },
  {
   "cell_type": "markdown",
   "metadata": {},
   "source": [
    "### Q7:  Calculate the mean price and store the mean in a variable, `meanPrice`\n",
    ">- Round to two decimal places"
   ]
  },
  {
   "cell_type": "code",
   "execution_count": null,
   "metadata": {},
   "outputs": [],
   "source": []
  },
  {
   "cell_type": "markdown",
   "metadata": {},
   "source": [
    "### Q8: Replace all missing prices in the `wine` DataFrame with `meanPrice`\n",
    ">- Store the prices with imputed mean prices in a new column named, `priceImpute` in the wine DataFrame"
   ]
  },
  {
   "cell_type": "code",
   "execution_count": null,
   "metadata": {},
   "outputs": [],
   "source": []
  },
  {
   "cell_type": "markdown",
   "metadata": {},
   "source": [
    "##### Now check the number of missing values in all columns\n",
    ">- Double check your new `priceImpute` column doesn't contain missing values"
   ]
  },
  {
   "cell_type": "code",
   "execution_count": null,
   "metadata": {},
   "outputs": [],
   "source": []
  },
  {
   "cell_type": "markdown",
   "metadata": {
    "slideshow": {
     "slide_type": "subslide"
    }
   },
   "source": [
    "### Q9: What are the descriptive statistics for the original `price` column and the `priceImpute` column?\n",
    ">- Compare the descriptive stats between the two fields0 and determine if the difference is significant"
   ]
  },
  {
   "cell_type": "code",
   "execution_count": null,
   "metadata": {},
   "outputs": [],
   "source": []
  },
  {
   "cell_type": "markdown",
   "metadata": {
    "slideshow": {
     "slide_type": "subslide"
    }
   },
   "source": [
    "### Q10: Create a column, `imputeFlag`, that stores a 1 if the record used an imputed mean and a 0 if it does not"
   ]
  },
  {
   "cell_type": "markdown",
   "metadata": {},
   "source": [
    "### One way to do this is to use the `map()` function\n",
    ">- `map()` is used to substitute each value in a Series with another value\n",
    ">- General syntax: `Series.map(arg,na_action=None)`\n",
    ">>- Where *arg* can be a function, a dictionary, or a Series\n",
    "\n",
    "Source: https://pandas.pydata.org/pandas-docs/stable/reference/api/pandas.Series.map.html\n",
    "\n",
    ">- For example, `wine['price'].map(lambda row: 0 if row >0 else 1)` uses a lambda function as the *arg* passed to *map()* to transform all the values in the `price` column to a Series of 0's or 1's based on the logic used in the lambda function\n",
    ">- You could also define your own function and then pass that function into *map()* "
   ]
  },
  {
   "cell_type": "code",
   "execution_count": null,
   "metadata": {},
   "outputs": [],
   "source": []
  },
  {
   "cell_type": "code",
   "execution_count": null,
   "metadata": {},
   "outputs": [],
   "source": []
  },
  {
   "cell_type": "code",
   "execution_count": null,
   "metadata": {},
   "outputs": [],
   "source": []
  },
  {
   "cell_type": "markdown",
   "metadata": {},
   "source": [
    "#### Show the first five records of `wine` with all of your changes"
   ]
  },
  {
   "cell_type": "code",
   "execution_count": null,
   "metadata": {},
   "outputs": [],
   "source": []
  },
  {
   "cell_type": "markdown",
   "metadata": {},
   "source": [
    "#### Show all the column names in `wine`"
   ]
  },
  {
   "cell_type": "code",
   "execution_count": null,
   "metadata": {},
   "outputs": [],
   "source": []
  },
  {
   "cell_type": "markdown",
   "metadata": {},
   "source": [
    "#### Show the total null values in each column in `wine`"
   ]
  },
  {
   "cell_type": "code",
   "execution_count": null,
   "metadata": {},
   "outputs": [],
   "source": []
  },
  {
   "cell_type": "markdown",
   "metadata": {},
   "source": [
    "# Section 3\n",
    "1. Renaming Columns\n",
    "2. More Descriptive Analytics Practice"
   ]
  },
  {
   "cell_type": "markdown",
   "metadata": {},
   "source": [
    "### Q11: Create a new DataFrame, wineUS, from `wine` for only US wines"
   ]
  },
  {
   "cell_type": "code",
   "execution_count": null,
   "metadata": {},
   "outputs": [],
   "source": []
  },
  {
   "cell_type": "markdown",
   "metadata": {},
   "source": [
    "#### In the next few cells go through the usual initial data examination steps that we have covered anytime we define a new data frame\n",
    ">- Show the first five records of `wineUS`, show the columns, show value counts, etc"
   ]
  },
  {
   "cell_type": "code",
   "execution_count": null,
   "metadata": {},
   "outputs": [],
   "source": []
  },
  {
   "cell_type": "code",
   "execution_count": null,
   "metadata": {},
   "outputs": [],
   "source": []
  },
  {
   "cell_type": "code",
   "execution_count": null,
   "metadata": {},
   "outputs": [],
   "source": []
  },
  {
   "cell_type": "code",
   "execution_count": null,
   "metadata": {},
   "outputs": [],
   "source": []
  },
  {
   "cell_type": "code",
   "execution_count": null,
   "metadata": {},
   "outputs": [],
   "source": []
  },
  {
   "cell_type": "markdown",
   "metadata": {},
   "source": [
    "### Q12: How many records/rows have null prices?"
   ]
  },
  {
   "cell_type": "code",
   "execution_count": null,
   "metadata": {},
   "outputs": [],
   "source": []
  },
  {
   "cell_type": "markdown",
   "metadata": {},
   "source": [
    "### Q12: Rename the following columns\n",
    ">- 'province' to 'state'\n",
    ">- 'taster_name' to 'taster'\n",
    ">- 'taster_twitter_handle' to 'twitter_handle'\n",
    ">- 'points' to 'rating'\n",
    "\n",
    "##### Note: Make all of these name changes in-place"
   ]
  },
  {
   "cell_type": "code",
   "execution_count": null,
   "metadata": {},
   "outputs": [],
   "source": []
  },
  {
   "cell_type": "markdown",
   "metadata": {},
   "source": [
    "#### Show the first 5 records after your change"
   ]
  },
  {
   "cell_type": "code",
   "execution_count": null,
   "metadata": {},
   "outputs": [],
   "source": []
  },
  {
   "cell_type": "markdown",
   "metadata": {},
   "source": [
    "### Q13: How many records in `wineUS` have imputed values for `price`?"
   ]
  },
  {
   "cell_type": "code",
   "execution_count": null,
   "metadata": {},
   "outputs": [],
   "source": []
  },
  {
   "cell_type": "markdown",
   "metadata": {},
   "source": [
    "### Q14: What are the descriptive stats for `price` and the imputed price field? "
   ]
  },
  {
   "cell_type": "code",
   "execution_count": null,
   "metadata": {},
   "outputs": [],
   "source": []
  },
  {
   "cell_type": "markdown",
   "metadata": {},
   "source": [
    "### Q15: Create a new column that transforms all the state values into state abbreviations based on using the first two letters of the state\n",
    ">- Name the new column `st`\n",
    ">- Make sure to have the abbreviations stored as upper case for both letters\n",
    ">- Insert this column to the right of the state column"
   ]
  },
  {
   "cell_type": "code",
   "execution_count": null,
   "metadata": {},
   "outputs": [],
   "source": []
  },
  {
   "cell_type": "code",
   "execution_count": null,
   "metadata": {
    "scrolled": true
   },
   "outputs": [],
   "source": []
  },
  {
   "cell_type": "markdown",
   "metadata": {},
   "source": [
    "### Q16: What are the average ratings and prices for each state?\n",
    ">- Look the results using both `price` and `priceImpute`\n",
    ">- Show the sample size (counts) as well as the means\n",
    ">- Round everything to 2 decimal places"
   ]
  },
  {
   "cell_type": "code",
   "execution_count": null,
   "metadata": {},
   "outputs": [],
   "source": []
  },
  {
   "cell_type": "markdown",
   "metadata": {},
   "source": [
    "### Q17: What is the correlation between ratings and price?\n",
    ">- Look at the correlations between rating and both price fields\n",
    ">- Are the results what you would expect? Why or why not?\n",
    "\n",
    "Reference: https://pandas.pydata.org/pandas-docs/stable/reference/api/pandas.DataFrame.corr.html"
   ]
  },
  {
   "cell_type": "code",
   "execution_count": null,
   "metadata": {},
   "outputs": [],
   "source": []
  },
  {
   "cell_type": "code",
   "execution_count": null,
   "metadata": {},
   "outputs": [],
   "source": []
  },
  {
   "cell_type": "markdown",
   "metadata": {},
   "source": [
    "### Q18: Show the number of imputed prices by state?\n",
    ">- Is there anything in the results that would be a red flag for non-random  missing data?\n",
    ">- Do any states have a disproportionate number of missing values relative to their total wines/records?\n",
    ">- After you look at this by state, look at the results by state then region_1"
   ]
  },
  {
   "cell_type": "code",
   "execution_count": null,
   "metadata": {},
   "outputs": [],
   "source": []
  },
  {
   "cell_type": "markdown",
   "metadata": {},
   "source": [
    "#### Now look at the imputed price values by state and region\n",
    ">- Sort the results in descending order\n",
    ">- What state and regions have the highest number of missing prices?"
   ]
  },
  {
   "cell_type": "code",
   "execution_count": null,
   "metadata": {},
   "outputs": [],
   "source": []
  }
 ],
 "metadata": {
  "kernelspec": {
   "display_name": "Python 3",
   "language": "python",
   "name": "python3"
  },
  "language_info": {
   "codemirror_mode": {
    "name": "ipython",
    "version": 3
   },
   "file_extension": ".py",
   "mimetype": "text/x-python",
   "name": "python",
   "nbconvert_exporter": "python",
   "pygments_lexer": "ipython3",
   "version": "3.8.5"
  },
  "toc": {
   "nav_menu": {
    "height": "207px",
    "width": "253px"
   },
   "number_sections": true,
   "sideBar": true,
   "skip_h1_title": false,
   "toc_cell": false,
   "toc_position": {
    "height": "600px",
    "left": "0px",
    "right": "831.286px",
    "top": "67px",
    "width": "288px"
   },
   "toc_section_display": "block",
   "toc_window_display": true
  }
 },
 "nbformat": 4,
 "nbformat_minor": 2
}
