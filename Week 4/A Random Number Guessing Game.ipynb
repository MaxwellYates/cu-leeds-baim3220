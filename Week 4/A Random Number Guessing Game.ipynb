{
 "cells": [
  {
   "cell_type": "markdown",
   "metadata": {},
   "source": [
    "# A Random Number Guessing Game\n",
    "\n",
    "_Steve Taylor, September, 2021_\n",
    "\n",
    "I've been asked to create a game in Python that creates a random number and makes you guess it."
   ]
  },
  {
   "cell_type": "markdown",
   "metadata": {},
   "source": [
    "A random number means I'll use the `random` package. Import it."
   ]
  },
  {
   "cell_type": "code",
   "execution_count": null,
   "metadata": {},
   "outputs": [],
   "source": [
    "%load_ext nb_black\n",
    "import random"
   ]
  },
  {
   "cell_type": "markdown",
   "metadata": {},
   "source": [
    "I've made a game where I am thinking of a number between 0 and 10. I'll tell you that."
   ]
  },
  {
   "cell_type": "code",
   "execution_count": null,
   "metadata": {},
   "outputs": [],
   "source": [
    "print(\"I've made a game where I'm thinking of a number between 0 and 10.\")"
   ]
  },
  {
   "cell_type": "markdown",
   "metadata": {},
   "source": [
    "I have to _store_ that number somewhere, so I call that piece of memory `random_number`. I'm going to print it so testing is easier, but I'll remove the `print()` statement when I bring my code to \"production\"."
   ]
  },
  {
   "cell_type": "code",
   "execution_count": null,
   "metadata": {},
   "outputs": [],
   "source": [
    "# get a random integer between 0 and 10.\n",
    "random_number = random.randint(0, 10)\n",
    "print(random_number)"
   ]
  },
  {
   "cell_type": "markdown",
   "metadata": {},
   "source": [
    "You only get three guesses. I should tell you _that_ too."
   ]
  },
  {
   "cell_type": "code",
   "execution_count": null,
   "metadata": {},
   "outputs": [],
   "source": [
    "print(\"You get three guesses.\")"
   ]
  },
  {
   "cell_type": "markdown",
   "metadata": {},
   "source": [
    "## Style 1"
   ]
  },
  {
   "cell_type": "markdown",
   "metadata": {},
   "source": [
    "Okay! We're ready. I ask you for the first guess."
   ]
  },
  {
   "cell_type": "code",
   "execution_count": null,
   "metadata": {},
   "outputs": [],
   "source": [
    "first_guess = input(\"What is your first guess? \")\n",
    "print(type(first_guess), first_guess)"
   ]
  },
  {
   "cell_type": "markdown",
   "metadata": {},
   "source": [
    "Excellent guess I think. I know that when I ask you using `input()`, your response is a Python `str`, but I'll need to compare that to the `int` from `randint()` above. So I'll convert it."
   ]
  },
  {
   "cell_type": "code",
   "execution_count": null,
   "metadata": {},
   "outputs": [],
   "source": [
    "first_guess_int = int(first_guess)\n",
    "print(type(first_guess_int), first_guess_int)"
   ]
  },
  {
   "cell_type": "markdown",
   "metadata": {},
   "source": [
    "I will compare your answer to the random number. If you got it right, super. If not, we keep at it, eh?"
   ]
  },
  {
   "cell_type": "code",
   "execution_count": null,
   "metadata": {},
   "outputs": [],
   "source": [
    "if first_guess_int == random_number:\n",
    "    print(\"You got it in one try!\")\n",
    "else:\n",
    "    print(\"Try 1. You did not guess it correctly. Guess again.\")"
   ]
  },
  {
   "cell_type": "markdown",
   "metadata": {},
   "source": [
    "Let's ask again. This feels repetative, but it's only the second time, so I'll suffer it."
   ]
  },
  {
   "cell_type": "code",
   "execution_count": null,
   "metadata": {},
   "outputs": [],
   "source": [
    "# I learned from the first time that I can call `int()` on the `input()` in one line... save some time.\n",
    "second_guess = int(input(\"What is your second guess? \"))"
   ]
  },
  {
   "cell_type": "code",
   "execution_count": null,
   "metadata": {},
   "outputs": [],
   "source": [
    "if second_guess == random_number:\n",
    "    print(\"You got it in the second try!\")\n",
    "else:\n",
    "    print(\"Try 2. You did not guess it correctly. Guess again.\")"
   ]
  },
  {
   "cell_type": "markdown",
   "metadata": {},
   "source": [
    "Finally, a third time. I'm starting to wonder that what I'm building might not _scale_."
   ]
  },
  {
   "cell_type": "code",
   "execution_count": null,
   "metadata": {},
   "outputs": [],
   "source": [
    "# When I first do this I copy and paste, and I had \"What is your second guess\" instead of third. Sloppy, that.\n",
    "third_guess = int(input(\"What is your third guess? \"))\n",
    "if third_guess == random_number:\n",
    "    print(\"You got it in the third try!\")\n",
    "else:\n",
    "    print(\n",
    "        f\"Try 3. You did not guess it correctly. Sorry! The number was {random_number}.\"\n",
    "    )"
   ]
  },
  {
   "cell_type": "markdown",
   "metadata": {},
   "source": [
    "As I play my game, trying different combinations, I find I can guess the number on the first try, but it still asks me for a second guess, and a third. Annoying!\n",
    "\n",
    "I could add another variable that keeps track of which try is successful. E.g.,\n",
    "\n",
    "```\n",
    "if second_guess == random_number:\n",
    "    print(\"You got it on the second try!\")\n",
    "    second_guess_success = True\n",
    "    ...\n",
    "```\n",
    "\n",
    "In each subsequent check do things like,\n",
    "\n",
    "```\n",
    "if not second_guess_sucess and third_guess == random_number:\n",
    "   ...\n",
    "```\n",
    "\n",
    "but that's going to get krufty fast. So what's next?"
   ]
  },
  {
   "cell_type": "markdown",
   "metadata": {},
   "source": [
    "## Style 2\n",
    "\n",
    "Same prompts: I've made a game, blah, blah. You get three guesses, blah, blah. \n",
    "\n",
    "I still need a random number. Might as well create a new one here."
   ]
  },
  {
   "cell_type": "code",
   "execution_count": null,
   "metadata": {},
   "outputs": [],
   "source": [
    "# get a random integer between 0 and 10.\n",
    "random_number = random.randint(0, 10)  # Notice I'm reusing this variable.\n",
    "print(random_number)"
   ]
  },
  {
   "cell_type": "markdown",
   "metadata": {},
   "source": [
    "Same thing, ask the question, get an answer."
   ]
  },
  {
   "cell_type": "code",
   "execution_count": null,
   "metadata": {},
   "outputs": [],
   "source": [
    "first_guess = int(input(\"What is your first guess? \"))\n",
    "if first_guess == random_number:\n",
    "    print(\"Success on the first try!\")\n",
    "else:\n",
    "    print(\"No success on the first try. Try again.\")\n",
    "    second_guess = int(input(\"What is your second guess? \"))\n",
    "    if second_guess == random_number:\n",
    "        print(\"Success on the second try!\")\n",
    "    else:\n",
    "        print(\"No success on the second try. Try again.\")\n",
    "        third_guess = int(input(\"What is your third guess? \"))\n",
    "        if third_guess == random_number:\n",
    "            print(\"Success on the third try!\")\n",
    "        else:\n",
    "            print(f\"No success on the third try. The number was {random_number}.\")"
   ]
  },
  {
   "cell_type": "markdown",
   "metadata": {},
   "source": [
    "That big chunk of goodness works. The copying and pasting took a while to sort out -- and I'm still not 100% sure I got everything. But it works! It's also monolithic and it doesn't _scale_. By that, what if I wanted to quickly make the game ask five times instead of three. Or even two instead of three. And like the first style it suffers from not being modular (read: functions!), and therefore it's hard to maintain."
   ]
  },
  {
   "cell_type": "markdown",
   "metadata": {},
   "source": [
    "## Style 3\n",
    "\n",
    "I'm going to work with the second style, but use some functions to make some things reusable."
   ]
  },
  {
   "cell_type": "markdown",
   "metadata": {},
   "source": [
    "The first piece I want to reuse it the part where I tell you which try you're on, and ask for your guess.\n",
    "\n",
    "A note on input validation. Testing that a human responds with what we've asked them for is a piece of work. Specifically, `int(input())` will fail if it gets anything that doesn't parse as an integer. And it will burn a guess if someone enters an 11 or -2343. Check out chapter 8 of the Sweigart text, or use your favourite search engine for looking for examples."
   ]
  },
  {
   "cell_type": "code",
   "execution_count": null,
   "metadata": {},
   "outputs": [],
   "source": [
    "def get_guess(try_number, lower=0, upper=10):\n",
    "    \"\"\"\n",
    "    Mostly from Sweigart, chapter 8\n",
    "    https://automatetheboringstuff.com/2e/chapter8/\n",
    "\n",
    "    Prompts for an integer response between a specified range,\n",
    "    given by lower and upper.\n",
    "\n",
    "    Returns the guess as an int.\n",
    "    \"\"\"\n",
    "    while True:\n",
    "        guess = input(f\"Guess #{try_number}. What is your guess? \")\n",
    "        try:\n",
    "            # attempt to cast/convert the str to an int\n",
    "            guess = int(guess)\n",
    "        except:\n",
    "            # if what was in the try block failed, we'll end up here.\n",
    "            print(\"Please use numeric digits.\")\n",
    "            # a hard bounce back to the top of the loop\n",
    "            continue\n",
    "\n",
    "        # we should have an integer now... let's check it for what we want\n",
    "        if not lower <= guess <= upper:\n",
    "            print(f\"Please enter a number between {lower} and {upper}.\")\n",
    "            # bounce back to the top of the loop\n",
    "            continue\n",
    "\n",
    "        # we made it! we can return the guess and exit the function\n",
    "        return guess\n",
    "\n",
    "\n",
    "# get_guess(2)"
   ]
  },
  {
   "cell_type": "markdown",
   "metadata": {},
   "source": [
    "I also note that I check the guess against the random number quite a lot. Maybe a good piece of reusable-ness?"
   ]
  },
  {
   "cell_type": "code",
   "execution_count": null,
   "metadata": {},
   "outputs": [],
   "source": [
    "def check_guess(guess, random_number, try_number):\n",
    "    \"\"\"\n",
    "    Check the guess against the random number,\n",
    "    and print a status message.\n",
    "\n",
    "    Return a True if the guess == random_number,\n",
    "    else return False\n",
    "    \"\"\"\n",
    "    if guess == random_number:\n",
    "        print(f\"SUCCESS on try #{try_number}!\")\n",
    "        return True\n",
    "    else:\n",
    "        print(f\"No success on try #{try_number}.\")\n",
    "        return False\n",
    "\n",
    "\n",
    "# I can test this cheaply,\n",
    "# and that helps build my confidence to use it as a building-block in later code\n",
    "assert check_guess(1, 1, 1), \"1 should equal 1\"\n",
    "assert not check_guess(1, 2, 1), \"1 does not equal 2\""
   ]
  },
  {
   "cell_type": "markdown",
   "metadata": {},
   "source": [
    "I've noticed much later on in the notebook that I've typed the header comments maybe three or four or more times.\n",
    "\n",
    "Way too many. As a rule, if I do something more than two times, I reduce it to a function."
   ]
  },
  {
   "cell_type": "code",
   "execution_count": null,
   "metadata": {},
   "outputs": [],
   "source": [
    "def print_header(number_of_guesses=3, lower=0, upper=10):\n",
    "    \"\"\"\n",
    "    I originally had all of this hardcoded with 0 and 10, and you get 3 guesses, etc...\n",
    "    but as I used and reused it in many different examples, it became more flexible\n",
    "    and more reusable with parameters.\n",
    "    \"\"\"\n",
    "    print(\n",
    "        f\"I've made a game where I'm thinking of a number between {lower} and {upper}.\"\n",
    "    )\n",
    "    print(f\"You get {number_of_guesses} guesses.\")\n",
    "\n",
    "\n",
    "print_header()"
   ]
  },
  {
   "cell_type": "markdown",
   "metadata": {},
   "source": [
    "So the chunk rewritten below is -- must be! -- the same as what we wrote in the second style example, but it's tightly wound now. It still suffers from scalability problems, but it's more modular now, yes? If I had to make this five tries or seven, it'd be mostly straight-forward to see it. Notice the 1, 2, 3-ness of it becomes easier to see?"
   ]
  },
  {
   "cell_type": "code",
   "execution_count": null,
   "metadata": {},
   "outputs": [],
   "source": [
    "print_header()\n",
    "\n",
    "random_number = random.randint(0, 10)\n",
    "# print the random_number again to make it easier to test\n",
    "print(random_number)\n",
    "\n",
    "first_guess = get_guess(1)\n",
    "if check_guess(first_guess, random_number, 1):\n",
    "    # I don't want you to 'pass' this in this class\n",
    "    pass\n",
    "else:\n",
    "    second_guess = get_guess(2)\n",
    "    if check_guess(second_guess, random_number, 2):\n",
    "        pass\n",
    "    else:\n",
    "        third_guess = get_guess(3)\n",
    "        if check_guess(third_guess, random_number, 3):\n",
    "            pass\n",
    "        else:\n",
    "            print(f\"Sorry! The number was {random_number}.\")"
   ]
  },
  {
   "cell_type": "markdown",
   "metadata": {},
   "source": [
    "Same as above, but this version written without using `pass`. If your instinct here is that things are starting to focus up nicely, I'm with you."
   ]
  },
  {
   "cell_type": "code",
   "execution_count": null,
   "metadata": {},
   "outputs": [],
   "source": [
    "print_header()\n",
    "\n",
    "random_number = random.randint(0, 10)\n",
    "# print the random_number again to make it easier to test\n",
    "print(random_number)\n",
    "\n",
    "first_guess = get_guess(1)\n",
    "if not check_guess(first_guess, random_number, 1):\n",
    "    second_guess = get_guess(2)\n",
    "    if not check_guess(second_guess, random_number, 2):\n",
    "        third_guess = get_guess(3)\n",
    "        if not check_guess(third_guess, random_number, 3):\n",
    "            print(f\"Sorry! The number was {random_number}.\")"
   ]
  },
  {
   "cell_type": "markdown",
   "metadata": {},
   "source": [
    "## Style 4\n",
    "\n",
    "What makes me itch about style 3 is we can see a chunk for 1, then for 2, then for 3. That screams -- *screams* -- loop."
   ]
  },
  {
   "cell_type": "code",
   "execution_count": null,
   "metadata": {},
   "outputs": [],
   "source": [
    "print_header(3)\n",
    "\n",
    "random_number = random.randint(0, 10)\n",
    "# print the random_number again to make it easier to test\n",
    "print(random_number)\n",
    "\n",
    "# I'm going to use a while loop, because it's a game with human's involved,\n",
    "# and human's are not always easy to set a 'for' loop to.\n",
    "\n",
    "# We need to start with guess #1\n",
    "count = 1\n",
    "\n",
    "# assume we haven't won yet\n",
    "win = False\n",
    "\n",
    "# stay in loop while we're still guessing, all the way to 3\n",
    "while count <= 3:\n",
    "\n",
    "    # count is going to go 1, 2, 3 just like our code in style 3.\n",
    "    first_guess = get_guess(count)\n",
    "    if check_guess(first_guess, random_number, count):\n",
    "        win = True\n",
    "        print(f\"You've won on try {count}.\")\n",
    "\n",
    "        # before we didn't have a way to drop out when we win. In a loop we do.\n",
    "        break\n",
    "\n",
    "    count += 1\n",
    "    # end while\n",
    "\n",
    "# we have to check to see if we've used up our guesses: if we haven't won, we've lost.\n",
    "if not win:\n",
    "    print(f\"Sorry! The number was {random_number}.\")"
   ]
  },
  {
   "cell_type": "markdown",
   "metadata": {},
   "source": [
    "## Style 5\n",
    "\n",
    "Now it's pretty tight. Time to wrap our code in a function.\n",
    "\n",
    "Don't get hung up on the function definition using optional parameters. Easy!"
   ]
  },
  {
   "cell_type": "code",
   "execution_count": null,
   "metadata": {},
   "outputs": [],
   "source": [
    "def numbersGame(number_of_guesses=3, debug=False):\n",
    "    \"\"\"\n",
    "    Guess a number between 0 and 10.\n",
    "\n",
    "    Parameters:\n",
    "      - number_of_guesses, an int that sets the number of guesses in the game\n",
    "      - debug: if True, print the random number for testing.\n",
    "      \n",
    "    Returns None on successful guess.\n",
    "    \"\"\"\n",
    "\n",
    "    print_header(number_of_guesses)\n",
    "\n",
    "    random_number = random.randint(0, 10)\n",
    "    if debug:\n",
    "        # print the random_number again to make it easier to test\n",
    "        print(random_number)\n",
    "\n",
    "    # I'm going to use a while loop, because it's a game with human's involved,\n",
    "    # and human's are not always easy to set a count to.\n",
    "\n",
    "    # We need to start with guess #1\n",
    "    count = 1\n",
    "\n",
    "    # stay in loop while we're still guessing, all the way to 3\n",
    "    while count <= number_of_guesses:\n",
    "\n",
    "        # count is going to go 1, 2, 3 just like our code in style 3.\n",
    "        first_guess = get_guess(count)\n",
    "        if check_guess(first_guess, random_number, count):\n",
    "\n",
    "            # adding a human touch to output strings is its own art\n",
    "            if count == 1:\n",
    "                try_string = \"try\"\n",
    "            else:\n",
    "                try_string = \"tries\"\n",
    "            print(f\"Congrats! You guessed it in {count} {try_string}.\")\n",
    "\n",
    "            # If we've guessed right, we're DONE. Leave the function.\n",
    "            return\n",
    "\n",
    "        # trust the indent; we're still in the while loop here\n",
    "        count += 1\n",
    "\n",
    "    # We don't need to check the win here, because we wouldn't _get_ here otherwise\n",
    "    print(f\"Sorry! The number was {random_number}.\")"
   ]
  },
  {
   "cell_type": "code",
   "execution_count": null,
   "metadata": {},
   "outputs": [],
   "source": [
    "# all the same:\n",
    "# numbersGame(3,False)\n",
    "# numbersGame(number_of_guesses=3, debug=False) # named arguments are best\n",
    "numbersGame()"
   ]
  },
  {
   "cell_type": "markdown",
   "metadata": {},
   "source": [
    "## Coda\n",
    "\n",
    "Showing the function with no comments. Don't let the size of a piece of code shake you. Note, I did pull out the try/tries formatting for clarity, but reflect on how that reads as a bit less friendly when playing the game. In style 5, lines 33-37, could you take that chunk and create a function for it?"
   ]
  },
  {
   "cell_type": "code",
   "execution_count": null,
   "metadata": {},
   "outputs": [],
   "source": [
    "def numbersGame(number_of_guesses=3, debug=False):\n",
    "\n",
    "    random_number = random.randint(0, 10)\n",
    "    if debug:\n",
    "        print(random_number)\n",
    "\n",
    "    print_header(number_of_guesses)\n",
    "\n",
    "    count = 1\n",
    "    while count <= number_of_guesses:\n",
    "\n",
    "        first_guess = get_guess(count)\n",
    "        if check_guess(first_guess, random_number, count):\n",
    "            print(f\"Congrats! You guessed it on try {count}.\")\n",
    "            return\n",
    "\n",
    "        count += 1\n",
    "\n",
    "    print(f\"Sorry! The number was {random_number}.\")"
   ]
  },
  {
   "cell_type": "code",
   "execution_count": null,
   "metadata": {},
   "outputs": [],
   "source": [
    "numbersGame()"
   ]
  },
  {
   "cell_type": "code",
   "execution_count": null,
   "metadata": {},
   "outputs": [],
   "source": []
  }
 ],
 "metadata": {
  "kernelspec": {
   "display_name": "Python 3",
   "language": "python",
   "name": "python3"
  },
  "language_info": {
   "codemirror_mode": {
    "name": "ipython",
    "version": 3
   },
   "file_extension": ".py",
   "mimetype": "text/x-python",
   "name": "python",
   "nbconvert_exporter": "python",
   "pygments_lexer": "ipython3",
   "version": "3.8.5"
  }
 },
 "nbformat": 4,
 "nbformat_minor": 4
}
