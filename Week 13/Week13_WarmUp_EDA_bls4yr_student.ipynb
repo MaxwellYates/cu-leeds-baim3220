{
 "cells": [
  {
   "cell_type": "markdown",
   "metadata": {},
   "source": [
    "# Week 13 Warm-Up\n",
    "## Analyzing the 4-year BLS Data\n",
    ">- Here we will be analyzing the combined cleaned BLS data called, `bls4yr`\n",
    ">- If you haven't exported your cleaned file you can do that with the following code:  `bls4yr.to_excel('bls4yr.xlsx',index=False)`"
   ]
  },
  {
   "cell_type": "markdown",
   "metadata": {},
   "source": [
    "Narration Video: https://youtu.be/NoljgqBdo1M"
   ]
  },
  {
   "cell_type": "code",
   "execution_count": null,
   "metadata": {},
   "outputs": [],
   "source": []
  },
  {
   "cell_type": "code",
   "execution_count": null,
   "metadata": {},
   "outputs": [],
   "source": []
  },
  {
   "cell_type": "markdown",
   "metadata": {},
   "source": [
    "### Q1. Create a DataFrame named `bls_amean`\n",
    ">- Include these fields from `bls4yr`\n",
    ">>- year, occ_title, a_mean\n",
    ">- Only include the records for \"major\" from the `group` field\n",
    ">>- You should have 88 total records in this new dataframe (There are 22 major groups, 4 years of data, so 88 total records)"
   ]
  },
  {
   "cell_type": "code",
   "execution_count": null,
   "metadata": {},
   "outputs": [],
   "source": []
  },
  {
   "cell_type": "markdown",
   "metadata": {},
   "source": [
    "### Q2: What is the overall average `a_mean` (annual average salary) over the 4 years of data?\n",
    ">- Round to two decimals"
   ]
  },
  {
   "cell_type": "code",
   "execution_count": null,
   "metadata": {},
   "outputs": [],
   "source": []
  },
  {
   "cell_type": "markdown",
   "metadata": {},
   "source": [
    "### Q3. What is the average annual salary for each major occupational title (occ_title)?\n",
    ">- Show the number of observations (count) used in the average calculation as well as the mean\n",
    ">- Sort the results in descending order\n",
    ">>- What occupational title had the highest average salary?"
   ]
  },
  {
   "cell_type": "code",
   "execution_count": null,
   "metadata": {
    "scrolled": true
   },
   "outputs": [],
   "source": []
  },
  {
   "cell_type": "markdown",
   "metadata": {},
   "source": [
    "### Q4. Try to plot the annual average salary (`a_mean`) across the 4 years of data \n",
    ">- In this case you want to plot the average salary across all occupations for each year (i.e., one data point per year representing the overall average salary for that year) \n",
    ">- We will go over plotting today in class but give this a try on your own first\n"
   ]
  },
  {
   "cell_type": "code",
   "execution_count": null,
   "metadata": {},
   "outputs": [],
   "source": []
  },
  {
   "cell_type": "code",
   "execution_count": null,
   "metadata": {},
   "outputs": [],
   "source": []
  },
  {
   "cell_type": "markdown",
   "metadata": {},
   "source": [
    "### Q5. If you got the plot by year, try to plot by year and occ_title\n",
    ">- This will show the annual salaries over time for each major occ_title"
   ]
  },
  {
   "cell_type": "code",
   "execution_count": null,
   "metadata": {
    "scrolled": true
   },
   "outputs": [],
   "source": []
  },
  {
   "cell_type": "code",
   "execution_count": null,
   "metadata": {},
   "outputs": [],
   "source": []
  },
  {
   "cell_type": "code",
   "execution_count": null,
   "metadata": {},
   "outputs": [],
   "source": []
  }
 ],
 "metadata": {
  "kernelspec": {
   "display_name": "Python 3",
   "language": "python",
   "name": "python3"
  },
  "language_info": {
   "codemirror_mode": {
    "name": "ipython",
    "version": 3
   },
   "file_extension": ".py",
   "mimetype": "text/x-python",
   "name": "python",
   "nbconvert_exporter": "python",
   "pygments_lexer": "ipython3",
   "version": "3.8.5"
  }
 },
 "nbformat": 4,
 "nbformat_minor": 2
}
