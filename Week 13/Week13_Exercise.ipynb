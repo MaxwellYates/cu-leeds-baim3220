{
 "cells": [
  {
   "cell_type": "markdown",
   "id": "secondary-influence",
   "metadata": {},
   "source": [
    "# Build up the BLS File\n",
    "\n",
    "Some of the visualization exercises use a 'bls' file which is provided. But you should find this exercise useful in understanding the read_excel() and concat() functions in Pandas."
   ]
  },
  {
   "cell_type": "code",
   "execution_count": null,
   "id": "differential-catering",
   "metadata": {},
   "outputs": [],
   "source": [
    "import pandas as pd"
   ]
  },
  {
   "cell_type": "markdown",
   "id": "earned-transcription",
   "metadata": {},
   "source": [
    "Create an empty DF called `bls` to hold our results."
   ]
  },
  {
   "cell_type": "code",
   "execution_count": null,
   "id": "specialized-brave",
   "metadata": {},
   "outputs": [],
   "source": [
    "bls = pd.DataFrame()"
   ]
  },
  {
   "cell_type": "markdown",
   "id": "entire-retreat",
   "metadata": {},
   "source": [
    "Read 'BLS2008.xlsx' into a dataframe named `bls2008`, insert a column called 'year' with the object/str value of \"2008\", as the first column in the dataframe. Concat this dataframe to the `bls` dataframe."
   ]
  },
  {
   "cell_type": "code",
   "execution_count": null,
   "id": "compact-finland",
   "metadata": {},
   "outputs": [],
   "source": []
  },
  {
   "cell_type": "code",
   "execution_count": null,
   "id": "incomplete-geneva",
   "metadata": {},
   "outputs": [],
   "source": [
    "# ASSERTIONS... don't change these\n",
    "assert bls2008.columns.get_loc(\"year\") == 0\n",
    "assert bls2008.shape == (823, 21)\n",
    "assert \"GROUP\" not in bls2008.columns\n",
    "assert pd.api.types.is_string_dtype(bls2008[\"year\"]), \"The year field needs to be a string\"\n",
    "\n",
    "assert bls.shape == (823, 21)\n",
    "assert \"GROUP\" not in bls.columns"
   ]
  },
  {
   "cell_type": "markdown",
   "id": "desperate-cardiff",
   "metadata": {},
   "source": [
    "Read 'BLS2009.xlsx' into a dataframe named bls2009, insert a column called 'year' with the object/str value of \"2009\", as the first column in the dataframe. Concat this dataframe to the bls dataframe."
   ]
  },
  {
   "cell_type": "code",
   "execution_count": null,
   "id": "super-lodge",
   "metadata": {},
   "outputs": [],
   "source": []
  },
  {
   "cell_type": "code",
   "execution_count": null,
   "id": "fluid-victor",
   "metadata": {},
   "outputs": [],
   "source": [
    "# ASSERTIONS... don't change these\n",
    "assert bls2009.columns.get_loc(\"year\") == 0\n",
    "assert bls2009.shape == (823, 21)\n",
    "assert \"GROUP\" not in bls2009.columns\n",
    "assert pd.api.types.is_string_dtype(bls2009[\"year\"]), \"The year field needs to be a string\"\n",
    "\n",
    "assert bls.shape == (1646, 21)\n",
    "assert \"GROUP\" not in bls.columns"
   ]
  },
  {
   "cell_type": "markdown",
   "id": "religious-hearing",
   "metadata": {},
   "source": [
    "Read 'BLS2010.xlsx' into a dataframe named bls2010, insert a column called 'year' with the object/str value of \"2010\", as the first column in the dataframe. Concat this dataframe to the bls dataframe."
   ]
  },
  {
   "cell_type": "code",
   "execution_count": null,
   "id": "answering-creature",
   "metadata": {},
   "outputs": [],
   "source": []
  },
  {
   "cell_type": "code",
   "execution_count": null,
   "id": "double-yesterday",
   "metadata": {},
   "outputs": [],
   "source": [
    "# ASSERTIONS... don't change these\n",
    "assert bls2010.columns.get_loc(\"year\") == 0\n",
    "assert bls2010.shape == (819, 21)\n",
    "assert (\n",
    "    \"GROUP\" not in bls2010.columns\n",
    "), \"Looks like the header fields in the file are upper-case!\"\n",
    "assert pd.api.types.is_string_dtype(bls2010[\"year\"]), \"The year field needs to be a string\"\n",
    "\n",
    "assert bls.shape == (2465, 21)\n",
    "assert \"GROUP\" not in bls.columns"
   ]
  },
  {
   "cell_type": "markdown",
   "id": "alive-nelson",
   "metadata": {},
   "source": [
    "Read 'BLS2011.xlsx' into a dataframe named bls2011, insert a column called 'year' with the object/str value of \"2011\", as the first column in the dataframe. Concat this dataframe to the bls dataframe."
   ]
  },
  {
   "cell_type": "code",
   "execution_count": null,
   "id": "finite-retreat",
   "metadata": {},
   "outputs": [],
   "source": []
  },
  {
   "cell_type": "code",
   "execution_count": null,
   "id": "embedded-longitude",
   "metadata": {},
   "outputs": [],
   "source": [
    "# ASSERTIONS... don't change these\n",
    "assert bls2011.columns.get_loc(\"year\") == 0\n",
    "assert bls2011.shape == (819, 21)\n",
    "assert (\n",
    "    \"GROUP\" not in bls2011.columns\n",
    "), \"Looks like the header fields in the file are upper-case!\"\n",
    "assert pd.api.types.is_string_dtype(bls2011[\"year\"]), \"The year field needs to be a string\"\n",
    "\n",
    "assert bls.shape == (3284, 21)\n",
    "assert \"GROUP\" not in bls.columns"
   ]
  },
  {
   "cell_type": "markdown",
   "id": "filled-adapter",
   "metadata": {},
   "source": [
    "Fill in any NaN's in the `group` column with the word \"detail\". Show the value counts for the `group` column."
   ]
  },
  {
   "cell_type": "code",
   "execution_count": null,
   "id": "hazardous-shoulder",
   "metadata": {},
   "outputs": [],
   "source": []
  },
  {
   "cell_type": "code",
   "execution_count": null,
   "id": "invisible-technology",
   "metadata": {},
   "outputs": [],
   "source": [
    "# ASSERTIONS... don't change these\n",
    "assert bls.group.value_counts()[\"detail\"] == 3192\n",
    "assert bls.group.value_counts()[\"major\"] == 88\n",
    "assert bls.group.value_counts()[\"total\"] == 4\n",
    "\n",
    "assert pd.api.types.is_string_dtype(bls[\"year\"]), \"The year field needs to be a string\""
   ]
  },
  {
   "cell_type": "markdown",
   "id": "theoretical-fairy",
   "metadata": {},
   "source": [
    "Write the `bls` dataframe to a file named `bls4yr.xlsx`. Ensure you set \"index=False\" when you write the file."
   ]
  },
  {
   "cell_type": "code",
   "execution_count": null,
   "id": "cleared-median",
   "metadata": {},
   "outputs": [],
   "source": []
  },
  {
   "cell_type": "code",
   "execution_count": null,
   "id": "emotional-uruguay",
   "metadata": {},
   "outputs": [],
   "source": [
    "# ASSERTIONS... don't change these\n",
    "import glob\n",
    "\n",
    "assert \"bls4yr.xlsx\" in glob.glob(\"bls4yr.xlsx\")"
   ]
  },
  {
   "cell_type": "markdown",
   "id": "expensive-retail",
   "metadata": {},
   "source": [
    "Read the `bls4yr_original.xlsx` file into a dataframe and show the value counts for the `group` column. Check these against what you just created. Same, right?"
   ]
  },
  {
   "cell_type": "code",
   "execution_count": null,
   "id": "analyzed-church",
   "metadata": {},
   "outputs": [],
   "source": [
    "bls4yr = pd.read_excel(\"bls4yr_original.xlsx\")\n",
    "bls4yr.group.value_counts()"
   ]
  },
  {
   "cell_type": "code",
   "execution_count": null,
   "id": "endless-prescription",
   "metadata": {},
   "outputs": [],
   "source": []
  }
 ],
 "metadata": {
  "kernelspec": {
   "display_name": "Python 3",
   "language": "python",
   "name": "python3"
  },
  "language_info": {
   "codemirror_mode": {
    "name": "ipython",
    "version": 3
   },
   "file_extension": ".py",
   "mimetype": "text/x-python",
   "name": "python",
   "nbconvert_exporter": "python",
   "pygments_lexer": "ipython3",
   "version": "3.8.5"
  }
 },
 "nbformat": 4,
 "nbformat_minor": 5
}
