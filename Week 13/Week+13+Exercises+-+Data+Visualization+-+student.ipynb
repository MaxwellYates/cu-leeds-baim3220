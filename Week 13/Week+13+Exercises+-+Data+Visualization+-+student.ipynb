{
 "cells": [
  {
   "cell_type": "markdown",
   "metadata": {},
   "source": [
    "# Week 13 Type-Along Exercise\n",
    "## Intro to Data Visualization in Python\n",
    "### Creating visualizations using `Matplotlib`\n",
    "\n",
    "Reference 1: [Matplotlib documentation](https://matplotlib.org/tutorials/index.html)\n",
    "\n",
    "Reference 2: [Matplotlib Cheat sheet](https://s3.amazonaws.com/assets.datacamp.com/blog_assets/Python_Matplotlib_Cheat_Sheet.pdf)\n",
    "\n",
    "### Learning Objectives\n",
    "1. Create various charts using python\n",
    "2. Explore time series data with line charts\n",
    "3. Compare categories of data with bar charts\n",
    "4. Compare groups of data with box plots\n",
    "5. Examine relationships between features with scatter plots"
   ]
  },
  {
   "cell_type": "markdown",
   "metadata": {},
   "source": [
    "### Data Visualization Notes\n",
    "\n",
    "1. Data visualization is one of the most powerful tools an analysts has\n",
    "2. Data visualization is a fundamental part of exploratory data analysis (EDA) and often helps us determine what to look at next\n",
    "3. Data visualization is a great communicator of data. Visuals help us tell a story much better than raw numbers"
   ]
  },
  {
   "cell_type": "markdown",
   "metadata": {},
   "source": [
    "Narration Videos:\n",
    "\n",
    "- Part 1: https://youtu.be/dyrALaR5oUk\n",
    "- Part 2: https://youtu.be/J1m1y1EU87g\n",
    "- Part 3: https://youtu.be/be9YzJn3uwI\n",
    "- Part 4: https://youtu.be/JIm5HdSy5EE\n",
    "- Part 5: https://youtu.be/CObS_kC5jbA"
   ]
  },
  {
   "cell_type": "markdown",
   "metadata": {},
   "source": [
    "# Section 1\n",
    "## Data Visualization Fundamentals\n",
    "\n",
    "In this section we will practice creating the following charts:\n",
    "\n",
    "1. line\n",
    "2. bar\n",
    "3. box\n",
    "4. scatter "
   ]
  },
  {
   "cell_type": "markdown",
   "metadata": {},
   "source": [
    "### Import necessary modules"
   ]
  },
  {
   "cell_type": "code",
   "execution_count": null,
   "metadata": {},
   "outputs": [],
   "source": []
  },
  {
   "cell_type": "markdown",
   "metadata": {},
   "source": [
    "### Creating a Line Plot\n",
    ">- Here, we will make up some data just to get familiar with syntax. Later you will apply these methods to other datasets (BLS, SaleCo, etc)"
   ]
  },
  {
   "cell_type": "code",
   "execution_count": null,
   "metadata": {},
   "outputs": [],
   "source": []
  },
  {
   "cell_type": "markdown",
   "metadata": {},
   "source": [
    "#### Now, plot the data using a line plot with `plt.plot()`"
   ]
  },
  {
   "cell_type": "code",
   "execution_count": null,
   "metadata": {},
   "outputs": [],
   "source": []
  },
  {
   "cell_type": "markdown",
   "metadata": {},
   "source": [
    "#### Now, let's add some features\n",
    ">- Graph Title with `plt.title()`\n",
    ">- Axis lables with `plt.xlabel` and `plt.ylabel`\n",
    ">- Adjust figure size with `plt.figure(figsize=(width, height))`"
   ]
  },
  {
   "cell_type": "code",
   "execution_count": null,
   "metadata": {},
   "outputs": [],
   "source": []
  },
  {
   "cell_type": "markdown",
   "metadata": {},
   "source": [
    "### Plotting multiple series on the same chart\n",
    "\n",
    ">- Within each plot() call we will pass different settings for the lines and markers\n",
    ">>- For example `plt.plot(x1, y1, \"r-x\", label=\"Actual\")`\n",
    ">>>- This plots x1 and y1 with a red (r) sold line (-) with \"x\" data markers"
   ]
  },
  {
   "cell_type": "code",
   "execution_count": null,
   "metadata": {},
   "outputs": [],
   "source": []
  },
  {
   "cell_type": "markdown",
   "metadata": {},
   "source": [
    "## Creating a Bar Plot"
   ]
  },
  {
   "cell_type": "markdown",
   "metadata": {},
   "source": [
    "##### First, create some data"
   ]
  },
  {
   "cell_type": "code",
   "execution_count": null,
   "metadata": {},
   "outputs": [],
   "source": []
  },
  {
   "cell_type": "markdown",
   "metadata": {},
   "source": [
    "##### Next, use `plt.bar()` to create a bar chart"
   ]
  },
  {
   "cell_type": "code",
   "execution_count": null,
   "metadata": {
    "scrolled": true
   },
   "outputs": [],
   "source": []
  },
  {
   "cell_type": "markdown",
   "metadata": {},
   "source": [
    "##### Add data labels with `zip()` and `annotate()`\n",
    "\n",
    ">- `zip()` pairs items items between iterators (lists, tuples, etc)\n",
    ">- `zip()` Reference: https://www.w3schools.com/python/ref_func_zip.asp\n",
    ">- `annotate()` Reference: https://matplotlib.org/3.3.2/api/_as_gen/matplotlib.pyplot.annotate.html"
   ]
  },
  {
   "cell_type": "code",
   "execution_count": null,
   "metadata": {},
   "outputs": [],
   "source": []
  },
  {
   "cell_type": "markdown",
   "metadata": {},
   "source": [
    "#### Now re-create our plot to show data labels"
   ]
  },
  {
   "cell_type": "code",
   "execution_count": null,
   "metadata": {},
   "outputs": [],
   "source": []
  },
  {
   "cell_type": "markdown",
   "metadata": {},
   "source": [
    "## Creating a Boxplot\n",
    ">- Boxplots are useful in situations where you want to compare a single metric (e.g., prices, units sold, heights, weights, etc) over time or when comparing categories (regions, country, gender, etc)"
   ]
  },
  {
   "cell_type": "code",
   "execution_count": null,
   "metadata": {},
   "outputs": [],
   "source": []
  },
  {
   "cell_type": "markdown",
   "metadata": {},
   "source": [
    "## Create a Scatter Plot"
   ]
  },
  {
   "cell_type": "markdown",
   "metadata": {},
   "source": [
    "##### First, we will create some random data for height and weight"
   ]
  },
  {
   "cell_type": "code",
   "execution_count": null,
   "metadata": {},
   "outputs": [],
   "source": []
  },
  {
   "cell_type": "markdown",
   "metadata": {},
   "source": [
    "##### Now plot using `plt.scatter()`"
   ]
  },
  {
   "cell_type": "code",
   "execution_count": null,
   "metadata": {},
   "outputs": [],
   "source": []
  }
 ],
 "metadata": {
  "kernelspec": {
   "display_name": "Python 3",
   "language": "python",
   "name": "python3"
  },
  "language_info": {
   "codemirror_mode": {
    "name": "ipython",
    "version": 3
   },
   "file_extension": ".py",
   "mimetype": "text/x-python",
   "name": "python",
   "nbconvert_exporter": "python",
   "pygments_lexer": "ipython3",
   "version": "3.8.5"
  }
 },
 "nbformat": 4,
 "nbformat_minor": 2
}
